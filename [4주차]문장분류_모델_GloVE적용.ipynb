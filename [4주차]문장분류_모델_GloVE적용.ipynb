{
  "nbformat": 4,
  "nbformat_minor": 0,
  "metadata": {
    "colab": {
      "name": "[4주차]문장분류 모델 GloVE적용.ipynb",
      "provenance": [],
      "collapsed_sections": [],
      "toc_visible": true
    },
    "kernelspec": {
      "name": "python3",
      "display_name": "Python 3"
    },
    "language_info": {
      "name": "python"
    }
  },
  "cells": [
    {
      "cell_type": "markdown",
      "metadata": {
        "id": "Jqwi3szLRUva"
      },
      "source": [
        "# 공손함 문장 분류 모델에 GloVe 벡터 적용\n",
        "- 데이터 : Stanford_politeness_corpus\n",
        "- CNN을 이용해서 문장을 여러 카테고리 중 하나로 분류하는 모델 생성, 미리 학습된 단어 벡터를 모델에 적용\n",
        "- GloVe : 단어 단위 임베딩 방법으로, 단어벡터공간 상에서 연산을 통한 의미 표현을 주요 목표로 갖고 있음 (단어간 동시 발생 비율을 벡터 공간 상 표시)\n"
      ]
    },
    {
      "cell_type": "code",
      "metadata": {
        "colab": {
          "base_uri": "https://localhost:8080/"
        },
        "id": "hAXwRfXLRNGQ",
        "outputId": "56a12965-4abe-4258-a31e-cd10c213e2f2"
      },
      "source": [
        "#관련 라이브러리 불러오기\n",
        "import os\n",
        "import pandas as pd\n",
        "import numpy as np\n",
        "from collections import Counter\n",
        "import nltk\n",
        "import matplotlib.pyplot as plt\n",
        "from nltk.tokenize import word_tokenize\n",
        "import tensorflow as tf\n",
        "from keras.preprocessing.sequence import pad_sequences\n",
        "from tensorflow import keras\n",
        "\n",
        "nltk.download('punkt')"
      ],
      "execution_count": null,
      "outputs": [
        {
          "output_type": "stream",
          "name": "stderr",
          "text": [
            "[nltk_data] Downloading package punkt to /root/nltk_data...\n",
            "[nltk_data]   Package punkt is already up-to-date!\n"
          ]
        },
        {
          "output_type": "execute_result",
          "data": {
            "text/plain": [
              "True"
            ]
          },
          "metadata": {},
          "execution_count": 1
        }
      ]
    },
    {
      "cell_type": "code",
      "metadata": {
        "id": "XtonREYgSQ6F"
      },
      "source": [
        "#Stanford 대학에서 구성한 공손함 데이터\n",
        "if not os.path.exists(\"Stanford_politeness_corpus.zip\"):\n",
        "  !wget http://www.cs.cornell.edu/~cristian/Politeness_files/Stanford_politeness_corpus.zip\n",
        "\n",
        "if not os.path.exists(\"Stanford_politeness_corpus/wikipedia.annotated.csv\"):\n",
        "  !unzip Stanford_politeness_corpus.zip"
      ],
      "execution_count": null,
      "outputs": []
    },
    {
      "cell_type": "markdown",
      "metadata": {
        "id": "wMdjQh6U22YN"
      },
      "source": [
        "\n",
        "\n",
        "```load_data(data_file):``` 함수로 데이터 불러오기\n",
        "- bottom quartile (공손하지 않음): 하위 25% (0으로 마킹)\n",
        "- top quartile (공손함): 상위 25% (1로 마킹)\n",
        "- neutral (중립적): (2로 마킹)"
      ]
    },
    {
      "cell_type": "code",
      "metadata": {
        "id": "ggzMFjuUSQ3B"
      },
      "source": [
        "def load_data(data_file):\n",
        "  data = pd.read_csv(data_file)\n",
        "\n",
        "  # Only use the top quartile as polite, and bottom quartile as impolite. Discard the rest.\n",
        "  quantiles = data[\"Normalized Score\"].quantile([0.25, 0.5, 0.75])\n",
        "  print(quantiles)\n",
        "\n",
        "  for i in range(len(data)):\n",
        "    score = data.loc[i, \"Normalized Score\"]\n",
        "    if score <= quantiles[0.25]:\n",
        "      # Bottom quartile (impolite).\n",
        "      data.loc[i, \"Normalized Score\"] = 0\n",
        "    elif score >= quantiles[0.75]:\n",
        "      # Top quartile (polite).\n",
        "      data.loc[i, \"Normalized Score\"] = 1\n",
        "    else:\n",
        "      # Neutral.\n",
        "      data.loc[i, \"Normalized Score\"] = 2\n",
        "\n",
        "  data[\"Normalized Score\"] = data[\"Normalized Score\"].astype(int)\n",
        "\n",
        "  # Discard neutral examples.\n",
        "  data = data[data[\"Normalized Score\"] < 2] #0(impolite)과 1(polite)만 가져감\n",
        "  data = data.sample(frac=1).reset_index(drop=True)\n",
        "\n",
        "  return data"
      ],
      "execution_count": null,
      "outputs": []
    },
    {
      "cell_type": "code",
      "metadata": {
        "colab": {
          "base_uri": "https://localhost:8080/",
          "height": 692
        },
        "id": "8P07UoesSQ05",
        "outputId": "e79420bc-c256-48c0-b28d-91a41e182f41"
      },
      "source": [
        "data = load_data(\"Stanford_politeness_corpus/wikipedia.annotated.csv\")\n",
        "pd.set_option('display.max_columns', None)\n",
        "\n",
        "data.head()"
      ],
      "execution_count": null,
      "outputs": [
        {
          "output_type": "stream",
          "name": "stdout",
          "text": [
            "0.25   -0.442633\n",
            "0.50    0.052339\n",
            "0.75    0.514399\n",
            "Name: Normalized Score, dtype: float64\n"
          ]
        },
        {
          "output_type": "execute_result",
          "data": {
            "text/plain": [
              "   Community      Id                                            Request  \\\n",
              "0  Wikipedia  393254  Oh that's charming, so instead of making a per...   \n",
              "1  Wikipedia  423536  And what, may I ask, is ''your'' relationship ...   \n",
              "2  Wikipedia   28255  If the deleted image only has a single charact...   \n",
              "3  Wikipedia  200038  I was just reminded of my offer to generate a ...   \n",
              "4  Wikipedia  351042                                         Hmm. Over?   \n",
              "\n",
              "   Score1  Score2  Score3  Score4  Score5         TurkId1         TurkId2  \\\n",
              "0       5       7       6       5       2  A233ONYNWKDIYF   AO5E3LWBYM72K   \n",
              "1       1      19      12       9       9  A1R4VG71V6XECZ  A2ULMYRKQMNNFG   \n",
              "2      17      17      25      17      20  A233ONYNWKDIYF   AEWF3138PFWEN   \n",
              "3      19      21      13      13      17   ANGX5PAAYGL9P   AVWFW00UYDVUD   \n",
              "4       9      12      13      11       9  A233ONYNWKDIYF   AYG3MF094634L   \n",
              "\n",
              "          TurkId3         TurkId4         TurkId5  Normalized Score  \n",
              "0  A3LXBP8T6JMY9B  A204JAK7QRDWVM  A1KC138MX47DXA                 0  \n",
              "1  A2UBXHCHM2I6IL  A1F4D2PZ7NNWTL  A13CO3B2BRXQLZ                 0  \n",
              "2  A1GWSZ4I2QGCNJ  A2ULMYRKQMNNFG   AZ1RJVNOZFIWV                 1  \n",
              "3  A1BJTTNDDFZ3ZP  A1TLLJDX8H4JP1  A1F4D2PZ7NNWTL                 1  \n",
              "4  A1F4D2PZ7NNWTL   AZ1RJVNOZFIWV   AZOAW8JH5HJJK                 0  "
            ],
            "text/html": [
              "\n",
              "  <div id=\"df-98a1fc43-81b4-45d8-9086-b94c9357435f\">\n",
              "    <div class=\"colab-df-container\">\n",
              "      <div>\n",
              "<style scoped>\n",
              "    .dataframe tbody tr th:only-of-type {\n",
              "        vertical-align: middle;\n",
              "    }\n",
              "\n",
              "    .dataframe tbody tr th {\n",
              "        vertical-align: top;\n",
              "    }\n",
              "\n",
              "    .dataframe thead th {\n",
              "        text-align: right;\n",
              "    }\n",
              "</style>\n",
              "<table border=\"1\" class=\"dataframe\">\n",
              "  <thead>\n",
              "    <tr style=\"text-align: right;\">\n",
              "      <th></th>\n",
              "      <th>Community</th>\n",
              "      <th>Id</th>\n",
              "      <th>Request</th>\n",
              "      <th>Score1</th>\n",
              "      <th>Score2</th>\n",
              "      <th>Score3</th>\n",
              "      <th>Score4</th>\n",
              "      <th>Score5</th>\n",
              "      <th>TurkId1</th>\n",
              "      <th>TurkId2</th>\n",
              "      <th>TurkId3</th>\n",
              "      <th>TurkId4</th>\n",
              "      <th>TurkId5</th>\n",
              "      <th>Normalized Score</th>\n",
              "    </tr>\n",
              "  </thead>\n",
              "  <tbody>\n",
              "    <tr>\n",
              "      <th>0</th>\n",
              "      <td>Wikipedia</td>\n",
              "      <td>393254</td>\n",
              "      <td>Oh that's charming, so instead of making a per...</td>\n",
              "      <td>5</td>\n",
              "      <td>7</td>\n",
              "      <td>6</td>\n",
              "      <td>5</td>\n",
              "      <td>2</td>\n",
              "      <td>A233ONYNWKDIYF</td>\n",
              "      <td>AO5E3LWBYM72K</td>\n",
              "      <td>A3LXBP8T6JMY9B</td>\n",
              "      <td>A204JAK7QRDWVM</td>\n",
              "      <td>A1KC138MX47DXA</td>\n",
              "      <td>0</td>\n",
              "    </tr>\n",
              "    <tr>\n",
              "      <th>1</th>\n",
              "      <td>Wikipedia</td>\n",
              "      <td>423536</td>\n",
              "      <td>And what, may I ask, is ''your'' relationship ...</td>\n",
              "      <td>1</td>\n",
              "      <td>19</td>\n",
              "      <td>12</td>\n",
              "      <td>9</td>\n",
              "      <td>9</td>\n",
              "      <td>A1R4VG71V6XECZ</td>\n",
              "      <td>A2ULMYRKQMNNFG</td>\n",
              "      <td>A2UBXHCHM2I6IL</td>\n",
              "      <td>A1F4D2PZ7NNWTL</td>\n",
              "      <td>A13CO3B2BRXQLZ</td>\n",
              "      <td>0</td>\n",
              "    </tr>\n",
              "    <tr>\n",
              "      <th>2</th>\n",
              "      <td>Wikipedia</td>\n",
              "      <td>28255</td>\n",
              "      <td>If the deleted image only has a single charact...</td>\n",
              "      <td>17</td>\n",
              "      <td>17</td>\n",
              "      <td>25</td>\n",
              "      <td>17</td>\n",
              "      <td>20</td>\n",
              "      <td>A233ONYNWKDIYF</td>\n",
              "      <td>AEWF3138PFWEN</td>\n",
              "      <td>A1GWSZ4I2QGCNJ</td>\n",
              "      <td>A2ULMYRKQMNNFG</td>\n",
              "      <td>AZ1RJVNOZFIWV</td>\n",
              "      <td>1</td>\n",
              "    </tr>\n",
              "    <tr>\n",
              "      <th>3</th>\n",
              "      <td>Wikipedia</td>\n",
              "      <td>200038</td>\n",
              "      <td>I was just reminded of my offer to generate a ...</td>\n",
              "      <td>19</td>\n",
              "      <td>21</td>\n",
              "      <td>13</td>\n",
              "      <td>13</td>\n",
              "      <td>17</td>\n",
              "      <td>ANGX5PAAYGL9P</td>\n",
              "      <td>AVWFW00UYDVUD</td>\n",
              "      <td>A1BJTTNDDFZ3ZP</td>\n",
              "      <td>A1TLLJDX8H4JP1</td>\n",
              "      <td>A1F4D2PZ7NNWTL</td>\n",
              "      <td>1</td>\n",
              "    </tr>\n",
              "    <tr>\n",
              "      <th>4</th>\n",
              "      <td>Wikipedia</td>\n",
              "      <td>351042</td>\n",
              "      <td>Hmm. Over?</td>\n",
              "      <td>9</td>\n",
              "      <td>12</td>\n",
              "      <td>13</td>\n",
              "      <td>11</td>\n",
              "      <td>9</td>\n",
              "      <td>A233ONYNWKDIYF</td>\n",
              "      <td>AYG3MF094634L</td>\n",
              "      <td>A1F4D2PZ7NNWTL</td>\n",
              "      <td>AZ1RJVNOZFIWV</td>\n",
              "      <td>AZOAW8JH5HJJK</td>\n",
              "      <td>0</td>\n",
              "    </tr>\n",
              "  </tbody>\n",
              "</table>\n",
              "</div>\n",
              "      <button class=\"colab-df-convert\" onclick=\"convertToInteractive('df-98a1fc43-81b4-45d8-9086-b94c9357435f')\"\n",
              "              title=\"Convert this dataframe to an interactive table.\"\n",
              "              style=\"display:none;\">\n",
              "        \n",
              "  <svg xmlns=\"http://www.w3.org/2000/svg\" height=\"24px\"viewBox=\"0 0 24 24\"\n",
              "       width=\"24px\">\n",
              "    <path d=\"M0 0h24v24H0V0z\" fill=\"none\"/>\n",
              "    <path d=\"M18.56 5.44l.94 2.06.94-2.06 2.06-.94-2.06-.94-.94-2.06-.94 2.06-2.06.94zm-11 1L8.5 8.5l.94-2.06 2.06-.94-2.06-.94L8.5 2.5l-.94 2.06-2.06.94zm10 10l.94 2.06.94-2.06 2.06-.94-2.06-.94-.94-2.06-.94 2.06-2.06.94z\"/><path d=\"M17.41 7.96l-1.37-1.37c-.4-.4-.92-.59-1.43-.59-.52 0-1.04.2-1.43.59L10.3 9.45l-7.72 7.72c-.78.78-.78 2.05 0 2.83L4 21.41c.39.39.9.59 1.41.59.51 0 1.02-.2 1.41-.59l7.78-7.78 2.81-2.81c.8-.78.8-2.07 0-2.86zM5.41 20L4 18.59l7.72-7.72 1.47 1.35L5.41 20z\"/>\n",
              "  </svg>\n",
              "      </button>\n",
              "      \n",
              "  <style>\n",
              "    .colab-df-container {\n",
              "      display:flex;\n",
              "      flex-wrap:wrap;\n",
              "      gap: 12px;\n",
              "    }\n",
              "\n",
              "    .colab-df-convert {\n",
              "      background-color: #E8F0FE;\n",
              "      border: none;\n",
              "      border-radius: 50%;\n",
              "      cursor: pointer;\n",
              "      display: none;\n",
              "      fill: #1967D2;\n",
              "      height: 32px;\n",
              "      padding: 0 0 0 0;\n",
              "      width: 32px;\n",
              "    }\n",
              "\n",
              "    .colab-df-convert:hover {\n",
              "      background-color: #E2EBFA;\n",
              "      box-shadow: 0px 1px 2px rgba(60, 64, 67, 0.3), 0px 1px 3px 1px rgba(60, 64, 67, 0.15);\n",
              "      fill: #174EA6;\n",
              "    }\n",
              "\n",
              "    [theme=dark] .colab-df-convert {\n",
              "      background-color: #3B4455;\n",
              "      fill: #D2E3FC;\n",
              "    }\n",
              "\n",
              "    [theme=dark] .colab-df-convert:hover {\n",
              "      background-color: #434B5C;\n",
              "      box-shadow: 0px 1px 3px 1px rgba(0, 0, 0, 0.15);\n",
              "      filter: drop-shadow(0px 1px 2px rgba(0, 0, 0, 0.3));\n",
              "      fill: #FFFFFF;\n",
              "    }\n",
              "  </style>\n",
              "\n",
              "      <script>\n",
              "        const buttonEl =\n",
              "          document.querySelector('#df-98a1fc43-81b4-45d8-9086-b94c9357435f button.colab-df-convert');\n",
              "        buttonEl.style.display =\n",
              "          google.colab.kernel.accessAllowed ? 'block' : 'none';\n",
              "\n",
              "        async function convertToInteractive(key) {\n",
              "          const element = document.querySelector('#df-98a1fc43-81b4-45d8-9086-b94c9357435f');\n",
              "          const dataTable =\n",
              "            await google.colab.kernel.invokeFunction('convertToInteractive',\n",
              "                                                     [key], {});\n",
              "          if (!dataTable) return;\n",
              "\n",
              "          const docLinkHtml = 'Like what you see? Visit the ' +\n",
              "            '<a target=\"_blank\" href=https://colab.research.google.com/notebooks/data_table.ipynb>data table notebook</a>'\n",
              "            + ' to learn more about interactive tables.';\n",
              "          element.innerHTML = '';\n",
              "          dataTable['output_type'] = 'display_data';\n",
              "          await google.colab.output.renderOutput(dataTable, element);\n",
              "          const docLink = document.createElement('div');\n",
              "          docLink.innerHTML = docLinkHtml;\n",
              "          element.appendChild(docLink);\n",
              "        }\n",
              "      </script>\n",
              "    </div>\n",
              "  </div>\n",
              "  "
            ]
          },
          "metadata": {},
          "execution_count": 4
        }
      ]
    },
    {
      "cell_type": "code",
      "source": [
        "data.loc[:,['Id', 'Request', 'Normalized Score']]"
      ],
      "metadata": {
        "colab": {
          "base_uri": "https://localhost:8080/",
          "height": 424
        },
        "id": "sXJ882MC_vlm",
        "outputId": "2c569f4e-5543-4d78-e46d-4261ef76261e"
      },
      "execution_count": null,
      "outputs": [
        {
          "output_type": "execute_result",
          "data": {
            "text/plain": [
              "          Id                                            Request  \\\n",
              "0     393254  Oh that's charming, so instead of making a per...   \n",
              "1     423536  And what, may I ask, is ''your'' relationship ...   \n",
              "2      28255  If the deleted image only has a single charact...   \n",
              "3     200038  I was just reminded of my offer to generate a ...   \n",
              "4     351042                                         Hmm. Over?   \n",
              "...      ...                                                ...   \n",
              "2173   83789  OK, I've started the deletion debate at <url>....   \n",
              "2174  621291  Why do you ask me questions to which you alrea...   \n",
              "2175  332363  Fair enough on the general murder victims. But...   \n",
              "2176  619630  Do you know how to make the 'All Star Template...   \n",
              "2177   34089  ... then you have to at least meet me half-way...   \n",
              "\n",
              "      Normalized Score  \n",
              "0                    0  \n",
              "1                    0  \n",
              "2                    1  \n",
              "3                    1  \n",
              "4                    0  \n",
              "...                ...  \n",
              "2173                 1  \n",
              "2174                 0  \n",
              "2175                 0  \n",
              "2176                 1  \n",
              "2177                 0  \n",
              "\n",
              "[2178 rows x 3 columns]"
            ],
            "text/html": [
              "\n",
              "  <div id=\"df-79431cde-21c6-4395-a4df-141c477eda96\">\n",
              "    <div class=\"colab-df-container\">\n",
              "      <div>\n",
              "<style scoped>\n",
              "    .dataframe tbody tr th:only-of-type {\n",
              "        vertical-align: middle;\n",
              "    }\n",
              "\n",
              "    .dataframe tbody tr th {\n",
              "        vertical-align: top;\n",
              "    }\n",
              "\n",
              "    .dataframe thead th {\n",
              "        text-align: right;\n",
              "    }\n",
              "</style>\n",
              "<table border=\"1\" class=\"dataframe\">\n",
              "  <thead>\n",
              "    <tr style=\"text-align: right;\">\n",
              "      <th></th>\n",
              "      <th>Id</th>\n",
              "      <th>Request</th>\n",
              "      <th>Normalized Score</th>\n",
              "    </tr>\n",
              "  </thead>\n",
              "  <tbody>\n",
              "    <tr>\n",
              "      <th>0</th>\n",
              "      <td>393254</td>\n",
              "      <td>Oh that's charming, so instead of making a per...</td>\n",
              "      <td>0</td>\n",
              "    </tr>\n",
              "    <tr>\n",
              "      <th>1</th>\n",
              "      <td>423536</td>\n",
              "      <td>And what, may I ask, is ''your'' relationship ...</td>\n",
              "      <td>0</td>\n",
              "    </tr>\n",
              "    <tr>\n",
              "      <th>2</th>\n",
              "      <td>28255</td>\n",
              "      <td>If the deleted image only has a single charact...</td>\n",
              "      <td>1</td>\n",
              "    </tr>\n",
              "    <tr>\n",
              "      <th>3</th>\n",
              "      <td>200038</td>\n",
              "      <td>I was just reminded of my offer to generate a ...</td>\n",
              "      <td>1</td>\n",
              "    </tr>\n",
              "    <tr>\n",
              "      <th>4</th>\n",
              "      <td>351042</td>\n",
              "      <td>Hmm. Over?</td>\n",
              "      <td>0</td>\n",
              "    </tr>\n",
              "    <tr>\n",
              "      <th>...</th>\n",
              "      <td>...</td>\n",
              "      <td>...</td>\n",
              "      <td>...</td>\n",
              "    </tr>\n",
              "    <tr>\n",
              "      <th>2173</th>\n",
              "      <td>83789</td>\n",
              "      <td>OK, I've started the deletion debate at &lt;url&gt;....</td>\n",
              "      <td>1</td>\n",
              "    </tr>\n",
              "    <tr>\n",
              "      <th>2174</th>\n",
              "      <td>621291</td>\n",
              "      <td>Why do you ask me questions to which you alrea...</td>\n",
              "      <td>0</td>\n",
              "    </tr>\n",
              "    <tr>\n",
              "      <th>2175</th>\n",
              "      <td>332363</td>\n",
              "      <td>Fair enough on the general murder victims. But...</td>\n",
              "      <td>0</td>\n",
              "    </tr>\n",
              "    <tr>\n",
              "      <th>2176</th>\n",
              "      <td>619630</td>\n",
              "      <td>Do you know how to make the 'All Star Template...</td>\n",
              "      <td>1</td>\n",
              "    </tr>\n",
              "    <tr>\n",
              "      <th>2177</th>\n",
              "      <td>34089</td>\n",
              "      <td>... then you have to at least meet me half-way...</td>\n",
              "      <td>0</td>\n",
              "    </tr>\n",
              "  </tbody>\n",
              "</table>\n",
              "<p>2178 rows × 3 columns</p>\n",
              "</div>\n",
              "      <button class=\"colab-df-convert\" onclick=\"convertToInteractive('df-79431cde-21c6-4395-a4df-141c477eda96')\"\n",
              "              title=\"Convert this dataframe to an interactive table.\"\n",
              "              style=\"display:none;\">\n",
              "        \n",
              "  <svg xmlns=\"http://www.w3.org/2000/svg\" height=\"24px\"viewBox=\"0 0 24 24\"\n",
              "       width=\"24px\">\n",
              "    <path d=\"M0 0h24v24H0V0z\" fill=\"none\"/>\n",
              "    <path d=\"M18.56 5.44l.94 2.06.94-2.06 2.06-.94-2.06-.94-.94-2.06-.94 2.06-2.06.94zm-11 1L8.5 8.5l.94-2.06 2.06-.94-2.06-.94L8.5 2.5l-.94 2.06-2.06.94zm10 10l.94 2.06.94-2.06 2.06-.94-2.06-.94-.94-2.06-.94 2.06-2.06.94z\"/><path d=\"M17.41 7.96l-1.37-1.37c-.4-.4-.92-.59-1.43-.59-.52 0-1.04.2-1.43.59L10.3 9.45l-7.72 7.72c-.78.78-.78 2.05 0 2.83L4 21.41c.39.39.9.59 1.41.59.51 0 1.02-.2 1.41-.59l7.78-7.78 2.81-2.81c.8-.78.8-2.07 0-2.86zM5.41 20L4 18.59l7.72-7.72 1.47 1.35L5.41 20z\"/>\n",
              "  </svg>\n",
              "      </button>\n",
              "      \n",
              "  <style>\n",
              "    .colab-df-container {\n",
              "      display:flex;\n",
              "      flex-wrap:wrap;\n",
              "      gap: 12px;\n",
              "    }\n",
              "\n",
              "    .colab-df-convert {\n",
              "      background-color: #E8F0FE;\n",
              "      border: none;\n",
              "      border-radius: 50%;\n",
              "      cursor: pointer;\n",
              "      display: none;\n",
              "      fill: #1967D2;\n",
              "      height: 32px;\n",
              "      padding: 0 0 0 0;\n",
              "      width: 32px;\n",
              "    }\n",
              "\n",
              "    .colab-df-convert:hover {\n",
              "      background-color: #E2EBFA;\n",
              "      box-shadow: 0px 1px 2px rgba(60, 64, 67, 0.3), 0px 1px 3px 1px rgba(60, 64, 67, 0.15);\n",
              "      fill: #174EA6;\n",
              "    }\n",
              "\n",
              "    [theme=dark] .colab-df-convert {\n",
              "      background-color: #3B4455;\n",
              "      fill: #D2E3FC;\n",
              "    }\n",
              "\n",
              "    [theme=dark] .colab-df-convert:hover {\n",
              "      background-color: #434B5C;\n",
              "      box-shadow: 0px 1px 3px 1px rgba(0, 0, 0, 0.15);\n",
              "      filter: drop-shadow(0px 1px 2px rgba(0, 0, 0, 0.3));\n",
              "      fill: #FFFFFF;\n",
              "    }\n",
              "  </style>\n",
              "\n",
              "      <script>\n",
              "        const buttonEl =\n",
              "          document.querySelector('#df-79431cde-21c6-4395-a4df-141c477eda96 button.colab-df-convert');\n",
              "        buttonEl.style.display =\n",
              "          google.colab.kernel.accessAllowed ? 'block' : 'none';\n",
              "\n",
              "        async function convertToInteractive(key) {\n",
              "          const element = document.querySelector('#df-79431cde-21c6-4395-a4df-141c477eda96');\n",
              "          const dataTable =\n",
              "            await google.colab.kernel.invokeFunction('convertToInteractive',\n",
              "                                                     [key], {});\n",
              "          if (!dataTable) return;\n",
              "\n",
              "          const docLinkHtml = 'Like what you see? Visit the ' +\n",
              "            '<a target=\"_blank\" href=https://colab.research.google.com/notebooks/data_table.ipynb>data table notebook</a>'\n",
              "            + ' to learn more about interactive tables.';\n",
              "          element.innerHTML = '';\n",
              "          dataTable['output_type'] = 'display_data';\n",
              "          await google.colab.output.renderOutput(dataTable, element);\n",
              "          const docLink = document.createElement('div');\n",
              "          docLink.innerHTML = docLinkHtml;\n",
              "          element.appendChild(docLink);\n",
              "        }\n",
              "      </script>\n",
              "    </div>\n",
              "  </div>\n",
              "  "
            ]
          },
          "metadata": {},
          "execution_count": 5
        }
      ]
    },
    {
      "cell_type": "markdown",
      "source": [
        "## 단어임베딩"
      ],
      "metadata": {
        "id": "aBFkOoN-DlV9"
      }
    },
    {
      "cell_type": "markdown",
      "metadata": {
        "id": "CUwDQ4wSSvT_"
      },
      "source": [
        "다음으로 할 일은 사전을 구성하는 것입니다.\n",
        "\n",
        "신경망의 입력으로 사용하기 위해서는 문장을 숫자로 바꿔야 하는데, 사전의 역할은 단어를 숫자로, 숫자를 단어로 바꿔주는 것입니다. (단어 임베딩의 역할)\n",
        "- 빠른 계산을 위해 dictionary 자료구조 사용\n",
        "\n",
        "1. 문장들을 소문자로 바꾸고, tokenization (nltk.tokenize 패키지의 word_tokenize 함수 활용)\n",
        "2. 전체 데이터에서 각 토큰들의 등장 빈도 확인 (collections 패키지의 Counter 클래스 활용)\n",
        "3. 가장 등장 빈도가 높은 단어를 vocab_size 만큼 선택 (Counter의 most_common 함수 활용)\n",
        "4. 각각의 단어에 고유한 숫자 부여. 이때, 0번째 토큰은 \"\n",
        "5. 토큰 -> 숫자 변환을 위한 dictionary (word_index 변수에 할당)\n",
        "<br>숫자 -> 토큰 변환을 위한 dictionary (word_inverted_index 변수에 할당) 생성"
      ]
    },
    {
      "cell_type": "code",
      "metadata": {
        "id": "K0NvI1_AWx_y"
      },
      "source": [
        "#1) 정규표현식 (문자 제거)\n",
        "import re\n",
        "\n",
        "#텍스트 정제 함수: 문자는 모두 제거\n",
        "def text_cleaning(text):\n",
        "    hangul = re.compile('[^a-zA-z]') #영어와 띄어쓰기를 제외한 모든 글자 \n",
        "    #hangul = re.compile('[^ \\u3131-\\u3163\\uac00-\\ud7a3]+') 위와 동일\n",
        "    result = hangul.sub(' ', str(text))\n",
        "    return(result)"
      ],
      "execution_count": null,
      "outputs": []
    },
    {
      "cell_type": "code",
      "metadata": {
        "colab": {
          "base_uri": "https://localhost:8080/",
          "height": 424
        },
        "id": "Nc092Y4_XKDB",
        "outputId": "a13f7ea5-98b5-4c04-9eec-208218a330c9"
      },
      "source": [
        "for i in range(len(data)):\n",
        "  data.loc[i, 'Request'] = text_cleaning(data['Request'][i])\n",
        "  \n",
        "data.loc[:,['Id', 'Request', 'Normalized Score']]"
      ],
      "execution_count": null,
      "outputs": [
        {
          "output_type": "execute_result",
          "data": {
            "text/plain": [
              "          Id                                            Request  \\\n",
              "0     393254  Oh that s charming  so instead of making a per...   \n",
              "1     423536  And what  may I ask  is   your   relationship ...   \n",
              "2      28255  If the deleted image only has a single charact...   \n",
              "3     200038  I was just reminded of my offer to generate a ...   \n",
              "4     351042                                         Hmm  Over    \n",
              "...      ...                                                ...   \n",
              "2173   83789  OK  I ve started the deletion debate at  url  ...   \n",
              "2174  621291  Why do you ask me questions to which you alrea...   \n",
              "2175  332363  Fair enough on the general murder victims  But...   \n",
              "2176  619630  Do you know how to make the  All Star Template...   \n",
              "2177   34089      then you have to at least meet me half way...   \n",
              "\n",
              "      Normalized Score  \n",
              "0                    0  \n",
              "1                    0  \n",
              "2                    1  \n",
              "3                    1  \n",
              "4                    0  \n",
              "...                ...  \n",
              "2173                 1  \n",
              "2174                 0  \n",
              "2175                 0  \n",
              "2176                 1  \n",
              "2177                 0  \n",
              "\n",
              "[2178 rows x 3 columns]"
            ],
            "text/html": [
              "\n",
              "  <div id=\"df-325aee9f-d617-4238-a437-dcc9b784059d\">\n",
              "    <div class=\"colab-df-container\">\n",
              "      <div>\n",
              "<style scoped>\n",
              "    .dataframe tbody tr th:only-of-type {\n",
              "        vertical-align: middle;\n",
              "    }\n",
              "\n",
              "    .dataframe tbody tr th {\n",
              "        vertical-align: top;\n",
              "    }\n",
              "\n",
              "    .dataframe thead th {\n",
              "        text-align: right;\n",
              "    }\n",
              "</style>\n",
              "<table border=\"1\" class=\"dataframe\">\n",
              "  <thead>\n",
              "    <tr style=\"text-align: right;\">\n",
              "      <th></th>\n",
              "      <th>Id</th>\n",
              "      <th>Request</th>\n",
              "      <th>Normalized Score</th>\n",
              "    </tr>\n",
              "  </thead>\n",
              "  <tbody>\n",
              "    <tr>\n",
              "      <th>0</th>\n",
              "      <td>393254</td>\n",
              "      <td>Oh that s charming  so instead of making a per...</td>\n",
              "      <td>0</td>\n",
              "    </tr>\n",
              "    <tr>\n",
              "      <th>1</th>\n",
              "      <td>423536</td>\n",
              "      <td>And what  may I ask  is   your   relationship ...</td>\n",
              "      <td>0</td>\n",
              "    </tr>\n",
              "    <tr>\n",
              "      <th>2</th>\n",
              "      <td>28255</td>\n",
              "      <td>If the deleted image only has a single charact...</td>\n",
              "      <td>1</td>\n",
              "    </tr>\n",
              "    <tr>\n",
              "      <th>3</th>\n",
              "      <td>200038</td>\n",
              "      <td>I was just reminded of my offer to generate a ...</td>\n",
              "      <td>1</td>\n",
              "    </tr>\n",
              "    <tr>\n",
              "      <th>4</th>\n",
              "      <td>351042</td>\n",
              "      <td>Hmm  Over</td>\n",
              "      <td>0</td>\n",
              "    </tr>\n",
              "    <tr>\n",
              "      <th>...</th>\n",
              "      <td>...</td>\n",
              "      <td>...</td>\n",
              "      <td>...</td>\n",
              "    </tr>\n",
              "    <tr>\n",
              "      <th>2173</th>\n",
              "      <td>83789</td>\n",
              "      <td>OK  I ve started the deletion debate at  url  ...</td>\n",
              "      <td>1</td>\n",
              "    </tr>\n",
              "    <tr>\n",
              "      <th>2174</th>\n",
              "      <td>621291</td>\n",
              "      <td>Why do you ask me questions to which you alrea...</td>\n",
              "      <td>0</td>\n",
              "    </tr>\n",
              "    <tr>\n",
              "      <th>2175</th>\n",
              "      <td>332363</td>\n",
              "      <td>Fair enough on the general murder victims  But...</td>\n",
              "      <td>0</td>\n",
              "    </tr>\n",
              "    <tr>\n",
              "      <th>2176</th>\n",
              "      <td>619630</td>\n",
              "      <td>Do you know how to make the  All Star Template...</td>\n",
              "      <td>1</td>\n",
              "    </tr>\n",
              "    <tr>\n",
              "      <th>2177</th>\n",
              "      <td>34089</td>\n",
              "      <td>then you have to at least meet me half way...</td>\n",
              "      <td>0</td>\n",
              "    </tr>\n",
              "  </tbody>\n",
              "</table>\n",
              "<p>2178 rows × 3 columns</p>\n",
              "</div>\n",
              "      <button class=\"colab-df-convert\" onclick=\"convertToInteractive('df-325aee9f-d617-4238-a437-dcc9b784059d')\"\n",
              "              title=\"Convert this dataframe to an interactive table.\"\n",
              "              style=\"display:none;\">\n",
              "        \n",
              "  <svg xmlns=\"http://www.w3.org/2000/svg\" height=\"24px\"viewBox=\"0 0 24 24\"\n",
              "       width=\"24px\">\n",
              "    <path d=\"M0 0h24v24H0V0z\" fill=\"none\"/>\n",
              "    <path d=\"M18.56 5.44l.94 2.06.94-2.06 2.06-.94-2.06-.94-.94-2.06-.94 2.06-2.06.94zm-11 1L8.5 8.5l.94-2.06 2.06-.94-2.06-.94L8.5 2.5l-.94 2.06-2.06.94zm10 10l.94 2.06.94-2.06 2.06-.94-2.06-.94-.94-2.06-.94 2.06-2.06.94z\"/><path d=\"M17.41 7.96l-1.37-1.37c-.4-.4-.92-.59-1.43-.59-.52 0-1.04.2-1.43.59L10.3 9.45l-7.72 7.72c-.78.78-.78 2.05 0 2.83L4 21.41c.39.39.9.59 1.41.59.51 0 1.02-.2 1.41-.59l7.78-7.78 2.81-2.81c.8-.78.8-2.07 0-2.86zM5.41 20L4 18.59l7.72-7.72 1.47 1.35L5.41 20z\"/>\n",
              "  </svg>\n",
              "      </button>\n",
              "      \n",
              "  <style>\n",
              "    .colab-df-container {\n",
              "      display:flex;\n",
              "      flex-wrap:wrap;\n",
              "      gap: 12px;\n",
              "    }\n",
              "\n",
              "    .colab-df-convert {\n",
              "      background-color: #E8F0FE;\n",
              "      border: none;\n",
              "      border-radius: 50%;\n",
              "      cursor: pointer;\n",
              "      display: none;\n",
              "      fill: #1967D2;\n",
              "      height: 32px;\n",
              "      padding: 0 0 0 0;\n",
              "      width: 32px;\n",
              "    }\n",
              "\n",
              "    .colab-df-convert:hover {\n",
              "      background-color: #E2EBFA;\n",
              "      box-shadow: 0px 1px 2px rgba(60, 64, 67, 0.3), 0px 1px 3px 1px rgba(60, 64, 67, 0.15);\n",
              "      fill: #174EA6;\n",
              "    }\n",
              "\n",
              "    [theme=dark] .colab-df-convert {\n",
              "      background-color: #3B4455;\n",
              "      fill: #D2E3FC;\n",
              "    }\n",
              "\n",
              "    [theme=dark] .colab-df-convert:hover {\n",
              "      background-color: #434B5C;\n",
              "      box-shadow: 0px 1px 3px 1px rgba(0, 0, 0, 0.15);\n",
              "      filter: drop-shadow(0px 1px 2px rgba(0, 0, 0, 0.3));\n",
              "      fill: #FFFFFF;\n",
              "    }\n",
              "  </style>\n",
              "\n",
              "      <script>\n",
              "        const buttonEl =\n",
              "          document.querySelector('#df-325aee9f-d617-4238-a437-dcc9b784059d button.colab-df-convert');\n",
              "        buttonEl.style.display =\n",
              "          google.colab.kernel.accessAllowed ? 'block' : 'none';\n",
              "\n",
              "        async function convertToInteractive(key) {\n",
              "          const element = document.querySelector('#df-325aee9f-d617-4238-a437-dcc9b784059d');\n",
              "          const dataTable =\n",
              "            await google.colab.kernel.invokeFunction('convertToInteractive',\n",
              "                                                     [key], {});\n",
              "          if (!dataTable) return;\n",
              "\n",
              "          const docLinkHtml = 'Like what you see? Visit the ' +\n",
              "            '<a target=\"_blank\" href=https://colab.research.google.com/notebooks/data_table.ipynb>data table notebook</a>'\n",
              "            + ' to learn more about interactive tables.';\n",
              "          element.innerHTML = '';\n",
              "          dataTable['output_type'] = 'display_data';\n",
              "          await google.colab.output.renderOutput(dataTable, element);\n",
              "          const docLink = document.createElement('div');\n",
              "          docLink.innerHTML = docLinkHtml;\n",
              "          element.appendChild(docLink);\n",
              "        }\n",
              "      </script>\n",
              "    </div>\n",
              "  </div>\n",
              "  "
            ]
          },
          "metadata": {},
          "execution_count": 7
        }
      ]
    },
    {
      "cell_type": "code",
      "metadata": {
        "colab": {
          "base_uri": "https://localhost:8080/"
        },
        "id": "J3LpxwqjSQym",
        "outputId": "a1778121-237b-4e17-88bb-605437df48d9"
      },
      "source": [
        "vocab_size = 5000\n",
        "# we assign the first indices in the vocabulary to special tokens that we use\n",
        "# for padding, and for indicating unknown words\n",
        "pad_id = 0\n",
        "oov_id = 1\n",
        "index_offset = 1\n",
        "\n",
        "#사전 구성(단어집)\n",
        "def make_vocab(sentences):\n",
        "  word_counter = Counter()\n",
        "\n",
        "  for sent in sentences:\n",
        "    tokens = word_tokenize(sent.lower()) #소문자로 바꿔주기\n",
        "    word_counter.update(tokens) #tokenization\n",
        "  \n",
        "  most_common = word_counter.most_common() #등장빈도 확인 후 가장 고빈도의 단어 선택\n",
        "  print(\"고빈도 단어:\")\n",
        "  for k, v in most_common[:10]:\n",
        "    print(k, \": \", v)\n",
        "  \n",
        "  vocab = { #각 단어에 고유한 숫자 번호 부여(pad_id, oov_id)\n",
        "      '<PAD>': pad_id,\n",
        "      '<OOV>': oov_id\n",
        "  }\n",
        "  for i, (word, cnt) in enumerate(most_common, start=index_offset+1):\n",
        "    vocab[word] = i\n",
        "    if len(vocab) >= vocab_size:\n",
        "      break\n",
        "  \n",
        "  return vocab\n",
        "  \n",
        "sentences = data[\"Request\"].tolist()\n",
        "word_index = make_vocab(sentences)\n",
        "word_inverted_index = {v:k for k, v in word_index.items()}\n",
        "\n",
        "print(\"\\n단어 사전:\")\n",
        "for i in range(0, 10):\n",
        "  print(i, word_inverted_index[i])\n",
        "  \n",
        "print(\"\\n단어 사전 크기: \", len(word_index))"
      ],
      "execution_count": null,
      "outputs": [
        {
          "output_type": "stream",
          "name": "stdout",
          "text": [
            "고빈도 단어:\n",
            "the :  2506\n",
            "you :  2241\n",
            "to :  1702\n",
            "i :  1694\n",
            "a :  1140\n",
            "it :  964\n",
            "that :  936\n",
            "of :  860\n",
            "and :  798\n",
            "is :  778\n",
            "\n",
            "단어 사전:\n",
            "0 <PAD>\n",
            "1 <OOV>\n",
            "2 the\n",
            "3 you\n",
            "4 to\n",
            "5 i\n",
            "6 a\n",
            "7 it\n",
            "8 that\n",
            "9 of\n",
            "\n",
            "단어 사전 크기:  5000\n"
          ]
        }
      ]
    },
    {
      "cell_type": "code",
      "metadata": {
        "colab": {
          "base_uri": "https://localhost:8080/"
        },
        "id": "2714TrX9SQwF",
        "outputId": "651ec577-a564-41eb-f3ed-e0543cca9ee6"
      },
      "source": [
        "def index_to_text(indexes): #숫자 -> 토큰\n",
        "  return ' '.join([word_inverted_index[i] for i in indexes])\n",
        "  \n",
        "def text_to_index(text): #토큰 -> 숫자\n",
        "  tokens = tokens = word_tokenize(text.lower())\n",
        "  indexes = []\n",
        "  for tok in tokens:\n",
        "    if tok in word_index:\n",
        "      indexes.append(word_index[tok])\n",
        "    else:\n",
        "      indexes.append(oov_id)\n",
        "      \n",
        "  return indexes\n",
        "\n",
        "print(\"원본: \", sentences[0])\n",
        "ids = text_to_index(sentences[0])\n",
        "print(\"문자 -> 숫자: \", ids)\n",
        "print(\"숫자 -> 문자: \", index_to_text(ids))"
      ],
      "execution_count": null,
      "outputs": [
        {
          "output_type": "stream",
          "name": "stdout",
          "text": [
            "원본:  Oh that s charming  so instead of making a personal attack on a single editor you made it on a class of editors  Does that somehow make it more ok \n",
            "문자 -> 숫자:  [406, 8, 22, 1746, 42, 250, 9, 300, 6, 356, 488, 15, 6, 515, 267, 3, 103, 7, 15, 6, 546, 9, 340, 79, 8, 1337, 96, 7, 69, 104]\n",
            "숫자 -> 문자:  oh that s charming so instead of making a personal attack on a single editor you made it on a class of editors does that somehow make it more ok\n"
          ]
        }
      ]
    },
    {
      "cell_type": "markdown",
      "metadata": {
        "id": "Mk0fnbH1T5L-"
      },
      "source": [
        "숫자로 바뀐 문장들을 학습 데이터로 사용할 수 있도록 변형하겠습니다.\n",
        "\n",
        "1. 모든 문장들을 동일한 길이가 되도록 padding 처리하거나 자름 (tensorflow.python.keras.preprocessing.sequence 패키지의 pad_sequence 함수 활용)\n",
        "2. 데이터의 일부(10%)를 테스트 데이터로 분리"
      ]
    },
    {
      "cell_type": "code",
      "metadata": {
        "colab": {
          "base_uri": "https://localhost:8080/"
        },
        "id": "5VHzby8LSQn0",
        "outputId": "4b08205c-cf55-4a20-cd38-055c4ceb7040"
      },
      "source": [
        "x_variable = [text_to_index(sent) for sent in sentences]\n",
        "\n",
        "#모든 문장 동일한 길이 -> padding 처리\n",
        "sentence_size = 200\n",
        "x_padded = pad_sequences(x_variable,\n",
        "                                 maxlen=sentence_size,\n",
        "                                 truncating='post',\n",
        "                                 padding='post',\n",
        "                                 value=pad_id)\n",
        "\n",
        "#data셋 중에서 10%만 테스트 데이터로 분리\n",
        "n_test = len(data) // 10\n",
        "test_inputs = x_padded[:n_test]\n",
        "train_inputs = x_padded[n_test:]\n",
        "\n",
        "ys = np.array(data[\"Normalized Score\"].tolist())\n",
        "test_labels = ys[:n_test]\n",
        "train_labels = ys[n_test:]\n",
        "\n",
        "print(\"test_inputs shape: \", test_inputs.shape)\n",
        "print(\"train_inputs shape: \", train_inputs.shape)\n",
        "print(\"test_labels shape: \", test_labels.shape)\n",
        "print(\"train_labels shape: \", train_labels.shape)"
      ],
      "execution_count": null,
      "outputs": [
        {
          "output_type": "stream",
          "name": "stdout",
          "text": [
            "test_inputs shape:  (217, 200)\n",
            "train_inputs shape:  (1961, 200)\n",
            "test_labels shape:  (217,)\n",
            "train_labels shape:  (1961,)\n"
          ]
        }
      ]
    },
    {
      "cell_type": "markdown",
      "metadata": {
        "id": "dRJpcrLuUK4s"
      },
      "source": [
        "keras.Sequential을 이용하여 CNN 모델을 구성해봅시다. Sequential 모델을 사용하려면 동일한 크기의 필터만 사용할 수 있습니다.\n",
        "\n",
        "참고 함수:\n",
        "- keras.layers.Embedding\n",
        "https://www.tensorflow.org/api_docs/python/tf/keras/layers/Embedding (단어 임베딩 계층)\n",
        "\n",
        "- keras.layers.Conv1D\n",
        "https://www.tensorflow.org/api_docs/python/tf/keras/layers/Conv1D (Convolutional 계층)\n",
        "\n",
        "- keras.layers.GlobalMaxPool1D\n",
        "https://www.tensorflow.org/api_docs/python/tf/keras/layers/GlobalMaxPool1D (Pooling 계층)\n",
        "\n",
        "- keras.layers.Dense\n",
        "https://www.tensorflow.org/api_docs/python/tf/keras/layers/Dense <br>\n",
        "(Dense 계층, input/output shape를 특정짓는 계층)"
      ]
    },
    {
      "cell_type": "markdown",
      "source": [
        "## 모델1: 기본 CNN"
      ],
      "metadata": {
        "id": "5vZ7VvC5DwAf"
      }
    },
    {
      "cell_type": "code",
      "metadata": {
        "id": "LUBlcsXKUKls"
      },
      "source": [
        "model = keras.Sequential([\n",
        "    keras.layers.Embedding(vocab_size, 50),\n",
        "    keras.layers.Conv1D(32, 3, padding=\"same\", activation=tf.nn.relu),\n",
        "    keras.layers.GlobalMaxPool1D(),\n",
        "    keras.layers.Dense(2, activation=tf.nn.softmax)\n",
        "])"
      ],
      "execution_count": null,
      "outputs": []
    },
    {
      "cell_type": "code",
      "metadata": {
        "id": "kA04SZ_xUKga"
      },
      "source": [
        "#학습 결과 시각화\n",
        "def plot_loss(history):\n",
        "  plt.figure(figsize=(6,5))\n",
        "  val = plt.plot(history.epoch, history.history['val_loss'],\n",
        "                 '--', label='Test')\n",
        "  plt.plot(history.epoch, history.history['loss'], color=val[0].get_color(),\n",
        "           label='Train')\n",
        "\n",
        "  plt.xlabel('Epochs')\n",
        "  plt.ylabel(\"Loss\")\n",
        "  plt.legend()\n",
        "\n",
        "  plt.xlim([0,max(history.epoch)])\n",
        "\n",
        "#성능 측정\n",
        "def eval_model(model):\n",
        "  test_loss, test_acc = model.evaluate(test_inputs, test_labels)\n",
        "  print('Test accuracy:', test_acc)"
      ],
      "execution_count": null,
      "outputs": []
    },
    {
      "cell_type": "code",
      "metadata": {
        "colab": {
          "base_uri": "https://localhost:8080/",
          "height": 765
        },
        "id": "XJ5v0UcmUH51",
        "outputId": "d7138cdf-0c6f-43dc-e926-2d8dbe594ab5"
      },
      "source": [
        "#모델 학습\n",
        "model.compile(optimizer='adam', \n",
        "              loss='sparse_categorical_crossentropy',\n",
        "              metrics=['accuracy'])\n",
        "\n",
        "history = model.fit(train_inputs,\n",
        "          train_labels,\n",
        "          epochs=10,\n",
        "          validation_data=(test_inputs, test_labels)\n",
        "         )\n",
        "\n",
        "plot_loss(history)\n",
        "eval_model(model)"
      ],
      "execution_count": null,
      "outputs": [
        {
          "output_type": "stream",
          "name": "stdout",
          "text": [
            "Epoch 1/10\n",
            "62/62 [==============================] - 2s 20ms/step - loss: 0.6853 - accuracy: 0.6145 - val_loss: 0.6696 - val_accuracy: 0.6728\n",
            "Epoch 2/10\n",
            "62/62 [==============================] - 1s 17ms/step - loss: 0.6033 - accuracy: 0.8480 - val_loss: 0.5803 - val_accuracy: 0.7604\n",
            "Epoch 3/10\n",
            "62/62 [==============================] - 1s 17ms/step - loss: 0.4495 - accuracy: 0.8740 - val_loss: 0.5009 - val_accuracy: 0.7742\n",
            "Epoch 4/10\n",
            "62/62 [==============================] - 1s 17ms/step - loss: 0.2985 - accuracy: 0.9215 - val_loss: 0.4821 - val_accuracy: 0.7788\n",
            "Epoch 5/10\n",
            "62/62 [==============================] - 1s 17ms/step - loss: 0.1906 - accuracy: 0.9597 - val_loss: 0.4884 - val_accuracy: 0.7696\n",
            "Epoch 6/10\n",
            "62/62 [==============================] - 1s 17ms/step - loss: 0.1170 - accuracy: 0.9796 - val_loss: 0.5072 - val_accuracy: 0.7558\n",
            "Epoch 7/10\n",
            "62/62 [==============================] - 1s 16ms/step - loss: 0.0697 - accuracy: 0.9934 - val_loss: 0.5201 - val_accuracy: 0.7604\n",
            "Epoch 8/10\n",
            "62/62 [==============================] - 1s 17ms/step - loss: 0.0426 - accuracy: 0.9980 - val_loss: 0.5451 - val_accuracy: 0.7373\n",
            "Epoch 9/10\n",
            "62/62 [==============================] - 1s 17ms/step - loss: 0.0275 - accuracy: 0.9990 - val_loss: 0.5621 - val_accuracy: 0.7281\n",
            "Epoch 10/10\n",
            "62/62 [==============================] - 1s 17ms/step - loss: 0.0187 - accuracy: 0.9995 - val_loss: 0.5919 - val_accuracy: 0.7281\n",
            "7/7 [==============================] - 0s 5ms/step - loss: 0.5919 - accuracy: 0.7281\n",
            "Test accuracy: 0.7281106114387512\n"
          ]
        },
        {
          "output_type": "display_data",
          "data": {
            "text/plain": [
              "<Figure size 432x360 with 1 Axes>"
            ],
            "image/png": "[encoded data removed]"
          },
          "metadata": {
            "needs_background": "light"
          }
        }
      ]
    },
    {
      "cell_type": "markdown",
      "metadata": {
        "id": "zLRnJEl2XWMd"
      },
      "source": [
        "## 모델2: CNN, GloVe 사용\n",
        "**사전 학습된 단어 임베딩 모델 (GloVe) 사용**"
      ]
    },
    {
      "cell_type": "code",
      "metadata": {
        "id": "8MECCBCtUH4S"
      },
      "source": [
        "if not os.path.exists('glove.6B.zip'):\n",
        "    ! wget http://nlp.stanford.edu/data/glove.6B.zip\n",
        "if not os.path.exists('glove.6B.50d.txt'):\n",
        "    ! unzip glove.6B.zip\n",
        "    \n",
        "! head glove.6B.50d.txt"
      ],
      "execution_count": null,
      "outputs": []
    },
    {
      "cell_type": "markdown",
      "metadata": {
        "id": "oe_KnzngXhhD"
      },
      "source": [
        "GloVe 벡터를 불러와서 임베딩 행렬을 초기화해보겠습니다.\n",
        "\n",
        "1. GloVe 파일을 읽고, 각 줄에서 단어(1번째 토큰)와 벡터를 이루는 숫자들(2번째 이후 토큰들)을 분리\n",
        "2. 벡터를 이루는 숫자들을 numpy 행렬로 변환 (numpy의 asarray 함수 활용)\n",
        "3. 단어와 벡터를 연결하는 dictionary 자료구조 구성 (단어 -> 벡터)\n",
        "4. 모든 단어들에 대한 임베딩 행렬을 무작위로 생성 (vocab_size X 50 크기의 numpy 행렬)\n",
        "5. 임베딩 행렬에서, GloVe 벡터가 존재하는 단어들만 해당 GloVe 벡터로 대체"
      ]
    },
    {
      "cell_type": "code",
      "metadata": {
        "colab": {
          "base_uri": "https://localhost:8080/"
        },
        "id": "WKcR21zYXe8D",
        "outputId": "5f87f22c-c735-4e12-857c-76a70e1d6ac5"
      },
      "source": [
        "def load_glove_embeddings(path):\n",
        "    embeddings = {} #dictionary 구조\n",
        "    with open(path, 'r', encoding='utf-8') as f:\n",
        "        for line in f:\n",
        "            values = line.strip().split()\n",
        "            w = values[0] #단어\n",
        "            vectors = np.asarray(values[1:], dtype='float32') #숫자들 numpy 행렬로 변환\n",
        "            embeddings[w] = vectors #단어와 숫자 연결\n",
        "\n",
        "    embedding_matrix = np.random.uniform(-1, 1, size=(vocab_size, 50)) #임베딩 행렬 생성\n",
        "    num_loaded = 0\n",
        "    for w, i in word_index.items(): #GloVe 벡터가 존재하는 단어 -> GloVe 벡터로 대체\n",
        "        v = embeddings.get(w)\n",
        "        if v is not None and i < vocab_size:\n",
        "            embedding_matrix[i] = v\n",
        "            num_loaded += 1\n",
        "    print('Successfully loaded pretrained embeddings for '\n",
        "          f'{num_loaded}/{vocab_size} words.')\n",
        "    embedding_matrix = embedding_matrix.astype(np.float32)\n",
        "    return embedding_matrix\n",
        "\n",
        "embedding_matrix = load_glove_embeddings('glove.6B.50d.txt')"
      ],
      "execution_count": null,
      "outputs": [
        {
          "output_type": "stream",
          "name": "stdout",
          "text": [
            "Successfully loaded pretrained embeddings for 4632/5000 words.\n"
          ]
        }
      ]
    },
    {
      "cell_type": "markdown",
      "metadata": {
        "id": "k557i-QHYFIy"
      },
      "source": [
        "앞서 사용된 모델에서, Embedding layer의 값을 위에서 생성한 임베딩 행렬로 초기화해봅시다. (`keras.initializers.Constant` 클래스 활용)\n",
        "\n",
        "초기값 설정은 케라스 레이어의 초기 난수 가중치를 설정하는 방식을 규정합니다."
      ]
    },
    {
      "cell_type": "code",
      "metadata": {
        "id": "UZ8khLn5YIrY"
      },
      "source": [
        "glove_init = keras.initializers.Constant(embedding_matrix)\n",
        "\n",
        "model = keras.Sequential([\n",
        "    keras.layers.Embedding(vocab_size, 50, embeddings_initializer=glove_init),\n",
        "    keras.layers.Conv1D(32, 3, padding=\"same\", activation=tf.nn.relu),\n",
        "    keras.layers.GlobalMaxPool1D(),\n",
        "    keras.layers.Dense(2, activation=tf.nn.softmax)\n",
        "])"
      ],
      "execution_count": null,
      "outputs": []
    },
    {
      "cell_type": "code",
      "metadata": {
        "colab": {
          "base_uri": "https://localhost:8080/",
          "height": 765
        },
        "id": "QJKPEuLsYIo_",
        "outputId": "3d508a86-ddfc-4e11-e693-870fda4e54d9"
      },
      "source": [
        "model.compile(optimizer='adam', \n",
        "              loss='sparse_categorical_crossentropy',\n",
        "              metrics=['accuracy'])\n",
        "\n",
        "history = model.fit(train_inputs,\n",
        "          train_labels,\n",
        "          epochs=10,\n",
        "          validation_data=(test_inputs, test_labels)\n",
        "         )\n",
        "\n",
        "plot_loss(history)\n",
        "eval_model(model)"
      ],
      "execution_count": null,
      "outputs": [
        {
          "output_type": "stream",
          "name": "stdout",
          "text": [
            "Epoch 1/10\n",
            "62/62 [==============================] - 3s 39ms/step - loss: 0.8345 - accuracy: 0.5538 - val_loss: 0.6554 - val_accuracy: 0.5899\n",
            "Epoch 2/10\n",
            "62/62 [==============================] - 2s 37ms/step - loss: 0.5873 - accuracy: 0.6961 - val_loss: 0.6157 - val_accuracy: 0.6728\n",
            "Epoch 3/10\n",
            "62/62 [==============================] - 2s 32ms/step - loss: 0.4939 - accuracy: 0.7894 - val_loss: 0.5853 - val_accuracy: 0.6912\n",
            "Epoch 4/10\n",
            "62/62 [==============================] - 2s 40ms/step - loss: 0.4197 - accuracy: 0.8455 - val_loss: 0.5661 - val_accuracy: 0.7189\n",
            "Epoch 5/10\n",
            "62/62 [==============================] - 1s 19ms/step - loss: 0.3493 - accuracy: 0.8980 - val_loss: 0.5377 - val_accuracy: 0.7327\n",
            "Epoch 6/10\n",
            "62/62 [==============================] - 1s 19ms/step - loss: 0.2860 - accuracy: 0.9322 - val_loss: 0.5212 - val_accuracy: 0.7696\n",
            "Epoch 7/10\n",
            "62/62 [==============================] - 1s 19ms/step - loss: 0.2383 - accuracy: 0.9470 - val_loss: 0.5180 - val_accuracy: 0.7558\n",
            "Epoch 8/10\n",
            "62/62 [==============================] - 1s 19ms/step - loss: 0.1998 - accuracy: 0.9577 - val_loss: 0.5042 - val_accuracy: 0.7650\n",
            "Epoch 9/10\n",
            "62/62 [==============================] - 1s 19ms/step - loss: 0.1641 - accuracy: 0.9725 - val_loss: 0.4982 - val_accuracy: 0.7788\n",
            "Epoch 10/10\n",
            "62/62 [==============================] - 1s 20ms/step - loss: 0.1355 - accuracy: 0.9822 - val_loss: 0.4947 - val_accuracy: 0.7742\n",
            "7/7 [==============================] - 0s 6ms/step - loss: 0.4947 - accuracy: 0.7742\n",
            "Test accuracy: 0.774193525314331\n"
          ]
        },
        {
          "output_type": "display_data",
          "data": {
            "text/plain": [
              "<Figure size 432x360 with 1 Axes>"
            ],
            "image/png": "[encoded data removed]"
          },
          "metadata": {
            "needs_background": "light"
          }
        }
      ]
    },
    {
      "cell_type": "markdown",
      "source": [
        "## 모델3: CNN, GloVe, Dropout"
      ],
      "metadata": {
        "id": "SzyyyxhmGbi_"
      }
    },
    {
      "cell_type": "code",
      "metadata": {
        "id": "izmw47EsGjq6"
      },
      "source": [
        "from keras.layers import Embedding, Dense, Flatten, Dropout\n",
        "glove_init = keras.initializers.Constant(embedding_matrix)\n",
        "\n",
        "model = keras.Sequential([\n",
        "    keras.layers.Embedding(vocab_size, 50, embeddings_initializer=glove_init),\n",
        "    keras.layers.Conv1D(32, 3, padding=\"same\", activation=tf.nn.relu),\n",
        "    keras.layers.Dropout(0.3),\n",
        "    keras.layers.GlobalMaxPool1D(),\n",
        "    keras.layers.Dense(2, activation=tf.nn.softmax)\n",
        "])"
      ],
      "execution_count": null,
      "outputs": []
    },
    {
      "cell_type": "code",
      "metadata": {
        "colab": {
          "base_uri": "https://localhost:8080/",
          "height": 765
        },
        "outputId": "e594ecf7-1ced-4cab-9b60-06f4c2073f40",
        "id": "SxvvfRq0GmOV"
      },
      "source": [
        "model.compile(optimizer='adam', \n",
        "              loss='sparse_categorical_crossentropy',\n",
        "              metrics=['accuracy'])\n",
        "\n",
        "history = model.fit(train_inputs,\n",
        "          train_labels,\n",
        "          epochs=10,\n",
        "          validation_data=(test_inputs, test_labels)\n",
        "         )\n",
        "\n",
        "plot_loss(history)\n",
        "eval_model(model)"
      ],
      "execution_count": null,
      "outputs": [
        {
          "output_type": "stream",
          "name": "stdout",
          "text": [
            "Epoch 1/10\n",
            "62/62 [==============================] - 2s 23ms/step - loss: 0.7699 - accuracy: 0.5375 - val_loss: 0.6500 - val_accuracy: 0.5991\n",
            "Epoch 2/10\n",
            "62/62 [==============================] - 1s 20ms/step - loss: 0.6122 - accuracy: 0.6583 - val_loss: 0.6126 - val_accuracy: 0.6313\n",
            "Epoch 3/10\n",
            "62/62 [==============================] - 1s 21ms/step - loss: 0.5278 - accuracy: 0.7450 - val_loss: 0.5847 - val_accuracy: 0.6406\n",
            "Epoch 4/10\n",
            "62/62 [==============================] - 1s 20ms/step - loss: 0.4511 - accuracy: 0.8108 - val_loss: 0.5799 - val_accuracy: 0.6774\n",
            "Epoch 5/10\n",
            "62/62 [==============================] - 1s 20ms/step - loss: 0.3790 - accuracy: 0.8536 - val_loss: 0.5444 - val_accuracy: 0.6866\n",
            "Epoch 6/10\n",
            "62/62 [==============================] - 1s 20ms/step - loss: 0.3331 - accuracy: 0.8797 - val_loss: 0.5172 - val_accuracy: 0.7143\n",
            "Epoch 7/10\n",
            "62/62 [==============================] - 1s 20ms/step - loss: 0.2864 - accuracy: 0.9036 - val_loss: 0.4944 - val_accuracy: 0.7419\n",
            "Epoch 8/10\n",
            "62/62 [==============================] - 1s 20ms/step - loss: 0.2447 - accuracy: 0.9225 - val_loss: 0.4638 - val_accuracy: 0.7696\n",
            "Epoch 9/10\n",
            "62/62 [==============================] - 1s 20ms/step - loss: 0.2145 - accuracy: 0.9332 - val_loss: 0.4809 - val_accuracy: 0.7419\n",
            "Epoch 10/10\n",
            "62/62 [==============================] - 1s 20ms/step - loss: 0.1861 - accuracy: 0.9505 - val_loss: 0.4549 - val_accuracy: 0.7926\n",
            "7/7 [==============================] - 0s 5ms/step - loss: 0.4549 - accuracy: 0.7926\n",
            "Test accuracy: 0.7926267385482788\n"
          ]
        },
        {
          "output_type": "display_data",
          "data": {
            "text/plain": [
              "<Figure size 432x360 with 1 Axes>"
            ],
            "image/png": "[encoded data removed]"
          },
          "metadata": {
            "needs_background": "light"
          }
        }
      ]
    },
    {
      "cell_type": "markdown",
      "source": [
        "## 모델4: RNN"
      ],
      "metadata": {
        "id": "a7_8SZR5KTWE"
      }
    },
    {
      "cell_type": "code",
      "metadata": {
        "id": "OtEdwMYRKcAz"
      },
      "source": [
        "from keras.layers import Embedding, Dense, Flatten, Dropout, SimpleRNN\n",
        "glove_init = keras.initializers.Constant(embedding_matrix)\n",
        "\n",
        "modelr = keras.Sequential([\n",
        "    keras.layers.Embedding(vocab_size, 50, embeddings_initializer=glove_init),\n",
        "    keras.layers.SimpleRNN(32),\n",
        "    keras.layers.Dense(2, activation=tf.nn.softmax)\n",
        "])"
      ],
      "execution_count": null,
      "outputs": []
    },
    {
      "cell_type": "code",
      "metadata": {
        "colab": {
          "base_uri": "https://localhost:8080/",
          "height": 765
        },
        "outputId": "c9ab2cdb-91e1-4dc6-f0bc-e687eb0dfd93",
        "id": "DOhhy1SnLEkE"
      },
      "source": [
        "modelr.compile(optimizer='adam', \n",
        "              loss='sparse_categorical_crossentropy',\n",
        "              metrics=['accuracy'])\n",
        "\n",
        "history = modelr.fit(train_inputs,\n",
        "          train_labels,\n",
        "          epochs=10,\n",
        "          batch_size = 128,\n",
        "          validation_data=(test_inputs, test_labels)\n",
        "         )\n",
        "\n",
        "plot_loss(history)\n",
        "eval_model(modelr)"
      ],
      "execution_count": null,
      "outputs": [
        {
          "output_type": "stream",
          "name": "stdout",
          "text": [
            "Epoch 1/10\n",
            "16/16 [==============================] - 2s 87ms/step - loss: 0.7419 - accuracy: 0.4824 - val_loss: 0.7123 - val_accuracy: 0.4931\n",
            "Epoch 2/10\n",
            "16/16 [==============================] - 1s 72ms/step - loss: 0.7001 - accuracy: 0.5033 - val_loss: 0.6940 - val_accuracy: 0.5069\n",
            "Epoch 3/10\n",
            "16/16 [==============================] - 1s 71ms/step - loss: 0.6934 - accuracy: 0.5059 - val_loss: 0.6934 - val_accuracy: 0.4931\n",
            "Epoch 4/10\n",
            "16/16 [==============================] - 1s 71ms/step - loss: 0.6962 - accuracy: 0.4936 - val_loss: 0.6958 - val_accuracy: 0.4931\n",
            "Epoch 5/10\n",
            "16/16 [==============================] - 1s 70ms/step - loss: 0.6938 - accuracy: 0.5023 - val_loss: 0.6931 - val_accuracy: 0.5069\n",
            "Epoch 6/10\n",
            "16/16 [==============================] - 1s 72ms/step - loss: 0.6943 - accuracy: 0.4890 - val_loss: 0.6931 - val_accuracy: 0.5069\n",
            "Epoch 7/10\n",
            "16/16 [==============================] - 1s 74ms/step - loss: 0.6939 - accuracy: 0.5008 - val_loss: 0.6952 - val_accuracy: 0.4931\n",
            "Epoch 8/10\n",
            "16/16 [==============================] - 1s 73ms/step - loss: 0.6941 - accuracy: 0.4870 - val_loss: 0.6932 - val_accuracy: 0.5069\n",
            "Epoch 9/10\n",
            "16/16 [==============================] - 1s 72ms/step - loss: 0.6954 - accuracy: 0.4870 - val_loss: 0.6936 - val_accuracy: 0.5069\n",
            "Epoch 10/10\n",
            "16/16 [==============================] - 1s 71ms/step - loss: 0.6942 - accuracy: 0.4865 - val_loss: 0.6936 - val_accuracy: 0.4931\n",
            "7/7 [==============================] - 0s 13ms/step - loss: 0.6936 - accuracy: 0.4931\n",
            "Test accuracy: 0.4930875599384308\n"
          ]
        },
        {
          "output_type": "display_data",
          "data": {
            "text/plain": [
              "<Figure size 432x360 with 1 Axes>"
            ],
            "image/png": "[encoded data removed]"
          },
          "metadata": {
            "needs_background": "light"
          }
        }
      ]
    }
  ]
}