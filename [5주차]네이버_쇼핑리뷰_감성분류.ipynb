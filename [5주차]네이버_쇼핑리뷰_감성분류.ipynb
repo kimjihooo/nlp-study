{
  "nbformat": 4,
  "nbformat_minor": 0,
  "metadata": {
    "colab": {
      "name": "[5주차]네이버 쇼핑리뷰 감성분류.ipynb",
      "provenance": [],
      "collapsed_sections": [],
      "toc_visible": true
    },
    "kernelspec": {
      "name": "python3",
      "display_name": "Python 3"
    },
    "language_info": {
      "name": "python"
    }
  },
  "cells": [
    {
      "cell_type": "markdown",
      "metadata": {
        "id": "-kxBhpkhWWwS"
      },
      "source": [
        "# 네이버 쇼핑 리뷰 감성 분류"
      ]
    },
    {
      "cell_type": "code",
      "metadata": {
        "id": "nP4Yqxb7PLTk"
      },
      "source": [
        "import os\n",
        "import numpy as np\n",
        "import pandas as pd\n",
        "import tensorflow as tf\n",
        "import matplotlib.pyplot as plt\n",
        "import sklearn.preprocessing\n",
        "from sklearn.metrics import r2_score\n",
        "\n",
        "from keras.layers import Dense,Dropout,SimpleRNN,LSTM\n",
        "from keras.models import Sequential"
      ],
      "execution_count": null,
      "outputs": []
    },
    {
      "cell_type": "code",
      "metadata": {
        "id": "zaq43HtU_x2D"
      },
      "source": [
        "# mecab 설치\n",
        "\n",
        "!git clone https://github.com/SOMJANG/Mecab-ko-for-Google-Colab.git\n",
        "%cd Mecab-ko-for-Google-Colab\n",
        "!bash install_mecab-ko_on_colab190912.sh"
      ],
      "execution_count": null,
      "outputs": []
    },
    {
      "cell_type": "code",
      "metadata": {
        "id": "rGR-AnBu_24c"
      },
      "source": [
        "import urllib.request\n",
        "from collections import Counter\n",
        "from konlpy.tag import Mecab\n",
        "from sklearn.model_selection import train_test_split\n",
        "from tensorflow.keras.preprocessing.text import Tokenizer\n",
        "from tensorflow.keras.preprocessing.sequence import pad_sequences"
      ],
      "execution_count": null,
      "outputs": []
    },
    {
      "cell_type": "markdown",
      "metadata": {
        "id": "jex7DFye_-cl"
      },
      "source": [
        "## 데이터 로드"
      ]
    },
    {
      "cell_type": "code",
      "metadata": {
        "colab": {
          "base_uri": "https://localhost:8080/"
        },
        "id": "DRSMnLO9AChn",
        "outputId": "98682666-7cbe-4bc4-e373-01a2b66c7f3b"
      },
      "source": [
        "urllib.request.urlretrieve(\"https://raw.githubusercontent.com/bab2min/corpus/master/sentiment/naver_shopping.txt\", filename=\"ratings_total.txt\")"
      ],
      "execution_count": null,
      "outputs": [
        {
          "output_type": "execute_result",
          "data": {
            "text/plain": [
              "('ratings_total.txt', <http.client.HTTPMessage at 0x7f0d5bea6a50>)"
            ]
          },
          "metadata": {},
          "execution_count": 4
        }
      ]
    },
    {
      "cell_type": "code",
      "metadata": {
        "colab": {
          "base_uri": "https://localhost:8080/"
        },
        "id": "FM7X78BbAFl_",
        "outputId": "7bcc6d07-47e9-4ea6-eb79-cad485eba5b2"
      },
      "source": [
        "total_data = pd.read_table('ratings_total.txt', names=['ratings','reviews'])    #column name 추가\n",
        "print('전체 리뷰 개수: ', len(total_data))"
      ],
      "execution_count": null,
      "outputs": [
        {
          "output_type": "stream",
          "name": "stdout",
          "text": [
            "전체 리뷰 개수:  200000\n"
          ]
        }
      ]
    },
    {
      "cell_type": "code",
      "metadata": {
        "colab": {
          "base_uri": "https://localhost:8080/",
          "height": 206
        },
        "id": "Fev9_s31AV00",
        "outputId": "ba54f42d-dadf-4ba0-feed-fc6aef411340"
      },
      "source": [
        "total_data[:5]"
      ],
      "execution_count": null,
      "outputs": [
        {
          "output_type": "execute_result",
          "data": {
            "text/plain": [
              "   ratings                                            reviews\n",
              "0        5                                            배공빠르고 굿\n",
              "1        2                      택배가 엉망이네용 저희집 밑에층에 말도없이 놔두고가고\n",
              "2        5  아주좋아요 바지 정말 좋아서2개 더 구매했어요 이가격에 대박입니다. 바느질이 조금 ...\n",
              "3        2  선물용으로 빨리 받아서 전달했어야 하는 상품이었는데 머그컵만 와서 당황했습니다. 전...\n",
              "4        5                  민트색상 예뻐요. 옆 손잡이는 거는 용도로도 사용되네요 ㅎㅎ"
            ],
            "text/html": [
              "\n",
              "  <div id=\"df-cc5ccf3c-fc30-47f2-a06d-e163e25d3bbf\">\n",
              "    <div class=\"colab-df-container\">\n",
              "      <div>\n",
              "<style scoped>\n",
              "    .dataframe tbody tr th:only-of-type {\n",
              "        vertical-align: middle;\n",
              "    }\n",
              "\n",
              "    .dataframe tbody tr th {\n",
              "        vertical-align: top;\n",
              "    }\n",
              "\n",
              "    .dataframe thead th {\n",
              "        text-align: right;\n",
              "    }\n",
              "</style>\n",
              "<table border=\"1\" class=\"dataframe\">\n",
              "  <thead>\n",
              "    <tr style=\"text-align: right;\">\n",
              "      <th></th>\n",
              "      <th>ratings</th>\n",
              "      <th>reviews</th>\n",
              "    </tr>\n",
              "  </thead>\n",
              "  <tbody>\n",
              "    <tr>\n",
              "      <th>0</th>\n",
              "      <td>5</td>\n",
              "      <td>배공빠르고 굿</td>\n",
              "    </tr>\n",
              "    <tr>\n",
              "      <th>1</th>\n",
              "      <td>2</td>\n",
              "      <td>택배가 엉망이네용 저희집 밑에층에 말도없이 놔두고가고</td>\n",
              "    </tr>\n",
              "    <tr>\n",
              "      <th>2</th>\n",
              "      <td>5</td>\n",
              "      <td>아주좋아요 바지 정말 좋아서2개 더 구매했어요 이가격에 대박입니다. 바느질이 조금 ...</td>\n",
              "    </tr>\n",
              "    <tr>\n",
              "      <th>3</th>\n",
              "      <td>2</td>\n",
              "      <td>선물용으로 빨리 받아서 전달했어야 하는 상품이었는데 머그컵만 와서 당황했습니다. 전...</td>\n",
              "    </tr>\n",
              "    <tr>\n",
              "      <th>4</th>\n",
              "      <td>5</td>\n",
              "      <td>민트색상 예뻐요. 옆 손잡이는 거는 용도로도 사용되네요 ㅎㅎ</td>\n",
              "    </tr>\n",
              "  </tbody>\n",
              "</table>\n",
              "</div>\n",
              "      <button class=\"colab-df-convert\" onclick=\"convertToInteractive('df-cc5ccf3c-fc30-47f2-a06d-e163e25d3bbf')\"\n",
              "              title=\"Convert this dataframe to an interactive table.\"\n",
              "              style=\"display:none;\">\n",
              "        \n",
              "  <svg xmlns=\"http://www.w3.org/2000/svg\" height=\"24px\"viewBox=\"0 0 24 24\"\n",
              "       width=\"24px\">\n",
              "    <path d=\"M0 0h24v24H0V0z\" fill=\"none\"/>\n",
              "    <path d=\"M18.56 5.44l.94 2.06.94-2.06 2.06-.94-2.06-.94-.94-2.06-.94 2.06-2.06.94zm-11 1L8.5 8.5l.94-2.06 2.06-.94-2.06-.94L8.5 2.5l-.94 2.06-2.06.94zm10 10l.94 2.06.94-2.06 2.06-.94-2.06-.94-.94-2.06-.94 2.06-2.06.94z\"/><path d=\"M17.41 7.96l-1.37-1.37c-.4-.4-.92-.59-1.43-.59-.52 0-1.04.2-1.43.59L10.3 9.45l-7.72 7.72c-.78.78-.78 2.05 0 2.83L4 21.41c.39.39.9.59 1.41.59.51 0 1.02-.2 1.41-.59l7.78-7.78 2.81-2.81c.8-.78.8-2.07 0-2.86zM5.41 20L4 18.59l7.72-7.72 1.47 1.35L5.41 20z\"/>\n",
              "  </svg>\n",
              "      </button>\n",
              "      \n",
              "  <style>\n",
              "    .colab-df-container {\n",
              "      display:flex;\n",
              "      flex-wrap:wrap;\n",
              "      gap: 12px;\n",
              "    }\n",
              "\n",
              "    .colab-df-convert {\n",
              "      background-color: #E8F0FE;\n",
              "      border: none;\n",
              "      border-radius: 50%;\n",
              "      cursor: pointer;\n",
              "      display: none;\n",
              "      fill: #1967D2;\n",
              "      height: 32px;\n",
              "      padding: 0 0 0 0;\n",
              "      width: 32px;\n",
              "    }\n",
              "\n",
              "    .colab-df-convert:hover {\n",
              "      background-color: #E2EBFA;\n",
              "      box-shadow: 0px 1px 2px rgba(60, 64, 67, 0.3), 0px 1px 3px 1px rgba(60, 64, 67, 0.15);\n",
              "      fill: #174EA6;\n",
              "    }\n",
              "\n",
              "    [theme=dark] .colab-df-convert {\n",
              "      background-color: #3B4455;\n",
              "      fill: #D2E3FC;\n",
              "    }\n",
              "\n",
              "    [theme=dark] .colab-df-convert:hover {\n",
              "      background-color: #434B5C;\n",
              "      box-shadow: 0px 1px 3px 1px rgba(0, 0, 0, 0.15);\n",
              "      filter: drop-shadow(0px 1px 2px rgba(0, 0, 0, 0.3));\n",
              "      fill: #FFFFFF;\n",
              "    }\n",
              "  </style>\n",
              "\n",
              "      <script>\n",
              "        const buttonEl =\n",
              "          document.querySelector('#df-cc5ccf3c-fc30-47f2-a06d-e163e25d3bbf button.colab-df-convert');\n",
              "        buttonEl.style.display =\n",
              "          google.colab.kernel.accessAllowed ? 'block' : 'none';\n",
              "\n",
              "        async function convertToInteractive(key) {\n",
              "          const element = document.querySelector('#df-cc5ccf3c-fc30-47f2-a06d-e163e25d3bbf');\n",
              "          const dataTable =\n",
              "            await google.colab.kernel.invokeFunction('convertToInteractive',\n",
              "                                                     [key], {});\n",
              "          if (!dataTable) return;\n",
              "\n",
              "          const docLinkHtml = 'Like what you see? Visit the ' +\n",
              "            '<a target=\"_blank\" href=https://colab.research.google.com/notebooks/data_table.ipynb>data table notebook</a>'\n",
              "            + ' to learn more about interactive tables.';\n",
              "          element.innerHTML = '';\n",
              "          dataTable['output_type'] = 'display_data';\n",
              "          await google.colab.output.renderOutput(dataTable, element);\n",
              "          const docLink = document.createElement('div');\n",
              "          docLink.innerHTML = docLinkHtml;\n",
              "          element.appendChild(docLink);\n",
              "        }\n",
              "      </script>\n",
              "    </div>\n",
              "  </div>\n",
              "  "
            ]
          },
          "metadata": {},
          "execution_count": 6
        }
      ]
    },
    {
      "cell_type": "markdown",
      "metadata": {
        "id": "6kJwl6jtAYug"
      },
      "source": [
        "## train, test dataset 분리"
      ]
    },
    {
      "cell_type": "code",
      "metadata": {
        "colab": {
          "base_uri": "https://localhost:8080/",
          "height": 206
        },
        "id": "OZuwBNHiAgNY",
        "outputId": "4702fd06-aecf-4cdd-ecdd-2bbed85d2be9"
      },
      "source": [
        "# 평점 4,5인 리뷰에는 레이블 1 / 평점 1,2인 리뷰에는 레이블 0\n",
        "total_data['label'] = np.select([total_data.ratings > 3], [1], default=0)\n",
        "total_data[:5]"
      ],
      "execution_count": null,
      "outputs": [
        {
          "output_type": "execute_result",
          "data": {
            "text/plain": [
              "   ratings                                            reviews  label\n",
              "0        5                                            배공빠르고 굿      1\n",
              "1        2                      택배가 엉망이네용 저희집 밑에층에 말도없이 놔두고가고      0\n",
              "2        5  아주좋아요 바지 정말 좋아서2개 더 구매했어요 이가격에 대박입니다. 바느질이 조금 ...      1\n",
              "3        2  선물용으로 빨리 받아서 전달했어야 하는 상품이었는데 머그컵만 와서 당황했습니다. 전...      0\n",
              "4        5                  민트색상 예뻐요. 옆 손잡이는 거는 용도로도 사용되네요 ㅎㅎ      1"
            ],
            "text/html": [
              "\n",
              "  <div id=\"df-2aad30f5-c17c-497f-b27d-f9f97586259f\">\n",
              "    <div class=\"colab-df-container\">\n",
              "      <div>\n",
              "<style scoped>\n",
              "    .dataframe tbody tr th:only-of-type {\n",
              "        vertical-align: middle;\n",
              "    }\n",
              "\n",
              "    .dataframe tbody tr th {\n",
              "        vertical-align: top;\n",
              "    }\n",
              "\n",
              "    .dataframe thead th {\n",
              "        text-align: right;\n",
              "    }\n",
              "</style>\n",
              "<table border=\"1\" class=\"dataframe\">\n",
              "  <thead>\n",
              "    <tr style=\"text-align: right;\">\n",
              "      <th></th>\n",
              "      <th>ratings</th>\n",
              "      <th>reviews</th>\n",
              "      <th>label</th>\n",
              "    </tr>\n",
              "  </thead>\n",
              "  <tbody>\n",
              "    <tr>\n",
              "      <th>0</th>\n",
              "      <td>5</td>\n",
              "      <td>배공빠르고 굿</td>\n",
              "      <td>1</td>\n",
              "    </tr>\n",
              "    <tr>\n",
              "      <th>1</th>\n",
              "      <td>2</td>\n",
              "      <td>택배가 엉망이네용 저희집 밑에층에 말도없이 놔두고가고</td>\n",
              "      <td>0</td>\n",
              "    </tr>\n",
              "    <tr>\n",
              "      <th>2</th>\n",
              "      <td>5</td>\n",
              "      <td>아주좋아요 바지 정말 좋아서2개 더 구매했어요 이가격에 대박입니다. 바느질이 조금 ...</td>\n",
              "      <td>1</td>\n",
              "    </tr>\n",
              "    <tr>\n",
              "      <th>3</th>\n",
              "      <td>2</td>\n",
              "      <td>선물용으로 빨리 받아서 전달했어야 하는 상품이었는데 머그컵만 와서 당황했습니다. 전...</td>\n",
              "      <td>0</td>\n",
              "    </tr>\n",
              "    <tr>\n",
              "      <th>4</th>\n",
              "      <td>5</td>\n",
              "      <td>민트색상 예뻐요. 옆 손잡이는 거는 용도로도 사용되네요 ㅎㅎ</td>\n",
              "      <td>1</td>\n",
              "    </tr>\n",
              "  </tbody>\n",
              "</table>\n",
              "</div>\n",
              "      <button class=\"colab-df-convert\" onclick=\"convertToInteractive('df-2aad30f5-c17c-497f-b27d-f9f97586259f')\"\n",
              "              title=\"Convert this dataframe to an interactive table.\"\n",
              "              style=\"display:none;\">\n",
              "        \n",
              "  <svg xmlns=\"http://www.w3.org/2000/svg\" height=\"24px\"viewBox=\"0 0 24 24\"\n",
              "       width=\"24px\">\n",
              "    <path d=\"M0 0h24v24H0V0z\" fill=\"none\"/>\n",
              "    <path d=\"M18.56 5.44l.94 2.06.94-2.06 2.06-.94-2.06-.94-.94-2.06-.94 2.06-2.06.94zm-11 1L8.5 8.5l.94-2.06 2.06-.94-2.06-.94L8.5 2.5l-.94 2.06-2.06.94zm10 10l.94 2.06.94-2.06 2.06-.94-2.06-.94-.94-2.06-.94 2.06-2.06.94z\"/><path d=\"M17.41 7.96l-1.37-1.37c-.4-.4-.92-.59-1.43-.59-.52 0-1.04.2-1.43.59L10.3 9.45l-7.72 7.72c-.78.78-.78 2.05 0 2.83L4 21.41c.39.39.9.59 1.41.59.51 0 1.02-.2 1.41-.59l7.78-7.78 2.81-2.81c.8-.78.8-2.07 0-2.86zM5.41 20L4 18.59l7.72-7.72 1.47 1.35L5.41 20z\"/>\n",
              "  </svg>\n",
              "      </button>\n",
              "      \n",
              "  <style>\n",
              "    .colab-df-container {\n",
              "      display:flex;\n",
              "      flex-wrap:wrap;\n",
              "      gap: 12px;\n",
              "    }\n",
              "\n",
              "    .colab-df-convert {\n",
              "      background-color: #E8F0FE;\n",
              "      border: none;\n",
              "      border-radius: 50%;\n",
              "      cursor: pointer;\n",
              "      display: none;\n",
              "      fill: #1967D2;\n",
              "      height: 32px;\n",
              "      padding: 0 0 0 0;\n",
              "      width: 32px;\n",
              "    }\n",
              "\n",
              "    .colab-df-convert:hover {\n",
              "      background-color: #E2EBFA;\n",
              "      box-shadow: 0px 1px 2px rgba(60, 64, 67, 0.3), 0px 1px 3px 1px rgba(60, 64, 67, 0.15);\n",
              "      fill: #174EA6;\n",
              "    }\n",
              "\n",
              "    [theme=dark] .colab-df-convert {\n",
              "      background-color: #3B4455;\n",
              "      fill: #D2E3FC;\n",
              "    }\n",
              "\n",
              "    [theme=dark] .colab-df-convert:hover {\n",
              "      background-color: #434B5C;\n",
              "      box-shadow: 0px 1px 3px 1px rgba(0, 0, 0, 0.15);\n",
              "      filter: drop-shadow(0px 1px 2px rgba(0, 0, 0, 0.3));\n",
              "      fill: #FFFFFF;\n",
              "    }\n",
              "  </style>\n",
              "\n",
              "      <script>\n",
              "        const buttonEl =\n",
              "          document.querySelector('#df-2aad30f5-c17c-497f-b27d-f9f97586259f button.colab-df-convert');\n",
              "        buttonEl.style.display =\n",
              "          google.colab.kernel.accessAllowed ? 'block' : 'none';\n",
              "\n",
              "        async function convertToInteractive(key) {\n",
              "          const element = document.querySelector('#df-2aad30f5-c17c-497f-b27d-f9f97586259f');\n",
              "          const dataTable =\n",
              "            await google.colab.kernel.invokeFunction('convertToInteractive',\n",
              "                                                     [key], {});\n",
              "          if (!dataTable) return;\n",
              "\n",
              "          const docLinkHtml = 'Like what you see? Visit the ' +\n",
              "            '<a target=\"_blank\" href=https://colab.research.google.com/notebooks/data_table.ipynb>data table notebook</a>'\n",
              "            + ' to learn more about interactive tables.';\n",
              "          element.innerHTML = '';\n",
              "          dataTable['output_type'] = 'display_data';\n",
              "          await google.colab.output.renderOutput(dataTable, element);\n",
              "          const docLink = document.createElement('div');\n",
              "          docLink.innerHTML = docLinkHtml;\n",
              "          element.appendChild(docLink);\n",
              "        }\n",
              "      </script>\n",
              "    </div>\n",
              "  </div>\n",
              "  "
            ]
          },
          "metadata": {},
          "execution_count": 7
        }
      ]
    },
    {
      "cell_type": "code",
      "metadata": {
        "colab": {
          "base_uri": "https://localhost:8080/"
        },
        "id": "eqY2AJL_AsUj",
        "outputId": "80155e19-9638-459d-bcce-b1155f05297a"
      },
      "source": [
        "# 중복 제외 샘플 수 확인\n",
        "total_data['ratings'].nunique(), total_data['reviews'].nunique(), total_data['label'].nunique()"
      ],
      "execution_count": null,
      "outputs": [
        {
          "output_type": "execute_result",
          "data": {
            "text/plain": [
              "(4, 199908, 2)"
            ]
          },
          "metadata": {},
          "execution_count": 8
        }
      ]
    },
    {
      "cell_type": "code",
      "metadata": {
        "colab": {
          "base_uri": "https://localhost:8080/"
        },
        "id": "XKgi8K3EBRxr",
        "outputId": "68a1a2ab-fdad-4c73-84e3-15b2fd42f41a"
      },
      "source": [
        "# 중복 샘플 제거\n",
        "\n",
        "total_data.drop_duplicates(subset=['reviews'], inplace=True)\n",
        "print('총 샘플의 수', len(total_data))"
      ],
      "execution_count": null,
      "outputs": [
        {
          "output_type": "stream",
          "name": "stdout",
          "text": [
            "총 샘플의 수 199908\n"
          ]
        }
      ]
    },
    {
      "cell_type": "code",
      "metadata": {
        "colab": {
          "base_uri": "https://localhost:8080/"
        },
        "id": "fw7RwZwZBgrE",
        "outputId": "924ce58c-42e4-4b4d-a125-21fb42028d61"
      },
      "source": [
        "# null값 유무 확인\n",
        "\n",
        "print(total_data.isnull().values.any())"
      ],
      "execution_count": null,
      "outputs": [
        {
          "output_type": "stream",
          "name": "stdout",
          "text": [
            "False\n"
          ]
        }
      ]
    },
    {
      "cell_type": "code",
      "metadata": {
        "colab": {
          "base_uri": "https://localhost:8080/"
        },
        "id": "CP4CZJtwBnMt",
        "outputId": "653324fb-b314-4d3f-daf9-353d0e8b4d82"
      },
      "source": [
        "# 3:! 비율로 train, test 나누기\n",
        "\n",
        "train_data, test_data = train_test_split(total_data, test_size=.25, random_state=42)\n",
        "print('훈련 리뷰 수 :', len(train_data))\n",
        "print('테스트 리뷰 수 :', len(test_data))"
      ],
      "execution_count": null,
      "outputs": [
        {
          "output_type": "stream",
          "name": "stdout",
          "text": [
            "훈련 리뷰 수 : 149931\n",
            "테스트 리뷰 수 : 49977\n"
          ]
        }
      ]
    },
    {
      "cell_type": "markdown",
      "metadata": {
        "id": "dAAdH7OKCCf3"
      },
      "source": [
        "### 레이블 분포 확인"
      ]
    },
    {
      "cell_type": "code",
      "metadata": {
        "colab": {
          "base_uri": "https://localhost:8080/",
          "height": 281
        },
        "id": "WrpT7YpmCGAw",
        "outputId": "65e54385-028e-4097-f0aa-fe8fccc2c172"
      },
      "source": [
        "train_data['label'].value_counts().plot(kind='bar')"
      ],
      "execution_count": null,
      "outputs": [
        {
          "output_type": "execute_result",
          "data": {
            "text/plain": [
              "<matplotlib.axes._subplots.AxesSubplot at 0x7f0d589a88d0>"
            ]
          },
          "metadata": {},
          "execution_count": 12
        },
        {
          "output_type": "display_data",
          "data": {
            "text/plain": [
              "<Figure size 432x288 with 1 Axes>"
            ],
            "image/png": "[encoded data removed]"
          },
          "metadata": {
            "needs_background": "light"
          }
        }
      ]
    },
    {
      "cell_type": "code",
      "metadata": {
        "colab": {
          "base_uri": "https://localhost:8080/"
        },
        "id": "E3Ix3NY2CL4d",
        "outputId": "2e1b1d40-5d3a-47d4-a490-c44a25c97bd4"
      },
      "source": [
        "print(train_data.groupby('label').size().reset_index(name='count'))"
      ],
      "execution_count": null,
      "outputs": [
        {
          "output_type": "stream",
          "name": "stdout",
          "text": [
            "   label  count\n",
            "0      0  74918\n",
            "1      1  75013\n"
          ]
        }
      ]
    },
    {
      "cell_type": "markdown",
      "metadata": {
        "id": "cMtsWNusCUiq"
      },
      "source": [
        "## 데이터 정제"
      ]
    },
    {
      "cell_type": "markdown",
      "metadata": {
        "id": "ZpigqCQlK5i1"
      },
      "source": [
        "#### 정규표현식"
      ]
    },
    {
      "cell_type": "code",
      "metadata": {
        "colab": {
          "base_uri": "https://localhost:8080/"
        },
        "id": "Y5YXrH-UCX1_",
        "outputId": "b8a75701-c28f-499a-cd78-2cf93efa95e4"
      },
      "source": [
        "# 한글과 공백만 남기기 / 빈 샘플 체크\n",
        "\n",
        "train_data['reviews'] = train_data['reviews'].str.replace(\"[^ㄱ-ㅎ ㅏ-ㅣ 가-힣]\",\"\")\n",
        "train_data['reviews'].replace('', np.nan, inplace=True)\n",
        "print(train_data.isnull().sum())"
      ],
      "execution_count": null,
      "outputs": [
        {
          "output_type": "stream",
          "name": "stderr",
          "text": [
            "/usr/local/lib/python3.7/dist-packages/ipykernel_launcher.py:3: FutureWarning: The default value of regex will change from True to False in a future version.\n",
            "  This is separate from the ipykernel package so we can avoid doing imports until\n"
          ]
        },
        {
          "output_type": "stream",
          "name": "stdout",
          "text": [
            "ratings    0\n",
            "reviews    0\n",
            "label      0\n",
            "dtype: int64\n"
          ]
        }
      ]
    },
    {
      "cell_type": "code",
      "metadata": {
        "colab": {
          "base_uri": "https://localhost:8080/"
        },
        "id": "4_wSqJcqC0ZL",
        "outputId": "32748a47-b88c-4ea3-9fa4-e34ceec7aa39"
      },
      "source": [
        "# test data에도 같은 작업 수행\n",
        "\n",
        "test_data.drop_duplicates(subset=['reviews'], inplace=True) \n",
        "test_data['reviews'] = test_data['reviews'].str.replace(\"[^ㄱ-ㅎㅏ-ㅣ가-힣 ]\",\"\")\n",
        "test_data['reviews'].replace(\"\",np.nan,inplace=True)\n",
        "test_data = test_data.dropna(how='any')\n",
        "print('전처리 후 테스트용 샘플 수: ', len(test_data))"
      ],
      "execution_count": null,
      "outputs": [
        {
          "output_type": "stream",
          "name": "stdout",
          "text": [
            "전처리 후 테스트용 샘플 수:  49977\n"
          ]
        },
        {
          "output_type": "stream",
          "name": "stderr",
          "text": [
            "/usr/local/lib/python3.7/dist-packages/ipykernel_launcher.py:4: FutureWarning: The default value of regex will change from True to False in a future version.\n",
            "  after removing the cwd from sys.path.\n"
          ]
        }
      ]
    },
    {
      "cell_type": "markdown",
      "metadata": {
        "id": "9LdSnv3uDck6"
      },
      "source": [
        "#### 토큰화"
      ]
    },
    {
      "cell_type": "code",
      "metadata": {
        "id": "ylBDWqEeDjw6"
      },
      "source": [
        "mecab = Mecab()\n",
        "stopwords = ['엇', '주', '겠', '도', '는', '다', '의', '가', '이', '은', '한', '에', '하', '고', '을', '를', '인', '듯', '과', '와', '네', '들', '듯', '지', '임', '게']"
      ],
      "execution_count": null,
      "outputs": []
    },
    {
      "cell_type": "code",
      "metadata": {
        "id": "qtCQBcwBDzto"
      },
      "source": [
        "train_data['tokenized'] = train_data['reviews'].apply(mecab.morphs)\n",
        "train_data['tokenized'] = train_data['tokenized'].apply(lambda x: [s for s in x if s not in stopwords])\n",
        "\n",
        "test_data['tokenized'] = test_data['reviews'].apply(mecab.morphs)\n",
        "test_data['tokenized'] = test_data['reviews'].apply(lambda x: [s for s in x if s not in stopwords])"
      ],
      "execution_count": null,
      "outputs": []
    },
    {
      "cell_type": "markdown",
      "metadata": {
        "id": "U8UOlibHET13"
      },
      "source": [
        "#### 단어와 길이 분포 확인"
      ]
    },
    {
      "cell_type": "code",
      "metadata": {
        "id": "BlphY8FhEYpi"
      },
      "source": [
        "negative_words = np.hstack(train_data[train_data.label==0]['tokenized'].values)\n",
        "positive_words = np.hstack(train_data[train_data.label==1]['tokenized'].values)"
      ],
      "execution_count": null,
      "outputs": []
    },
    {
      "cell_type": "code",
      "metadata": {
        "colab": {
          "base_uri": "https://localhost:8080/"
        },
        "id": "Wq7AGKSpEwJ6",
        "outputId": "5bad8c56-95d7-4e0c-b68d-e4c4073724a8"
      },
      "source": [
        "negative_word_count = Counter(negative_words)\n",
        "print(negative_word_count.most_common(20))"
      ],
      "execution_count": null,
      "outputs": [
        {
          "output_type": "stream",
          "name": "stdout",
          "text": [
            "[('네요', 31799), ('는데', 20295), ('안', 19718), ('어요', 14849), ('있', 13200), ('너무', 13058), ('했', 11783), ('좋', 9812), ('배송', 9677), ('같', 8997), ('구매', 8876), ('어', 8869), ('거', 8854), ('없', 8670), ('아요', 8642), ('습니다', 8436), ('그냥', 8355), ('되', 8345), ('잘', 8029), ('않', 7984)]\n"
          ]
        }
      ]
    },
    {
      "cell_type": "code",
      "metadata": {
        "colab": {
          "base_uri": "https://localhost:8080/"
        },
        "id": "taE5Lz0xE3_R",
        "outputId": "506d9214-d760-49fb-cb6c-b25ff1fc0d68"
      },
      "source": [
        "positive_word_count = Counter(positive_words)\n",
        "print(positive_word_count.most_common(20))"
      ],
      "execution_count": null,
      "outputs": [
        {
          "output_type": "stream",
          "name": "stdout",
          "text": [
            "[('좋', 39488), ('아요', 21184), ('네요', 19895), ('어요', 18686), ('잘', 18602), ('구매', 16171), ('습니다', 13320), ('있', 12391), ('배송', 12275), ('는데', 11670), ('했', 9818), ('합니다', 9801), ('먹', 9635), ('재', 9273), ('너무', 8397), ('같', 7868), ('만족', 7261), ('거', 6482), ('어', 6294), ('쓰', 6292)]\n"
          ]
        }
      ]
    },
    {
      "cell_type": "code",
      "metadata": {
        "colab": {
          "base_uri": "https://localhost:8080/",
          "height": 407
        },
        "id": "_uKzPc5cFBNb",
        "outputId": "e3fc3206-54d4-4bf9-8bc2-3830311e914a"
      },
      "source": [
        "# 길이 분포 확인\n",
        "\n",
        "fig, (ax1,ax2) = plt.subplots(1,2,figsize=(10,5))\n",
        "text_len = train_data[train_data['label']==1]['tokenized'].map(lambda x:len(x))\n",
        "ax1.hist(text_len, color='red')\n",
        "ax1.set_title('Positive Reviews')\n",
        "ax1.set_xlabel('length of samples')\n",
        "ax1.set_ylabel('number of samples')\n",
        "print('긍정 리뷰 평균 길이: ', np.mean(text_len))\n",
        "\n",
        "text_len = train_data[train_data['label']==0]['tokenized'].map(lambda x:len(x))\n",
        "ax2.hist(text_len, color='blue')\n",
        "ax2.set_title('Negative Reviews')\n",
        "fig.suptitle('Words in texts')\n",
        "ax2.set_xlabel('length of samples')\n",
        "ax2.set_ylabel('number of samples')\n",
        "print('부정 리뷰의 평균 길이 :', np.mean(text_len))\n",
        "\n",
        "plt.show()"
      ],
      "execution_count": null,
      "outputs": [
        {
          "output_type": "stream",
          "name": "stdout",
          "text": [
            "긍정 리뷰 평균 길이:  13.477277271939531\n",
            "부정 리뷰의 평균 길이 : 16.88148375557276\n"
          ]
        },
        {
          "output_type": "display_data",
          "data": {
            "text/plain": [
              "<Figure size 720x360 with 2 Axes>"
            ],
            "image/png": "[encoded data removed]"
          },
          "metadata": {
            "needs_background": "light"
          }
        }
      ]
    },
    {
      "cell_type": "code",
      "metadata": {
        "id": "nhZ3AsHnFtgo"
      },
      "source": [
        "X_train = train_data['tokenized'].values\n",
        "y_train = train_data['label'].values\n",
        "X_test= test_data['tokenized'].values\n",
        "y_test = test_data['label'].values"
      ],
      "execution_count": null,
      "outputs": []
    },
    {
      "cell_type": "markdown",
      "metadata": {
        "id": "o-WiK4AUFx-P"
      },
      "source": [
        "#### 정수 인코딩"
      ]
    },
    {
      "cell_type": "code",
      "metadata": {
        "id": "J_ZpfxtIFzi7"
      },
      "source": [
        "# 훈련 데이터에 대해 단어 집합 만들기\n",
        "\n",
        "tokenizer = Tokenizer()\n",
        "tokenizer.fit_on_texts(X_train)"
      ],
      "execution_count": null,
      "outputs": []
    },
    {
      "cell_type": "code",
      "metadata": {
        "id": "kOgttqyDGtoi"
      },
      "source": [
        "tokenizer.word_index"
      ],
      "execution_count": null,
      "outputs": []
    },
    {
      "cell_type": "code",
      "metadata": {
        "colab": {
          "base_uri": "https://localhost:8080/"
        },
        "id": "wfAOSqL8GATH",
        "outputId": "7170fce2-7d07-4813-ba3d-09259cb5b765"
      },
      "source": [
        "threshold=2\n",
        "total_cnt = len(tokenizer.word_index) #vocab수\n",
        "rare_cnt=0  #등장빈도 threshold 미만인 단어 수 카운트\n",
        "total_freq =0   #훈련 데이터의 전체 단어 빈도수 총합\n",
        "rare_freq = 0   #등장빈도 threshold 미만인 단어의 등장 빈도수 총합\n",
        "\n",
        "for key, value in tokenizer.word_counts.items():\n",
        "    total_freq += value\n",
        "\n",
        "    if (value < threshold):\n",
        "        rare_cnt += 1\n",
        "        rare_freq += value\n",
        "\n",
        "print('단어 집합(vocabulary)의 크기 :',total_cnt)\n",
        "print('등장빈도가 %s번 이하인 희귀 단어의 수: %s' %(threshold-1, rare_cnt))\n",
        "print('단어 집합에서 희귀 단어의 비율:', (rare_cnt/total_cnt)*100)\n",
        "print('전체 등장 빈도에서 희귀 단어 등장 빈도 비율:', (rare_freq/total_freq)*100)"
      ],
      "execution_count": null,
      "outputs": [
        {
          "output_type": "stream",
          "name": "stdout",
          "text": [
            "단어 집합(vocabulary)의 크기 : 39995\n",
            "등장빈도가 1번 이하인 희귀 단어의 수: 18213\n",
            "단어 집합에서 희귀 단어의 비율: 45.53819227403426\n",
            "전체 등장 빈도에서 희귀 단어 등장 빈도 비율: 0.8003258780382987\n"
          ]
        }
      ]
    },
    {
      "cell_type": "code",
      "metadata": {
        "colab": {
          "base_uri": "https://localhost:8080/"
        },
        "id": "x908VuAXH2o7",
        "outputId": "134ac4c8-1995-4e99-b55e-e7e76276ee6a"
      },
      "source": [
        "# 전체 단어 중 등장 빈도 2 미만인 단어 제거할 것\n",
        "vocab_size = total_cnt - rare_cnt + 2 #0번 패딩 토큰, OOV토큰 고려해서 +2\n",
        "print(\"단어 집합 크기:\", vocab_size)"
      ],
      "execution_count": null,
      "outputs": [
        {
          "output_type": "stream",
          "name": "stdout",
          "text": [
            "단어 집합 크기: 21784\n"
          ]
        }
      ]
    },
    {
      "cell_type": "code",
      "metadata": {
        "id": "S-WP4Ce9IUsk"
      },
      "source": [
        "'''토크나이저로 텍스트 시퀀스를 숫자 시퀀스로 변환\n",
        "   정수 인코딩에서 이보다 큰 숫자 부여된 단어는 OOV로 변환'''\n",
        "\n",
        "tokenizer = Tokenizer(vocab_size, oov_token='OOV')\n",
        "tokenizer.fit_on_texts(X_train)\n",
        "X_train = tokenizer.texts_to_sequences(X_train)\n",
        "X_test = tokenizer.texts_to_sequences(X_test)"
      ],
      "execution_count": null,
      "outputs": []
    },
    {
      "cell_type": "code",
      "metadata": {
        "colab": {
          "base_uri": "https://localhost:8080/"
        },
        "id": "n3RY0S5HI10m",
        "outputId": "699bd0da-322c-4168-c35d-c1b939f8c5db"
      },
      "source": [
        "print(X_train[:3])\n",
        "print(X_test[:3])"
      ],
      "execution_count": null,
      "outputs": [
        {
          "output_type": "stream",
          "name": "stdout",
          "text": [
            "[[65, 2057, 297, 14256, 261, 71, 6, 234, 166, 135, 802, 2948, 623, 2, 75, 60, 205, 38, 1340, 153, 3, 6], [480, 407, 50, 8527, 2558, 2514, 337, 2915, 248, 2354, 471, 2], [44, 24, 822, 103, 35, 2369, 158, 7, 10, 8058, 4, 1316, 29, 138, 320, 39, 57, 158, 138, 7, 1913, 2, 111, 160, 1376, 321, 117, 134]]\n",
            "[[718, 579, 1, 701, 1, 764, 1, 114, 1, 432, 1829, 520, 3513, 1932, 57], [953, 988, 1, 1, 1299, 1, 111, 1, 638, 54, 22], [408, 3324, 1, 1271, 2076, 22, 1, 5415, 288, 132, 1, 3, 27, 1, 15, 28, 22, 1, 511, 1, 447, 17, 33, 1, 616, 1339, 1, 33, 57, 1, 7, 1, 22]]\n"
          ]
        }
      ]
    },
    {
      "cell_type": "markdown",
      "metadata": {
        "id": "apQtRuakI6V9"
      },
      "source": [
        "#### 패딩"
      ]
    },
    {
      "cell_type": "markdown",
      "metadata": {
        "id": "78ZuqA2PJDG8"
      },
      "source": [
        "서로 다른 길이의 샘플들의 길이를 동일하게 맞처주기 위한 것"
      ]
    },
    {
      "cell_type": "code",
      "metadata": {
        "colab": {
          "base_uri": "https://localhost:8080/"
        },
        "id": "g9Zs5B57JISQ",
        "outputId": "2a411502-6edf-49eb-8956-6d9351f6d66a"
      },
      "source": [
        "print(\"리뷰 최대 길이: \", max(len(l) for l in X_train))\n",
        "print(\"리뷰 평균 길이: \", sum(map(len, X_train))/len(X_train))"
      ],
      "execution_count": null,
      "outputs": [
        {
          "output_type": "stream",
          "name": "stdout",
          "text": [
            "리뷰 최대 길이:  85\n",
            "리뷰 평균 길이:  15.178302018928708\n"
          ]
        }
      ]
    },
    {
      "cell_type": "code",
      "metadata": {
        "colab": {
          "base_uri": "https://localhost:8080/",
          "height": 279
        },
        "id": "ZoaP4gsbJWC9",
        "outputId": "31fd2676-05fd-4022-bf3b-94059b2ac124"
      },
      "source": [
        "plt.hist([len(s) for s in X_train], bins=50)\n",
        "plt.xlabel('length of samples')\n",
        "plt.ylabel('number of samles')\n",
        "plt.show()"
      ],
      "execution_count": null,
      "outputs": [
        {
          "output_type": "display_data",
          "data": {
            "text/plain": [
              "<Figure size 432x288 with 1 Axes>"
            ],
            "image/png": "[encoded data removed]"
          },
          "metadata": {
            "needs_background": "light"
          }
        }
      ]
    },
    {
      "cell_type": "code",
      "metadata": {
        "id": "zFaxxQp0JqLc"
      },
      "source": [
        "def below_threshold_len(max_len, nested_list):\n",
        "    cnt=0\n",
        "    for s in nested_list:\n",
        "        if(len(s) <= max_len):\n",
        "            cnt += 1\n",
        "    print(\"전체 샘플 중 길이가 %s 이하인 샘플의 비율: %s\" %(max_len, (cnt/len(nested_list))*100))"
      ],
      "execution_count": null,
      "outputs": []
    },
    {
      "cell_type": "code",
      "metadata": {
        "colab": {
          "base_uri": "https://localhost:8080/"
        },
        "id": "NvXQTcuHKRD3",
        "outputId": "1e9c8d73-99fb-4e86-f4b3-e7527e316533"
      },
      "source": [
        "max_len = 80\n",
        "below_threshold_len(max_len, X_train)"
      ],
      "execution_count": null,
      "outputs": [
        {
          "output_type": "stream",
          "name": "stdout",
          "text": [
            "전체 샘플 중 길이가 80 이하인 샘플의 비율: 99.99933302652553\n"
          ]
        }
      ]
    },
    {
      "cell_type": "code",
      "metadata": {
        "id": "iyN3a9DvKVG2"
      },
      "source": [
        "# 길이 80으로 패딩\n",
        "X_train = pad_sequences(X_train, maxlen = max_len)\n",
        "X_test = pad_sequences(X_test, maxlen = max_len)"
      ],
      "execution_count": null,
      "outputs": []
    },
    {
      "cell_type": "markdown",
      "source": [
        "## 모델1 : RNN 감성분류"
      ],
      "metadata": {
        "id": "J_qA0nQfhvEI"
      }
    },
    {
      "cell_type": "code",
      "metadata": {
        "id": "Io5eKth-KlU3"
      },
      "source": [
        "from keras.layers import Embedding, Dense, GRU, LSTM, SimpleRNN\n",
        "from keras.models import Sequential, load_model\n",
        "from keras.callbacks import EarlyStopping, ModelCheckpoint"
      ],
      "execution_count": null,
      "outputs": []
    },
    {
      "cell_type": "code",
      "metadata": {
        "colab": {
          "base_uri": "https://localhost:8080/"
        },
        "outputId": "fae770f6-0687-49dd-cad4-51bbcc8f63ea",
        "id": "4ZMe_LEsiFFU"
      },
      "source": [
        "rnn_model = Sequential()\n",
        "rnn_model.add(Embedding(input_dim= vocab_size,output_dim= 100))\n",
        "rnn_model.add(SimpleRNN(32)) # 노드 32\n",
        "rnn_model.add(Dense(1, activation='sigmoid'))\n",
        "\n",
        "es = EarlyStopping(monitor='val_loss', mode='min', verbose=1, patience=4)\n",
        "mc = ModelCheckpoint('r_best_model.h5', monitor='val_acc', mode='max', verbose=1, save_best_only=True)\n",
        "\n",
        "rnn_model.compile(optimizer='rmsprop', loss='binary_crossentropy', metrics=['acc'])\n",
        "\n",
        "history = rnn_model.fit(X_train, y_train, epochs=10, callbacks=[es,mc], batch_size=60, validation_split=.2)"
      ],
      "execution_count": null,
      "outputs": [
        {
          "output_type": "stream",
          "name": "stdout",
          "text": [
            "Epoch 1/10\n",
            "2000/2000 [==============================] - ETA: 0s - loss: 0.2905 - acc: 0.8881\n",
            "Epoch 1: val_acc improved from -inf to 0.90816, saving model to r_best_model.h5\n",
            "2000/2000 [==============================] - 82s 40ms/step - loss: 0.2905 - acc: 0.8881 - val_loss: 0.2490 - val_acc: 0.9082\n",
            "Epoch 2/10\n",
            "1999/2000 [============================>.] - ETA: 0s - loss: 0.2410 - acc: 0.9121\n",
            "Epoch 2: val_acc improved from 0.90816 to 0.91353, saving model to r_best_model.h5\n",
            "2000/2000 [==============================] - 79s 40ms/step - loss: 0.2410 - acc: 0.9121 - val_loss: 0.2384 - val_acc: 0.9135\n",
            "Epoch 3/10\n",
            "2000/2000 [==============================] - ETA: 0s - loss: 0.2223 - acc: 0.9203\n",
            "Epoch 3: val_acc did not improve from 0.91353\n",
            "2000/2000 [==============================] - 78s 39ms/step - loss: 0.2223 - acc: 0.9203 - val_loss: 0.2438 - val_acc: 0.9084\n",
            "Epoch 4/10\n",
            "1999/2000 [============================>.] - ETA: 0s - loss: 0.2076 - acc: 0.9268\n",
            "Epoch 4: val_acc did not improve from 0.91353\n",
            "2000/2000 [==============================] - 79s 39ms/step - loss: 0.2076 - acc: 0.9268 - val_loss: 0.2430 - val_acc: 0.9109\n",
            "Epoch 5/10\n",
            "2000/2000 [==============================] - ETA: 0s - loss: 0.1942 - acc: 0.9316\n",
            "Epoch 5: val_acc improved from 0.91353 to 0.91543, saving model to r_best_model.h5\n",
            "2000/2000 [==============================] - 81s 40ms/step - loss: 0.1942 - acc: 0.9316 - val_loss: 0.2347 - val_acc: 0.9154\n",
            "Epoch 6/10\n",
            "1999/2000 [============================>.] - ETA: 0s - loss: 0.1836 - acc: 0.9366\n",
            "Epoch 6: val_acc did not improve from 0.91543\n",
            "2000/2000 [==============================] - 80s 40ms/step - loss: 0.1836 - acc: 0.9366 - val_loss: 0.2626 - val_acc: 0.9081\n",
            "Epoch 7/10\n",
            "2000/2000 [==============================] - ETA: 0s - loss: 0.1735 - acc: 0.9403\n",
            "Epoch 7: val_acc did not improve from 0.91543\n",
            "2000/2000 [==============================] - 80s 40ms/step - loss: 0.1735 - acc: 0.9403 - val_loss: 0.2438 - val_acc: 0.9119\n",
            "Epoch 8/10\n",
            "2000/2000 [==============================] - ETA: 0s - loss: 0.1649 - acc: 0.9435\n",
            "Epoch 8: val_acc did not improve from 0.91543\n",
            "2000/2000 [==============================] - 80s 40ms/step - loss: 0.1649 - acc: 0.9435 - val_loss: 0.2482 - val_acc: 0.9125\n",
            "Epoch 9/10\n",
            "2000/2000 [==============================] - ETA: 0s - loss: 0.1571 - acc: 0.9458\n",
            "Epoch 9: val_acc did not improve from 0.91543\n",
            "2000/2000 [==============================] - 78s 39ms/step - loss: 0.1571 - acc: 0.9458 - val_loss: 0.2533 - val_acc: 0.9092\n",
            "Epoch 9: early stopping\n"
          ]
        }
      ]
    },
    {
      "cell_type": "code",
      "metadata": {
        "colab": {
          "base_uri": "https://localhost:8080/"
        },
        "outputId": "cf73d20e-8b25-4674-d04c-258c0c52b2ce",
        "id": "tSy2muYFiLfA"
      },
      "source": [
        "loaded_model = load_model('r_best_model.h5')\n",
        "print(\"\\n 테스트 정확도: %.4f\" %(loaded_model.evaluate(X_test, y_test)[1]))"
      ],
      "execution_count": null,
      "outputs": [
        {
          "output_type": "stream",
          "name": "stdout",
          "text": [
            "1562/1562 [==============================] - 11s 7ms/step - loss: 0.6327 - acc: 0.7270\n",
            "\n",
            " 테스트 정확도: 0.7270\n"
          ]
        }
      ]
    },
    {
      "cell_type": "markdown",
      "metadata": {
        "id": "-d2jyAeIKiFb"
      },
      "source": [
        "## 모델2 : GRU로 감성분류"
      ]
    },
    {
      "cell_type": "code",
      "metadata": {
        "colab": {
          "base_uri": "https://localhost:8080/"
        },
        "id": "yL7PBRIMLONu",
        "outputId": "1cdbfd2e-add0-4732-ccd7-481e9aed8bf6"
      },
      "source": [
        "gru_model = Sequential()\n",
        "gru_model.add(Embedding(input_dim= vocab_size,output_dim= 100))\n",
        "gru_model.add(GRU(32))\n",
        "gru_model.add(Dense(1, activation='sigmoid'))\n",
        "\n",
        "es = EarlyStopping(monitor='val_loss', mode='min', verbose=1, patience=4)\n",
        "mc = ModelCheckpoint('best_model.h5', monitor='val_acc', mode='max', verbose=1, save_best_only=True)\n",
        "\n",
        "gru_model.compile(optimizer='rmsprop', loss='binary_crossentropy', metrics=['acc'])\n",
        "\n",
        "history = gru_model.fit(X_train, y_train, epochs=10, callbacks=[es,mc], batch_size=60, validation_split=.2)"
      ],
      "execution_count": null,
      "outputs": [
        {
          "output_type": "stream",
          "name": "stdout",
          "text": [
            "Epoch 1/10\n",
            "1999/2000 [============================>.] - ETA: 0s - loss: 0.2745 - acc: 0.8963\n",
            "Epoch 1: val_acc improved from -inf to 0.91373, saving model to best_model.h5\n",
            "2000/2000 [==============================] - 145s 71ms/step - loss: 0.2745 - acc: 0.8963 - val_loss: 0.2336 - val_acc: 0.9137\n",
            "Epoch 2/10\n",
            "2000/2000 [==============================] - ETA: 0s - loss: 0.2187 - acc: 0.9210\n",
            "Epoch 2: val_acc improved from 0.91373 to 0.91937, saving model to best_model.h5\n",
            "2000/2000 [==============================] - 138s 69ms/step - loss: 0.2187 - acc: 0.9210 - val_loss: 0.2204 - val_acc: 0.9194\n",
            "Epoch 3/10\n",
            "2000/2000 [==============================] - ETA: 0s - loss: 0.2018 - acc: 0.9279\n",
            "Epoch 3: val_acc improved from 0.91937 to 0.92707, saving model to best_model.h5\n",
            "2000/2000 [==============================] - 147s 74ms/step - loss: 0.2018 - acc: 0.9279 - val_loss: 0.2078 - val_acc: 0.9271\n",
            "Epoch 4/10\n",
            "1999/2000 [============================>.] - ETA: 0s - loss: 0.1914 - acc: 0.9323\n",
            "Epoch 4: val_acc did not improve from 0.92707\n",
            "2000/2000 [==============================] - 136s 68ms/step - loss: 0.1914 - acc: 0.9323 - val_loss: 0.2049 - val_acc: 0.9249\n",
            "Epoch 5/10\n",
            "2000/2000 [==============================] - ETA: 0s - loss: 0.1837 - acc: 0.9353\n",
            "Epoch 5: val_acc did not improve from 0.92707\n",
            "2000/2000 [==============================] - 141s 71ms/step - loss: 0.1837 - acc: 0.9353 - val_loss: 0.2042 - val_acc: 0.9270\n",
            "Epoch 6/10\n",
            "2000/2000 [==============================] - ETA: 0s - loss: 0.1769 - acc: 0.9379\n",
            "Epoch 6: val_acc did not improve from 0.92707\n",
            "2000/2000 [==============================] - 152s 76ms/step - loss: 0.1769 - acc: 0.9379 - val_loss: 0.2051 - val_acc: 0.9258\n",
            "Epoch 7/10\n",
            "2000/2000 [==============================] - ETA: 0s - loss: 0.1708 - acc: 0.9402\n",
            "Epoch 7: val_acc did not improve from 0.92707\n",
            "2000/2000 [==============================] - 137s 68ms/step - loss: 0.1708 - acc: 0.9402 - val_loss: 0.2096 - val_acc: 0.9246\n",
            "Epoch 8/10\n",
            "2000/2000 [==============================] - ETA: 0s - loss: 0.1650 - acc: 0.9432\n",
            "Epoch 8: val_acc did not improve from 0.92707\n",
            "2000/2000 [==============================] - 134s 67ms/step - loss: 0.1650 - acc: 0.9432 - val_loss: 0.2089 - val_acc: 0.9260\n",
            "Epoch 9/10\n",
            "1999/2000 [============================>.] - ETA: 0s - loss: 0.1600 - acc: 0.9447\n",
            "Epoch 9: val_acc did not improve from 0.92707\n",
            "2000/2000 [==============================] - 133s 66ms/step - loss: 0.1600 - acc: 0.9447 - val_loss: 0.2092 - val_acc: 0.9260\n",
            "Epoch 9: early stopping\n"
          ]
        }
      ]
    },
    {
      "cell_type": "code",
      "metadata": {
        "colab": {
          "base_uri": "https://localhost:8080/"
        },
        "id": "21P7wthAMOEK",
        "outputId": "4142c333-d813-469e-cb83-e43ddde5d349"
      },
      "source": [
        "loaded_model = load_model('best_model.h5')\n",
        "print(\"\\n 테스트 정확도: %.4f\" %(loaded_model.evaluate(X_test, y_test)[1]))"
      ],
      "execution_count": null,
      "outputs": [
        {
          "output_type": "stream",
          "name": "stdout",
          "text": [
            "1562/1562 [==============================] - 17s 10ms/step - loss: 0.4333 - acc: 0.8106\n",
            "\n",
            " 테스트 정확도: 0.8106\n"
          ]
        }
      ]
    },
    {
      "cell_type": "markdown",
      "source": [
        "## 모델3 : LSTM 감성분류"
      ],
      "metadata": {
        "id": "qdcbmZ-HhJYK"
      }
    },
    {
      "cell_type": "code",
      "metadata": {
        "colab": {
          "base_uri": "https://localhost:8080/"
        },
        "outputId": "c0527389-5812-4552-8d65-9d0509187661",
        "id": "1pIHxfbjhPt7"
      },
      "source": [
        "l_model = Sequential()\n",
        "l_model.add(Embedding(input_dim= vocab_size,output_dim= 100))\n",
        "l_model.add(LSTM(32)) # 노드 32\n",
        "l_model.add(Dense(1, activation='sigmoid'))\n",
        "\n",
        "es = EarlyStopping(monitor='val_loss', mode='min', verbose=1, patience=4)\n",
        "mc = ModelCheckpoint('l_best_model.h5', monitor='val_acc', mode='max', verbose=1, save_best_only=True)\n",
        "\n",
        "l_model.compile(optimizer='rmsprop', loss='binary_crossentropy', metrics=['acc'])\n",
        "\n",
        "history = l_model.fit(X_train, y_train, epochs=10, callbacks=[es,mc], batch_size=60, validation_split=.2)"
      ],
      "execution_count": null,
      "outputs": [
        {
          "output_type": "stream",
          "name": "stdout",
          "text": [
            "Epoch 1/10\n",
            "1999/2000 [============================>.] - ETA: 0s - loss: 0.2752 - acc: 0.8962\n",
            "Epoch 1: val_acc improved from -inf to 0.91610, saving model to l_best_model.h5\n",
            "2000/2000 [==============================] - 144s 70ms/step - loss: 0.2752 - acc: 0.8962 - val_loss: 0.2316 - val_acc: 0.9161\n",
            "Epoch 2/10\n",
            "1999/2000 [============================>.] - ETA: 0s - loss: 0.2202 - acc: 0.9209\n",
            "Epoch 2: val_acc improved from 0.91610 to 0.92143, saving model to l_best_model.h5\n",
            "2000/2000 [==============================] - 139s 69ms/step - loss: 0.2202 - acc: 0.9209 - val_loss: 0.2163 - val_acc: 0.9214\n",
            "Epoch 3/10\n",
            "1999/2000 [============================>.] - ETA: 0s - loss: 0.2027 - acc: 0.9275\n",
            "Epoch 3: val_acc improved from 0.92143 to 0.92563, saving model to l_best_model.h5\n",
            "2000/2000 [==============================] - 138s 69ms/step - loss: 0.2027 - acc: 0.9275 - val_loss: 0.2063 - val_acc: 0.9256\n",
            "Epoch 4/10\n",
            "1999/2000 [============================>.] - ETA: 0s - loss: 0.1921 - acc: 0.9319\n",
            "Epoch 4: val_acc did not improve from 0.92563\n",
            "2000/2000 [==============================] - 140s 70ms/step - loss: 0.1921 - acc: 0.9319 - val_loss: 0.2328 - val_acc: 0.9165\n",
            "Epoch 5/10\n",
            "1999/2000 [============================>.] - ETA: 0s - loss: 0.1847 - acc: 0.9349\n",
            "Epoch 5: val_acc improved from 0.92563 to 0.92677, saving model to l_best_model.h5\n",
            "2000/2000 [==============================] - 137s 68ms/step - loss: 0.1847 - acc: 0.9349 - val_loss: 0.2035 - val_acc: 0.9268\n",
            "Epoch 6/10\n",
            "2000/2000 [==============================] - ETA: 0s - loss: 0.1780 - acc: 0.9377\n",
            "Epoch 6: val_acc improved from 0.92677 to 0.92747, saving model to l_best_model.h5\n",
            "2000/2000 [==============================] - 150s 75ms/step - loss: 0.1780 - acc: 0.9377 - val_loss: 0.2058 - val_acc: 0.9275\n",
            "Epoch 7/10\n",
            "2000/2000 [==============================] - ETA: 0s - loss: 0.1720 - acc: 0.9398\n",
            "Epoch 7: val_acc did not improve from 0.92747\n",
            "2000/2000 [==============================] - 168s 84ms/step - loss: 0.1720 - acc: 0.9398 - val_loss: 0.2066 - val_acc: 0.9258\n",
            "Epoch 8/10\n",
            "1999/2000 [============================>.] - ETA: 0s - loss: 0.1667 - acc: 0.9423\n",
            "Epoch 8: val_acc did not improve from 0.92747\n",
            "2000/2000 [==============================] - 143s 71ms/step - loss: 0.1667 - acc: 0.9423 - val_loss: 0.2161 - val_acc: 0.9209\n",
            "Epoch 9/10\n",
            "1999/2000 [============================>.] - ETA: 0s - loss: 0.1617 - acc: 0.9442\n",
            "Epoch 9: val_acc did not improve from 0.92747\n",
            "2000/2000 [==============================] - 138s 69ms/step - loss: 0.1617 - acc: 0.9442 - val_loss: 0.2149 - val_acc: 0.9251\n",
            "Epoch 9: early stopping\n"
          ]
        }
      ]
    },
    {
      "cell_type": "code",
      "metadata": {
        "colab": {
          "base_uri": "https://localhost:8080/"
        },
        "outputId": "ba2b477d-7a68-496c-d0f3-1acb8b6f1532",
        "id": "3qPTEyWShSAx"
      },
      "source": [
        "loaded_model = load_model('l_best_model.h5')\n",
        "print(\"\\n 테스트 정확도: %.4f\" %(loaded_model.evaluate(X_test, y_test)[1]))"
      ],
      "execution_count": null,
      "outputs": [
        {
          "output_type": "stream",
          "name": "stdout",
          "text": [
            "1562/1562 [==============================] - 18s 11ms/step - loss: 0.4367 - acc: 0.8098\n",
            "\n",
            " 테스트 정확도: 0.8098\n"
          ]
        }
      ]
    },
    {
      "cell_type": "markdown",
      "source": [
        "## 모델4 : 모형 반복"
      ],
      "metadata": {
        "id": "vO56R_nAjAdc"
      }
    },
    {
      "cell_type": "code",
      "metadata": {
        "colab": {
          "base_uri": "https://localhost:8080/"
        },
        "outputId": "786362b7-17bf-4128-a616-8b503e4d16db",
        "id": "brRfjiFPjJFC"
      },
      "source": [
        "gru2_model = Sequential()\n",
        "gru2_model.add(Embedding(input_dim= vocab_size,output_dim= 100))\n",
        "gru2_model.add(GRU(32, dropout = 0.3, return_sequences = True))\n",
        "gru2_model.add(GRU(64, dropout = 0.5))\n",
        "gru2_model.add(Dense(1, activation='sigmoid'))\n",
        "\n",
        "es = EarlyStopping(monitor='val_loss', mode='min', verbose=1, patience=4)\n",
        "mc = ModelCheckpoint('2best_model.h5', monitor='val_acc', mode='max', verbose=1, save_best_only=True)\n",
        "\n",
        "gru2_model.compile(optimizer='rmsprop', loss='binary_crossentropy', metrics=['acc'])\n",
        "\n",
        "history = gru2_model.fit(X_train, y_train, epochs=10, callbacks=[es,mc], batch_size=60, validation_split=.2)"
      ],
      "execution_count": null,
      "outputs": [
        {
          "output_type": "stream",
          "name": "stdout",
          "text": [
            "Epoch 1/10\n",
            "2000/2000 [==============================] - ETA: 0s - loss: 0.2854 - acc: 0.8904\n",
            "Epoch 1: val_acc improved from -inf to 0.90466, saving model to 2best_model.h5\n",
            "2000/2000 [==============================] - 472s 233ms/step - loss: 0.2854 - acc: 0.8904 - val_loss: 0.2523 - val_acc: 0.9047\n",
            "Epoch 2/10\n",
            "2000/2000 [==============================] - ETA: 0s - loss: 0.2292 - acc: 0.9180\n",
            "Epoch 2: val_acc improved from 0.90466 to 0.92193, saving model to 2best_model.h5\n",
            "2000/2000 [==============================] - 467s 233ms/step - loss: 0.2292 - acc: 0.9180 - val_loss: 0.2192 - val_acc: 0.9219\n",
            "Epoch 3/10\n",
            "2000/2000 [==============================] - ETA: 0s - loss: 0.2135 - acc: 0.9237\n",
            "Epoch 3: val_acc improved from 0.92193 to 0.92337, saving model to 2best_model.h5\n",
            "2000/2000 [==============================] - 464s 232ms/step - loss: 0.2135 - acc: 0.9237 - val_loss: 0.2137 - val_acc: 0.9234\n",
            "Epoch 4/10\n",
            "2000/2000 [==============================] - ETA: 0s - loss: 0.2061 - acc: 0.9266\n",
            "Epoch 4: val_acc improved from 0.92337 to 0.92547, saving model to 2best_model.h5\n",
            "2000/2000 [==============================] - 465s 233ms/step - loss: 0.2061 - acc: 0.9266 - val_loss: 0.2086 - val_acc: 0.9255\n",
            "Epoch 5/10\n",
            "2000/2000 [==============================] - ETA: 0s - loss: 0.2001 - acc: 0.9294\n",
            "Epoch 5: val_acc improved from 0.92547 to 0.92633, saving model to 2best_model.h5\n",
            "2000/2000 [==============================] - 468s 234ms/step - loss: 0.2001 - acc: 0.9294 - val_loss: 0.2094 - val_acc: 0.9263\n",
            "Epoch 6/10\n",
            "2000/2000 [==============================] - ETA: 0s - loss: 0.1954 - acc: 0.9312\n",
            "Epoch 6: val_acc did not improve from 0.92633\n",
            "2000/2000 [==============================] - 471s 235ms/step - loss: 0.1954 - acc: 0.9312 - val_loss: 0.2093 - val_acc: 0.9252\n",
            "Epoch 7/10\n",
            "2000/2000 [==============================] - ETA: 0s - loss: 0.1912 - acc: 0.9331\n",
            "Epoch 7: val_acc improved from 0.92633 to 0.92714, saving model to 2best_model.h5\n",
            "2000/2000 [==============================] - 465s 233ms/step - loss: 0.1912 - acc: 0.9331 - val_loss: 0.2059 - val_acc: 0.9271\n",
            "Epoch 8/10\n",
            "2000/2000 [==============================] - ETA: 0s - loss: 0.1874 - acc: 0.9345\n",
            "Epoch 8: val_acc did not improve from 0.92714\n",
            "2000/2000 [==============================] - 465s 233ms/step - loss: 0.1874 - acc: 0.9345 - val_loss: 0.2060 - val_acc: 0.9265\n",
            "Epoch 9/10\n",
            "2000/2000 [==============================] - ETA: 0s - loss: 0.1849 - acc: 0.9357\n",
            "Epoch 9: val_acc did not improve from 0.92714\n",
            "2000/2000 [==============================] - 465s 232ms/step - loss: 0.1849 - acc: 0.9357 - val_loss: 0.2078 - val_acc: 0.9262\n",
            "Epoch 10/10\n",
            "2000/2000 [==============================] - ETA: 0s - loss: 0.1818 - acc: 0.9364\n",
            "Epoch 10: val_acc did not improve from 0.92714\n",
            "2000/2000 [==============================] - 467s 233ms/step - loss: 0.1818 - acc: 0.9364 - val_loss: 0.2129 - val_acc: 0.9264\n"
          ]
        }
      ]
    },
    {
      "cell_type": "code",
      "metadata": {
        "colab": {
          "base_uri": "https://localhost:8080/"
        },
        "outputId": "10d0cb6f-1cb3-4bec-b5bd-25716708dd5b",
        "id": "y4uzWRv2jKSA"
      },
      "source": [
        "loaded_model = load_model('2best_model.h5')\n",
        "print(\"\\n 테스트 정확도: %.4f\" %(loaded_model.evaluate(X_test, y_test)[1]))"
      ],
      "execution_count": null,
      "outputs": [
        {
          "output_type": "stream",
          "name": "stdout",
          "text": [
            "1562/1562 [==============================] - 37s 23ms/step - loss: 0.3976 - acc: 0.8328\n",
            "\n",
            " 테스트 정확도: 0.8328\n"
          ]
        }
      ]
    },
    {
      "cell_type": "markdown",
      "metadata": {
        "id": "JUyTon7uMq2k"
      },
      "source": [
        "## 리뷰 예측"
      ]
    },
    {
      "cell_type": "code",
      "metadata": {
        "id": "Xz6BecFgMtYM"
      },
      "source": [
        "def sentiment_predict(new_sent):\n",
        "    new_sent = mecab.morphs(new_sent) #토큰화\n",
        "    new_sent = [w for w in new_sent if not w in stopwords]  #불용어 제거\n",
        "    encoded = tokenizer.texts_to_sequences([new_sent])  #정수 인코딩\n",
        "    pad_new = pad_sequences(encoded, maxlen = max_len)  #패딩\n",
        "    score = float(loaded_model.predict(pad_new))    #예측 모델\n",
        "\n",
        "    if (score>.5):\n",
        "        print(\"{:.2f}%확률로 긍정 리뷰입니다. \".format(score*100))\n",
        "    else:\n",
        "        print(\"{:.2f}%확률로 부정 리뷰입니다. \".format((1-score)*100))"
      ],
      "execution_count": null,
      "outputs": []
    },
    {
      "cell_type": "code",
      "metadata": {
        "colab": {
          "base_uri": "https://localhost:8080/"
        },
        "id": "goO17gCVNszx",
        "outputId": "c84f531c-0dc8-423a-9e29-7fc72a2f706c"
      },
      "source": [
        "sentiment_predict(\"또 사고 싶어요. 추천해요\")"
      ],
      "execution_count": null,
      "outputs": [
        {
          "output_type": "stream",
          "name": "stdout",
          "text": [
            "97.75%확률로 긍정 리뷰입니다. \n"
          ]
        }
      ]
    },
    {
      "cell_type": "code",
      "metadata": {
        "colab": {
          "base_uri": "https://localhost:8080/"
        },
        "id": "p6N1XvFYNzXs",
        "outputId": "3fa48301-6b3c-4b75-b774-f793cacd9a2a"
      },
      "source": [
        "sentiment_predict(\"너무 별로에요 이걸 누가 사요\")"
      ],
      "execution_count": null,
      "outputs": [
        {
          "output_type": "stream",
          "name": "stdout",
          "text": [
            "99.63%확률로 부정 리뷰입니다. \n"
          ]
        }
      ]
    },
    {
      "cell_type": "code",
      "metadata": {
        "colab": {
          "base_uri": "https://localhost:8080/"
        },
        "id": "qd4YBJwDN5UU",
        "outputId": "f682c0d8-239b-4ec9-f519-5f7ad9708672"
      },
      "source": [
        "sentiment_predict(\"리뷰 쓸 가치도 없어요\")"
      ],
      "execution_count": null,
      "outputs": [
        {
          "output_type": "stream",
          "name": "stdout",
          "text": [
            "94.58%확률로 부정 리뷰입니다. \n"
          ]
        }
      ]
    }
  ]
}