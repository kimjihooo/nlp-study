{
  "cells": [
    {
      "cell_type": "markdown",
      "source": [
        "# Transformer_Korean_Chatbot"
      ],
      "metadata": {
        "id": "Ns6QnsndjOPI"
      }
    },
    {
      "cell_type": "code",
      "metadata": {
        "id": "M5W2D7Uq_u_x"
      },
      "source": [
        "import pandas as pd\n",
        "import urllib.request\n",
        "import tensorflow_datasets as tfds\n",
        "import tensorflow as tf\n",
        "import time\n",
        "import numpy as np\n",
        "import matplotlib.pyplot as plt\n",
        "import re"
      ],
      "execution_count": null,
      "outputs": []
    },
    {
      "cell_type": "code",
      "metadata": {
        "colab": {
          "base_uri": "https://localhost:8080/",
          "height": 206
        },
        "id": "t7ku6KRb_545",
        "outputId": "17d2021d-94f2-485c-cb19-21c410884b67"
      },
      "source": [
        "urllib.request.urlretrieve(\"https://raw.githubusercontent.com/songys/Chatbot_data/master/ChatbotData.csv\", filename=\"ChatBotData.csv\")\n",
        "\n",
        "chat_data = pd.read_csv('ChatBotData.csv')\n",
        "chat_data.head()"
      ],
      "execution_count": null,
      "outputs": [
        {
          "output_type": "execute_result",
          "data": {
            "text/plain": [
              "                 Q            A  label\n",
              "0           12시 땡!   하루가 또 가네요.      0\n",
              "1      1지망 학교 떨어졌어    위로해 드립니다.      0\n",
              "2     3박4일 놀러가고 싶다  여행은 언제나 좋죠.      0\n",
              "3  3박4일 정도 놀러가고 싶다  여행은 언제나 좋죠.      0\n",
              "4          PPL 심하네   눈살이 찌푸려지죠.      0"
            ],
            "text/html": [
              "\n",
              "  <div id=\"df-6576b15b-505a-4101-8aa6-f58d56d0aa2c\">\n",
              "    <div class=\"colab-df-container\">\n",
              "      <div>\n",
              "<style scoped>\n",
              "    .dataframe tbody tr th:only-of-type {\n",
              "        vertical-align: middle;\n",
              "    }\n",
              "\n",
              "    .dataframe tbody tr th {\n",
              "        vertical-align: top;\n",
              "    }\n",
              "\n",
              "    .dataframe thead th {\n",
              "        text-align: right;\n",
              "    }\n",
              "</style>\n",
              "<table border=\"1\" class=\"dataframe\">\n",
              "  <thead>\n",
              "    <tr style=\"text-align: right;\">\n",
              "      <th></th>\n",
              "      <th>Q</th>\n",
              "      <th>A</th>\n",
              "      <th>label</th>\n",
              "    </tr>\n",
              "  </thead>\n",
              "  <tbody>\n",
              "    <tr>\n",
              "      <th>0</th>\n",
              "      <td>12시 땡!</td>\n",
              "      <td>하루가 또 가네요.</td>\n",
              "      <td>0</td>\n",
              "    </tr>\n",
              "    <tr>\n",
              "      <th>1</th>\n",
              "      <td>1지망 학교 떨어졌어</td>\n",
              "      <td>위로해 드립니다.</td>\n",
              "      <td>0</td>\n",
              "    </tr>\n",
              "    <tr>\n",
              "      <th>2</th>\n",
              "      <td>3박4일 놀러가고 싶다</td>\n",
              "      <td>여행은 언제나 좋죠.</td>\n",
              "      <td>0</td>\n",
              "    </tr>\n",
              "    <tr>\n",
              "      <th>3</th>\n",
              "      <td>3박4일 정도 놀러가고 싶다</td>\n",
              "      <td>여행은 언제나 좋죠.</td>\n",
              "      <td>0</td>\n",
              "    </tr>\n",
              "    <tr>\n",
              "      <th>4</th>\n",
              "      <td>PPL 심하네</td>\n",
              "      <td>눈살이 찌푸려지죠.</td>\n",
              "      <td>0</td>\n",
              "    </tr>\n",
              "  </tbody>\n",
              "</table>\n",
              "</div>\n",
              "      <button class=\"colab-df-convert\" onclick=\"convertToInteractive('df-6576b15b-505a-4101-8aa6-f58d56d0aa2c')\"\n",
              "              title=\"Convert this dataframe to an interactive table.\"\n",
              "              style=\"display:none;\">\n",
              "        \n",
              "  <svg xmlns=\"http://www.w3.org/2000/svg\" height=\"24px\"viewBox=\"0 0 24 24\"\n",
              "       width=\"24px\">\n",
              "    <path d=\"M0 0h24v24H0V0z\" fill=\"none\"/>\n",
              "    <path d=\"M18.56 5.44l.94 2.06.94-2.06 2.06-.94-2.06-.94-.94-2.06-.94 2.06-2.06.94zm-11 1L8.5 8.5l.94-2.06 2.06-.94-2.06-.94L8.5 2.5l-.94 2.06-2.06.94zm10 10l.94 2.06.94-2.06 2.06-.94-2.06-.94-.94-2.06-.94 2.06-2.06.94z\"/><path d=\"M17.41 7.96l-1.37-1.37c-.4-.4-.92-.59-1.43-.59-.52 0-1.04.2-1.43.59L10.3 9.45l-7.72 7.72c-.78.78-.78 2.05 0 2.83L4 21.41c.39.39.9.59 1.41.59.51 0 1.02-.2 1.41-.59l7.78-7.78 2.81-2.81c.8-.78.8-2.07 0-2.86zM5.41 20L4 18.59l7.72-7.72 1.47 1.35L5.41 20z\"/>\n",
              "  </svg>\n",
              "      </button>\n",
              "      \n",
              "  <style>\n",
              "    .colab-df-container {\n",
              "      display:flex;\n",
              "      flex-wrap:wrap;\n",
              "      gap: 12px;\n",
              "    }\n",
              "\n",
              "    .colab-df-convert {\n",
              "      background-color: #E8F0FE;\n",
              "      border: none;\n",
              "      border-radius: 50%;\n",
              "      cursor: pointer;\n",
              "      display: none;\n",
              "      fill: #1967D2;\n",
              "      height: 32px;\n",
              "      padding: 0 0 0 0;\n",
              "      width: 32px;\n",
              "    }\n",
              "\n",
              "    .colab-df-convert:hover {\n",
              "      background-color: #E2EBFA;\n",
              "      box-shadow: 0px 1px 2px rgba(60, 64, 67, 0.3), 0px 1px 3px 1px rgba(60, 64, 67, 0.15);\n",
              "      fill: #174EA6;\n",
              "    }\n",
              "\n",
              "    [theme=dark] .colab-df-convert {\n",
              "      background-color: #3B4455;\n",
              "      fill: #D2E3FC;\n",
              "    }\n",
              "\n",
              "    [theme=dark] .colab-df-convert:hover {\n",
              "      background-color: #434B5C;\n",
              "      box-shadow: 0px 1px 3px 1px rgba(0, 0, 0, 0.15);\n",
              "      filter: drop-shadow(0px 1px 2px rgba(0, 0, 0, 0.3));\n",
              "      fill: #FFFFFF;\n",
              "    }\n",
              "  </style>\n",
              "\n",
              "      <script>\n",
              "        const buttonEl =\n",
              "          document.querySelector('#df-6576b15b-505a-4101-8aa6-f58d56d0aa2c button.colab-df-convert');\n",
              "        buttonEl.style.display =\n",
              "          google.colab.kernel.accessAllowed ? 'block' : 'none';\n",
              "\n",
              "        async function convertToInteractive(key) {\n",
              "          const element = document.querySelector('#df-6576b15b-505a-4101-8aa6-f58d56d0aa2c');\n",
              "          const dataTable =\n",
              "            await google.colab.kernel.invokeFunction('convertToInteractive',\n",
              "                                                     [key], {});\n",
              "          if (!dataTable) return;\n",
              "\n",
              "          const docLinkHtml = 'Like what you see? Visit the ' +\n",
              "            '<a target=\"_blank\" href=https://colab.research.google.com/notebooks/data_table.ipynb>data table notebook</a>'\n",
              "            + ' to learn more about interactive tables.';\n",
              "          element.innerHTML = '';\n",
              "          dataTable['output_type'] = 'display_data';\n",
              "          await google.colab.output.renderOutput(dataTable, element);\n",
              "          const docLink = document.createElement('div');\n",
              "          docLink.innerHTML = docLinkHtml;\n",
              "          element.appendChild(docLink);\n",
              "        }\n",
              "      </script>\n",
              "    </div>\n",
              "  </div>\n",
              "  "
            ]
          },
          "metadata": {},
          "execution_count": 2
        }
      ]
    },
    {
      "cell_type": "code",
      "execution_count": null,
      "metadata": {
        "colab": {
          "base_uri": "https://localhost:8080/"
        },
        "id": "5D6azrBKg65k",
        "outputId": "fe70ded1-2933-46cd-878c-5d7995dbd2b5"
      },
      "outputs": [
        {
          "output_type": "execute_result",
          "data": {
            "text/plain": [
              "(11823, 3)"
            ]
          },
          "metadata": {},
          "execution_count": 3
        }
      ],
      "source": [
        "chat_data.shape"
      ]
    },
    {
      "cell_type": "markdown",
      "source": [
        "## 데이터 전처리"
      ],
      "metadata": {
        "id": "V1WvhRQojJ5i"
      }
    },
    {
      "cell_type": "code",
      "execution_count": null,
      "metadata": {
        "colab": {
          "base_uri": "https://localhost:8080/"
        },
        "id": "syt1GMyHg65l",
        "outputId": "a1531f48-62be-4857-d4a1-9327d0b6e288"
      },
      "outputs": [
        {
          "output_type": "stream",
          "name": "stdout",
          "text": [
            "                 Q           A  label\n",
            "0            12시 땡   하루가 또 가네요      0\n",
            "1      1지망 학교 떨어졌어    위로해 드립니다      0\n",
            "2     3박4일 놀러가고 싶다  여행은 언제나 좋죠      0\n",
            "3  3박4일 정도 놀러가고 싶다  여행은 언제나 좋죠      0\n",
            "4          PPL 심하네   눈살이 찌푸려지죠      0\n"
          ]
        }
      ],
      "source": [
        "#불필요한 문장부호 삭제\n",
        "import string\n",
        "exclude=set(string.punctuation)\n",
        "chat_data.Q=chat_data.Q.apply(lambda x:''.join (ch for ch in x if ch not in exclude))\n",
        "chat_data.A=chat_data.A.apply(lambda x:''.join (ch for ch in x if ch not in exclude))\n",
        "print(chat_data.head())"
      ]
    },
    {
      "cell_type": "code",
      "execution_count": null,
      "metadata": {
        "colab": {
          "base_uri": "https://localhost:8080/"
        },
        "id": "MSclDvSQg65m",
        "outputId": "07ac86ef-867c-4a9e-8727-5f7fce99b000"
      },
      "outputs": [
        {
          "output_type": "stream",
          "name": "stdout",
          "text": [
            "8510\n"
          ]
        }
      ],
      "source": [
        "#!pip install tensorflow_datasets\n",
        "import tensorflow_datasets as tfds\n",
        "tokenizer = tfds.deprecated.text.SubwordTextEncoder.build_from_corpus(\n",
        "    chat_data.Q+chat_data.A, target_vocab_size=2**13)\n",
        "print(tokenizer.vocab_size)"
      ]
    },
    {
      "cell_type": "markdown",
      "source": [
        "총 어휘 8510개"
      ],
      "metadata": {
        "id": "G2D4xcsZhqtp"
      }
    },
    {
      "cell_type": "code",
      "execution_count": null,
      "metadata": {
        "colab": {
          "base_uri": "https://localhost:8080/"
        },
        "id": "bqk1KE_5g65n",
        "outputId": "98bad4e7-967b-4bd4-bbcb-5cf9e1d08b38"
      },
      "outputs": [
        {
          "output_type": "stream",
          "name": "stdout",
          "text": [
            "[5871, 590, 3523, 127, 695, 3756, 833]\n",
            "가스비 비싼데 감기 걸리겠어\n"
          ]
        }
      ],
      "source": [
        "ex_1=tokenizer.encode(chat_data.loc[20,'Q'])\n",
        "print(ex_1)\n",
        "ex_2=tokenizer.decode(ex_1)\n",
        "print(ex_2)"
      ]
    },
    {
      "cell_type": "code",
      "execution_count": null,
      "metadata": {
        "colab": {
          "base_uri": "https://localhost:8080/"
        },
        "id": "2viJ4Y5ug65o",
        "outputId": "0a337fd6-7d65-4be7-d4e6-fb0bc86231e1"
      },
      "outputs": [
        {
          "output_type": "stream",
          "name": "stdout",
          "text": [
            "8512\n"
          ]
        }
      ],
      "source": [
        "START_TOKEN, END_TOKEN = [tokenizer.vocab_size], [tokenizer.vocab_size + 1]\n",
        "\n",
        "VOCAB_SIZE = tokenizer.vocab_size + 2 #2개의 token이 추가됨\n",
        "print(VOCAB_SIZE)"
      ]
    },
    {
      "cell_type": "code",
      "execution_count": null,
      "metadata": {
        "colab": {
          "base_uri": "https://localhost:8080/"
        },
        "id": "XoAijAixg65r",
        "outputId": "6b68f9b2-2a8a-4d08-bb4d-3c999a4e9c09"
      },
      "outputs": [
        {
          "output_type": "stream",
          "name": "stdout",
          "text": [
            "[[8251, 1153, 3075], [8303, 47, 906, 8286, 976, 1715], [8305, 1433, 4683, 8286, 3666, 87], [8305, 1433, 4683, 8286, 1284, 3666, 87], [8334, 8334, 8330, 8286, 4213]]\n",
            "[[8510, 3857, 64, 8230, 8511], [8510, 1824, 5586, 8511], [8510, 3409, 762, 120, 8511], [8510, 3409, 762, 120, 8511], [8510, 964, 2300, 1490, 2180, 4436, 40, 8511]]\n"
          ]
        }
      ],
      "source": [
        "tokenized_inputs, tokenized_outputs = [], []\n",
        "\n",
        "for (sentence1, sentence2) in zip(chat_data.Q, chat_data.A):\n",
        "    # decoder(토큰화 + 정수 인코딩), 시작 토큰과 종료 토큰 추가\n",
        "    sentence1 = tokenizer.encode(sentence1)\n",
        "    sentence2 = START_TOKEN + tokenizer.encode(sentence2) + END_TOKEN\n",
        "\n",
        "    tokenized_inputs.append(sentence1)\n",
        "    tokenized_outputs.append(sentence2) \n",
        "\n",
        "print(tokenized_inputs[:5])\n",
        "print(tokenized_outputs[:5])"
      ]
    },
    {
      "cell_type": "code",
      "execution_count": null,
      "metadata": {
        "colab": {
          "base_uri": "https://localhost:8080/"
        },
        "id": "neoccv6Bg65s",
        "outputId": "afaad35d-5bb8-4917-d038-7cfe8cc282ee"
      },
      "outputs": [
        {
          "output_type": "stream",
          "name": "stdout",
          "text": [
            "20\n",
            "29\n"
          ]
        }
      ],
      "source": [
        "# 최대길이 20, 29\n",
        "import numpy as np\n",
        "lenth_list=[]\n",
        "for l in tokenized_inputs:\n",
        "    lenth_list.append(len(l))\n",
        "q_lenth_max=np.max(lenth_list)\n",
        "print(q_lenth_max)\n",
        "\n",
        "lenth_list=[]\n",
        "for l in tokenized_outputs:\n",
        "    lenth_list.append(len(l))\n",
        "a_lenth_max=np.max(lenth_list)\n",
        "print(a_lenth_max)\n"
      ]
    },
    {
      "cell_type": "code",
      "execution_count": null,
      "metadata": {
        "id": "Rowf_pqyg65u"
      },
      "outputs": [],
      "source": [
        "# 패딩\n",
        "import tensorflow as tf\n",
        "\n",
        "max_length_q=20\n",
        "questions = tf.keras.preprocessing.sequence.pad_sequences(\n",
        "      tokenized_inputs, maxlen=max_length_q, padding='post')\n",
        "\n",
        "max_length_a=29\n",
        "answers = tf.keras.preprocessing.sequence.pad_sequences(\n",
        "      tokenized_outputs, maxlen=max_length_a, padding='post')"
      ]
    },
    {
      "cell_type": "code",
      "execution_count": null,
      "metadata": {
        "colab": {
          "base_uri": "https://localhost:8080/"
        },
        "id": "V7b-3aiNg65v",
        "outputId": "aac6522a-0c70-4ac1-bbb7-f864c29c4a44"
      },
      "outputs": [
        {
          "output_type": "stream",
          "name": "stdout",
          "text": [
            "[[8251 1153 3075    0    0    0    0    0    0    0    0    0    0    0\n",
            "     0    0    0    0    0    0]\n",
            " [8303   47  906 8286  976 1715    0    0    0    0    0    0    0    0\n",
            "     0    0    0    0    0    0]]\n",
            "[[8510 3857   64 8230 8511    0    0    0    0    0    0    0    0    0\n",
            "     0    0    0    0    0    0    0    0    0    0    0    0    0    0\n",
            "     0]\n",
            " [8510 1824 5586 8511    0    0    0    0    0    0    0    0    0    0\n",
            "     0    0    0    0    0    0    0    0    0    0    0    0    0    0\n",
            "     0]]\n"
          ]
        }
      ],
      "source": [
        "print(questions[:2])\n",
        "print(answers[:2])"
      ]
    },
    {
      "cell_type": "code",
      "execution_count": null,
      "metadata": {
        "colab": {
          "base_uri": "https://localhost:8080/"
        },
        "id": "VRIORK8mg65w",
        "outputId": "72d6b893-a479-4ff6-bfab-9c22341185ff"
      },
      "outputs": [
        {
          "output_type": "stream",
          "name": "stdout",
          "text": [
            "12시 땡\n",
            "(11823, 20)\n",
            "(11823, 29)\n"
          ]
        }
      ],
      "source": [
        "print(tokenizer.decode(questions[0]))\n",
        "print(questions.shape)\n",
        "print(answers.shape)"
      ]
    },
    {
      "cell_type": "code",
      "execution_count": null,
      "metadata": {
        "colab": {
          "base_uri": "https://localhost:8080/"
        },
        "id": "99fPKi1Og65x",
        "outputId": "11aaa574-941d-477b-8cdc-c1a0b6af7a6e"
      },
      "outputs": [
        {
          "output_type": "stream",
          "name": "stdout",
          "text": [
            "[32 20]\n",
            "(32, 28)\n",
            "[32 28]\n"
          ]
        }
      ],
      "source": [
        "import tensorflow as tf\n",
        "data_set=tf.data.Dataset.from_tensor_slices(((questions,answers[:,:-1]),answers[:,1:]))\n",
        "data_final=data_set.shuffle(500).batch(32).prefetch(32)\n",
        "ds_test=next(iter(data_final))\n",
        "print(np.array(ds_test[0][0].shape))\n",
        "print(np.array(ds_test[1]).shape)\n",
        "print(np.array(ds_test[0][1].shape))"
      ]
    },
    {
      "cell_type": "markdown",
      "source": [
        "## 트랜스포머 모형"
      ],
      "metadata": {
        "id": "bOblSUSZjGhj"
      }
    },
    {
      "cell_type": "code",
      "execution_count": null,
      "metadata": {
        "id": "agktvj7Lg65y"
      },
      "outputs": [],
      "source": [
        "import tensorflow as tf\n",
        "def get_angles(pos, i, d_model):\n",
        "  angle_rates = 1 / np.power(10000, (2 * (i//2)) / np.float32(d_model))\n",
        "  return pos * angle_rates"
      ]
    },
    {
      "cell_type": "code",
      "execution_count": null,
      "metadata": {
        "id": "llkO7r6vg65z"
      },
      "outputs": [],
      "source": [
        "def positional_encoding(position, d_model):\n",
        "  angle_rads = get_angles(np.arange(position)[:, np.newaxis],\n",
        "                          np.arange(d_model)[np.newaxis, :],\n",
        "                          d_model)\n",
        "\n",
        "  # apply sin to even indices in the array; 2i\n",
        "  angle_rads[:, 0::2] = np.sin(angle_rads[:, 0::2])\n",
        "\n",
        "  # apply cos to odd indices in the array; 2i+1\n",
        "  angle_rads[:, 1::2] = np.cos(angle_rads[:, 1::2])\n",
        "\n",
        "  pos_encoding = angle_rads[np.newaxis, ...]\n",
        "\n",
        "  return tf.cast(pos_encoding, dtype=tf.float32)#(1,position,d_model)"
      ]
    },
    {
      "cell_type": "code",
      "execution_count": null,
      "metadata": {
        "id": "mgzD01FOg651"
      },
      "outputs": [],
      "source": [
        "def create_padding_mask(x):\n",
        "  mask = tf.cast(tf.math.equal(x, 0), tf.float32)\n",
        "  #x:tokenized words with padding for each sentence 1D텐서 [...,0,0,0]\n",
        "  # add extra dimensions to add the padding\n",
        "  # to the attention logits.\n",
        "  return mask[:, tf.newaxis, tf.newaxis, :]  # (batch_size, 1, 1, seq_len)"
      ]
    },
    {
      "cell_type": "code",
      "execution_count": null,
      "metadata": {
        "id": "Igi2_Qbzg653"
      },
      "outputs": [],
      "source": [
        "def create_look_ahead_mask(x):\n",
        "    seq_len=tf.shape(x)[1]\n",
        "    look_ahead_mask=1-tf.linalg.band_part(tf.ones((seq_len,seq_len)),-1,0)\n",
        "    padding_mask=create_padding_mask(x)\n",
        "    return tf.maximum(look_ahead_mask,padding_mask)"
      ]
    },
    {
      "cell_type": "code",
      "execution_count": null,
      "metadata": {
        "id": "M5rDjuW4g654"
      },
      "outputs": [],
      "source": [
        "def scaled_dot_product_attention(q, k, v, mask):\n",
        "  \"\"\"Calculate the attention weights.\n",
        "  q, k, v must have matching leading dimensions.\n",
        "  k, v must have matching penultimate dimension, i.e.: seq_len_k = seq_len_v.\n",
        "  The mask has different shapes depending on its type(padding or look ahead)\n",
        "  but it must be broadcastable for addition.\n",
        "\n",
        "  Args:\n",
        "    q: query shape == (..., seq_len_q, depth) (number of heads,ts,64)\n",
        "    k: key shape == (..., seq_len_k, depth)   (number of heads,ts,64)\n",
        "    v: value shape == (..., seq_len_v, depth_v) (number of heads,ts,64)\n",
        "    mask: Float tensor with shape broadcastable  (1,1,ts) or (ts,ts)\n",
        "          to (..., seq_len_q, seq_len_k). Defaults to None.\n",
        "\n",
        "  Returns:\n",
        "    output, attention_weights\n",
        "  \"\"\"\n",
        "\n",
        "  matmul_qk = tf.matmul(q, k, transpose_b=True)  # (..., seq_len_q, seq_len_k)\n",
        "\n",
        "  # scale matmul_qk\n",
        "  dk = tf.cast(tf.shape(k)[-1], tf.float32)\n",
        "  scaled_attention_logits = matmul_qk / tf.math.sqrt(dk)\n",
        "\n",
        "  # add the mask to the scaled tensor.\n",
        "  if mask is not None:\n",
        "    scaled_attention_logits += (mask * -1e9)\n",
        "\n",
        "  # softmax is normalized on the last axis (seq_len_k) so that the scores\n",
        "  # add up to 1.\n",
        "  attention_weights = tf.nn.softmax(scaled_attention_logits, axis=-1)  # (..., seq_len_q, seq_len_k) (number of heads,ts,ts)\n",
        "\n",
        "  output = tf.matmul(attention_weights, v)  # (..., seq_len_q, depth_v) (number of heads,ts,64)\n",
        "\n",
        "  return output, attention_weights"
      ]
    },
    {
      "cell_type": "code",
      "execution_count": null,
      "metadata": {
        "id": "EBkMOuMcg656"
      },
      "outputs": [],
      "source": [
        "class MultiHeadAttention(tf.keras.layers.Layer):\n",
        "  def __init__(self, d_model, num_heads):\n",
        "    super(MultiHeadAttention, self).__init__()\n",
        "    self.num_heads = num_heads  #8\n",
        "    self.d_model = d_model #512\n",
        "\n",
        "    assert d_model % self.num_heads == 0\n",
        "\n",
        "    self.depth = d_model // self.num_heads\n",
        "\n",
        "    self.wq = tf.keras.layers.Dense(d_model) #(ts,512)\n",
        "    self.wk = tf.keras.layers.Dense(d_model) #(ts,512)\n",
        "    self.wv = tf.keras.layers.Dense(d_model) #(ts,512)\n",
        "\n",
        "    self.dense = tf.keras.layers.Dense(d_model) # scale_dot_attention후 concatenate한 attention (ts,512)를 Dense에 통과하기 위함\n",
        "\n",
        "  def split_heads(self, x, batch_size):\n",
        "    \"\"\"Split the last dimension into (num_heads, depth).\n",
        "    Transpose the result such that the shape is (batch_size, num_heads, seq_len, depth)\n",
        "    (batch,ts,512)를 (batch,ts,heads(8), depth(64))로 reshape한후 (batch,heads,ts,depth)로 반환하는 함수\n",
        "    \"\"\"\n",
        "    x = tf.reshape(x, (batch_size, -1, self.num_heads, self.depth))\n",
        "    return tf.transpose(x, perm=[0, 2, 1, 3])\n",
        "\n",
        "  def call(self, v, k, q, mask):\n",
        "    batch_size = tf.shape(q)[0]\n",
        "\n",
        "    q = self.wq(q)  # (batch_size, ts, 512) 여기에서 512=d_model=embedding_size\n",
        "    k = self.wk(k)  # (batch_size, ts, 512)\n",
        "    v = self.wv(v)  # (batch_size, ts, 512)\n",
        "\n",
        "    q = self.split_heads(q, batch_size)  # (batch_size, num_heads, seq_len_q, depth) depth=64, num_heads=8,seq_len_q=ts \n",
        "    k = self.split_heads(k, batch_size)  # (batch_size, num_heads, seq_len_k, depth) depth=64, num_heads=8,seq_len_k=ts \n",
        "    v = self.split_heads(v, batch_size)  # (batch_size, num_heads, seq_len_v, depth) depth=64, num_heads=8,seq_len_v=ts \n",
        "\n",
        "    # scaled_attention.shape == (batch_size, num_heads, seq_len_q, depth)\n",
        "    # attention_weights.shape == (batch_size, num_heads, seq_len_q, seq_len_k)\n",
        "    scaled_attention, attention_weights = scaled_dot_product_attention(\n",
        "        q, k, v, mask)\n",
        "\n",
        "    scaled_attention = tf.transpose(scaled_attention, perm=[0, 2, 1, 3])  # (batch_size, seq_len_q, num_heads, depth)\n",
        "\n",
        "    concat_attention = tf.reshape(scaled_attention,\n",
        "                                  (batch_size, -1, self.d_model))  # (batch_size, seq_len_q, d_model)\n",
        "\n",
        "    output = self.dense(concat_attention)  # (batch_size, seq_len_q, d_model)\n",
        "\n",
        "    return output, attention_weights"
      ]
    },
    {
      "cell_type": "code",
      "execution_count": null,
      "metadata": {
        "id": "OCUwEzCag657"
      },
      "outputs": [],
      "source": [
        "def point_wise_feed_forward_network(d_model, dff):\n",
        "  return tf.keras.Sequential([\n",
        "      tf.keras.layers.Dense(dff, activation='relu'),  # (batch_size, seq_len, dff) seq_len=ts\n",
        "      tf.keras.layers.Dense(d_model)  # (batch_size, seq_len, d_model) d_model=512\n",
        "  ])"
      ]
    },
    {
      "cell_type": "code",
      "execution_count": null,
      "metadata": {
        "id": "v1J20LA4g658"
      },
      "outputs": [],
      "source": [
        "class EncoderLayer(tf.keras.layers.Layer):\n",
        "  def __init__(self, d_model, num_heads, dff, rate=0.1):\n",
        "    super(EncoderLayer, self).__init__()\n",
        "\n",
        "    self.mha = MultiHeadAttention(d_model, num_heads)\n",
        "    self.ffn = point_wise_feed_forward_network(d_model, dff)\n",
        "\n",
        "    self.layernorm1 = tf.keras.layers.LayerNormalization(epsilon=1e-6)\n",
        "    self.layernorm2 = tf.keras.layers.LayerNormalization(epsilon=1e-6)\n",
        "\n",
        "    self.dropout1 = tf.keras.layers.Dropout(rate)\n",
        "    self.dropout2 = tf.keras.layers.Dropout(rate)\n",
        "\n",
        "  def call(self, x, mask):\n",
        "\n",
        "    attn_output, _ = self.mha(x, x, x, mask)  # (batch_size, input_seq_len, d_model) input_seq_len=input_ts, d_model=512\n",
        "    attn_output = self.dropout1(attn_output)\n",
        "    out1 = self.layernorm1(x + attn_output)  # (batch_size, input_seq_len, d_model)\n",
        "\n",
        "    ffn_output = self.ffn(out1)  # (batch_size, input_seq_len, d_model)\n",
        "    ffn_output = self.dropout2(ffn_output)\n",
        "    out2 = self.layernorm2(out1 + ffn_output)  # (batch_size, input_seq_len, d_model)\n",
        "\n",
        "    return out2"
      ]
    },
    {
      "cell_type": "code",
      "execution_count": null,
      "metadata": {
        "id": "ysieGQ0mg659"
      },
      "outputs": [],
      "source": [
        "class DecoderLayer(tf.keras.layers.Layer):\n",
        "  def __init__(self, d_model, num_heads, dff, rate=0.1):\n",
        "    super(DecoderLayer, self).__init__()\n",
        "\n",
        "    self.mha1 = MultiHeadAttention(d_model, num_heads)\n",
        "    self.mha2 = MultiHeadAttention(d_model, num_heads)\n",
        "\n",
        "    self.ffn = point_wise_feed_forward_network(d_model, dff)\n",
        "\n",
        "    self.layernorm1 = tf.keras.layers.LayerNormalization(epsilon=1e-6)\n",
        "    self.layernorm2 = tf.keras.layers.LayerNormalization(epsilon=1e-6)\n",
        "    self.layernorm3 = tf.keras.layers.LayerNormalization(epsilon=1e-6)\n",
        "\n",
        "    self.dropout1 = tf.keras.layers.Dropout(rate)\n",
        "    self.dropout2 = tf.keras.layers.Dropout(rate)\n",
        "    self.dropout3 = tf.keras.layers.Dropout(rate)\n",
        "\n",
        "  def call(self, x, enc_output, look_ahead_mask, padding_mask):\n",
        "    # enc_output.shape == (batch_size, input_seq_len, d_model) x: decoder input\n",
        "\n",
        "    attn1, attn_weights_block1 = self.mha1(x, x, x, look_ahead_mask)  # (batch_size, target_seq_len, d_model) \n",
        "    attn1 = self.dropout1(attn1)                   #targer_seq_len=decoder_input_ts\n",
        "    out1 = self.layernorm1(attn1 + x)\n",
        "\n",
        "    attn2, attn_weights_block2 = self.mha2(enc_output, enc_output, out1, padding_mask) \n",
        "    attn2 = self.dropout2(attn2)\n",
        "    out2 = self.layernorm2(attn2 + out1)  # (batch_size, target_seq_len, d_model) #target_seq_len=decoder_input_ts\n",
        "\n",
        "    ffn_output = self.ffn(out2)  # (batch_size, target_seq_len, d_model)\n",
        "    ffn_output = self.dropout3(ffn_output)\n",
        "    out3 = self.layernorm3(ffn_output + out2)  # (batch_size, target_seq_len, d_model)\n",
        "\n",
        "    return out3, attn_weights_block1, attn_weights_block2"
      ]
    },
    {
      "cell_type": "code",
      "execution_count": null,
      "metadata": {
        "id": "kKfxEEUBg65-"
      },
      "outputs": [],
      "source": [
        "class Encoder(tf.keras.layers.Layer):\n",
        "  def __init__(self, num_layers, d_model, num_heads, dff, input_vocab_size,\n",
        "               maximum_position_encoding, rate=0.1):\n",
        "    super(Encoder, self).__init__()\n",
        "\n",
        "    self.d_model = d_model\n",
        "    self.num_layers = num_layers\n",
        "\n",
        "    self.embedding = tf.keras.layers.Embedding(input_vocab_size, d_model)\n",
        "    self.pos_encoding = positional_encoding(maximum_position_encoding,\n",
        "                                            self.d_model)\n",
        "\n",
        "    self.enc_layers = [EncoderLayer(d_model, num_heads, dff, rate)\n",
        "                       for _ in range(num_layers)]\n",
        "\n",
        "    self.dropout = tf.keras.layers.Dropout(rate)\n",
        "\n",
        "  def call(self, x, mask):\n",
        "\n",
        "    seq_len = tf.shape(x)[1]  #x는 tokenized sentence with padding\n",
        "\n",
        "    # adding embedding and position encoding.\n",
        "    x = self.embedding(x)  # (batch_size, input_seq_len, d_model)\n",
        "    x *= tf.math.sqrt(tf.cast(self.d_model, tf.float32))\n",
        "    x += self.pos_encoding[:, :seq_len, :]\n",
        "\n",
        "    x = self.dropout(x)\n",
        "\n",
        "    for i in range(self.num_layers):\n",
        "      x = self.enc_layers[i](x, mask)\n",
        "\n",
        "    return x  # (batch_size, input_seq_len, d_model)"
      ]
    },
    {
      "cell_type": "code",
      "execution_count": null,
      "metadata": {
        "id": "Fgf4m5oLg65_"
      },
      "outputs": [],
      "source": [
        "class Decoder(tf.keras.layers.Layer):\n",
        "  def __init__(self, num_layers, d_model, num_heads, dff, target_vocab_size,\n",
        "               maximum_position_encoding, rate=0.1):\n",
        "    super(Decoder, self).__init__()\n",
        "\n",
        "    self.d_model = d_model\n",
        "    self.num_layers = num_layers\n",
        "\n",
        "    self.embedding = tf.keras.layers.Embedding(target_vocab_size, d_model)\n",
        "    self.pos_encoding = positional_encoding(maximum_position_encoding, d_model)\n",
        "\n",
        "    self.dec_layers = [DecoderLayer(d_model, num_heads, dff, rate)\n",
        "                       for _ in range(num_layers)]\n",
        "    self.dropout = tf.keras.layers.Dropout(rate)\n",
        "\n",
        "  def call(self, x, enc_output, look_ahead_mask, padding_mask):\n",
        "\n",
        "    seq_len = tf.shape(x)[1]\n",
        "    attention_weights = {}\n",
        "\n",
        "    x = self.embedding(x)  # (batch_size, target_seq_len, d_model)\n",
        "    x *= tf.math.sqrt(tf.cast(self.d_model, tf.float32))\n",
        "    x += self.pos_encoding[:, :seq_len, :]\n",
        "\n",
        "    x = self.dropout(x)\n",
        "\n",
        "    for i in range(self.num_layers):\n",
        "      x, block1, block2 = self.dec_layers[i](x, enc_output,look_ahead_mask, padding_mask)\n",
        "\n",
        "      attention_weights[f'decoder_layer{i+1}_block1'] = block1\n",
        "      attention_weights[f'decoder_layer{i+1}_block2'] = block2\n",
        "\n",
        "    # x.shape == (batch_size, target_seq_len, d_model)\n",
        "    return x, attention_weights"
      ]
    },
    {
      "cell_type": "code",
      "execution_count": null,
      "metadata": {
        "id": "Qvsxb1HEg66A"
      },
      "outputs": [],
      "source": [
        "def transformer(num_layers, d_model, num_heads, dff, input_vocab_size,\n",
        "               target_vocab_size, ts_input, ts_target, rate=0.1):\n",
        "    \n",
        "    enc_input = tf.keras.Input(shape=(None,))  \n",
        "    dec_input = tf.keras.Input(shape=(None,))\n",
        "    \n",
        "    enc_padding_mask=tf.keras.layers.Lambda(create_padding_mask,output_shape=(1,1,None))(enc_input)\n",
        "    look_ahead_mask=tf.keras.layers.Lambda(create_look_ahead_mask,output_shape=(1,None,None))(dec_input)\n",
        "    dec_padding_mask=tf.keras.layers.Lambda(create_padding_mask,output_shape=(1,1,None))(enc_input)\n",
        "    \n",
        "    enc_output=Encoder(num_layers, d_model, num_heads, dff,\n",
        "                             input_vocab_size, ts_input, rate)(enc_input,enc_padding_mask)\n",
        "    dec_output,_ =Decoder(num_layers, d_model, num_heads, dff,\n",
        "                           target_vocab_size, ts_target, rate)(dec_input,enc_output,look_ahead_mask,dec_padding_mask)\n",
        "    outputs=tf.keras.layers.Dense(target_vocab_size)(dec_output)\n",
        "    \n",
        "    return tf.keras.Model(inputs=[enc_input, dec_input], outputs=outputs)\n",
        "    "
      ]
    },
    {
      "cell_type": "code",
      "execution_count": null,
      "metadata": {
        "id": "Sx1q0Afmg66B"
      },
      "outputs": [],
      "source": [
        "loss_object = tf.keras.losses.SparseCategoricalCrossentropy(\n",
        "    from_logits=True, reduction='none')"
      ]
    },
    {
      "cell_type": "code",
      "execution_count": null,
      "metadata": {
        "id": "4RtxFOYLg66C"
      },
      "outputs": [],
      "source": [
        "def loss_function(y_true, y_pred):\n",
        "  mask = tf.math.logical_not(tf.math.equal(y_true, 0))\n",
        "  loss_ = loss_object(y_true, y_pred)\n",
        "\n",
        "  mask = tf.cast(mask, dtype=loss_.dtype)\n",
        "  loss_ *= mask\n",
        "\n",
        "  return tf.reduce_sum(loss_)/tf.reduce_sum(mask) #padding을 제외한 loss\n",
        "\n",
        "\n",
        "def accuracy_function(y_true, y_pred):\n",
        "  y_hat=tf.cast(tf.argmax(y_pred,axis=2), dtype=tf.float32) #y_true가 float32이기 때문\n",
        "  accuracies = tf.equal(y_true, y_hat)\n",
        "  #accuracies = tf.equal(y_true, tf.argmax(y_pred, axis=2)) #True, False로 출력\n",
        "\n",
        "  mask = tf.math.logical_not(tf.math.equal(y_true, 0))\n",
        "  accuracies = tf.math.logical_and(mask, accuracies) #둘다 true일 때만 True\n",
        "\n",
        "  accuracies = tf.cast(accuracies, dtype=tf.float32)\n",
        "  mask = tf.cast(mask, dtype=tf.float32)\n",
        "  return tf.reduce_sum(accuracies)/tf.reduce_sum(mask)\n",
        "\n",
        "def accuracy(y_true,y_pred):\n",
        "    return tf.keras.metrics.sparse_categorical_accuracy(y_true, y_pred)\n"
      ]
    },
    {
      "cell_type": "markdown",
      "source": [
        "## 모델1:"
      ],
      "metadata": {
        "id": "Dp0S40zcijHV"
      }
    },
    {
      "cell_type": "markdown",
      "source": [
        "**d_model** :트랜스포머의 인코더와 디코더에서의 정해진 입력과 출력의 크기 , 임베딩 벡터의 차원\n",
        "\n",
        "**num_layer** : 인코더와 디코더가 총 몇 층으로 구성되었는지를 의미\n",
        "\n",
        "**num_head** : 텐션을 사용할 때, 한 번 하는 것 보다 여러 개로 분할해서 병렬로 어텐션을 수행하고 결과값을 다시 하나로 합치는 방식을 택했습니다. 이때 이 병렬의 개수\n",
        "\n",
        "**dff** : 트랜스포머 내부에는 피드 포워드 신경망이 존재하며 해당 신경망의 은닉층의 크기"
      ],
      "metadata": {
        "id": "pmDsoVS2lb-e"
      }
    },
    {
      "cell_type": "code",
      "execution_count": null,
      "metadata": {
        "colab": {
          "base_uri": "https://localhost:8080/"
        },
        "id": "dwmUOStXg66D",
        "outputId": "409000e0-2259-4578-c7bd-14ad831c96e0"
      },
      "outputs": [
        {
          "output_type": "stream",
          "name": "stdout",
          "text": [
            "Epoch 1/30\n",
            "370/370 [==============================] - 30s 46ms/step - loss: 6.8055 - accuracy_function: 0.1771\n",
            "Epoch 2/30\n",
            "370/370 [==============================] - 17s 45ms/step - loss: 5.9313 - accuracy_function: 0.1903\n",
            "Epoch 3/30\n",
            "370/370 [==============================] - 17s 46ms/step - loss: 5.6811 - accuracy_function: 0.2004\n",
            "Epoch 4/30\n",
            "370/370 [==============================] - 18s 48ms/step - loss: 5.5260 - accuracy_function: 0.2082\n",
            "Epoch 5/30\n",
            "370/370 [==============================] - 17s 45ms/step - loss: 5.3869 - accuracy_function: 0.2168\n",
            "Epoch 6/30\n",
            "370/370 [==============================] - 25s 67ms/step - loss: 5.2139 - accuracy_function: 0.2262\n",
            "Epoch 7/30\n",
            "370/370 [==============================] - 17s 45ms/step - loss: 5.0480 - accuracy_function: 0.2344\n",
            "Epoch 8/30\n",
            "370/370 [==============================] - 17s 45ms/step - loss: 4.9147 - accuracy_function: 0.2415\n",
            "Epoch 9/30\n",
            "370/370 [==============================] - 17s 46ms/step - loss: 4.8070 - accuracy_function: 0.2459\n",
            "Epoch 10/30\n",
            "370/370 [==============================] - 16s 44ms/step - loss: 4.7020 - accuracy_function: 0.2503\n",
            "Epoch 11/30\n",
            "370/370 [==============================] - 17s 45ms/step - loss: 4.5855 - accuracy_function: 0.2598\n",
            "Epoch 12/30\n",
            "370/370 [==============================] - 18s 49ms/step - loss: 4.4700 - accuracy_function: 0.2678\n",
            "Epoch 13/30\n",
            "370/370 [==============================] - 18s 47ms/step - loss: 4.3700 - accuracy_function: 0.2742\n",
            "Epoch 14/30\n",
            "370/370 [==============================] - 17s 46ms/step - loss: 4.2772 - accuracy_function: 0.2810\n",
            "Epoch 15/30\n",
            "370/370 [==============================] - 17s 46ms/step - loss: 4.1768 - accuracy_function: 0.2874\n",
            "Epoch 16/30\n",
            "370/370 [==============================] - 18s 48ms/step - loss: 4.1080 - accuracy_function: 0.2928\n",
            "Epoch 17/30\n",
            "370/370 [==============================] - 17s 45ms/step - loss: 4.0253 - accuracy_function: 0.2986\n",
            "Epoch 18/30\n",
            "370/370 [==============================] - 16s 44ms/step - loss: 3.9623 - accuracy_function: 0.3036\n",
            "Epoch 19/30\n",
            "370/370 [==============================] - 17s 45ms/step - loss: 3.8997 - accuracy_function: 0.3083\n",
            "Epoch 20/30\n",
            "370/370 [==============================] - 17s 45ms/step - loss: 3.8367 - accuracy_function: 0.3152\n",
            "Epoch 21/30\n",
            "370/370 [==============================] - 17s 47ms/step - loss: 3.7872 - accuracy_function: 0.3184\n",
            "Epoch 22/30\n",
            "370/370 [==============================] - 17s 46ms/step - loss: 3.7550 - accuracy_function: 0.3212\n",
            "Epoch 23/30\n",
            "370/370 [==============================] - 17s 46ms/step - loss: 3.6943 - accuracy_function: 0.3279\n",
            "Epoch 24/30\n",
            "370/370 [==============================] - 16s 44ms/step - loss: 3.6689 - accuracy_function: 0.3305\n",
            "Epoch 25/30\n",
            "370/370 [==============================] - 17s 45ms/step - loss: 3.6197 - accuracy_function: 0.3363\n",
            "Epoch 26/30\n",
            "370/370 [==============================] - 17s 46ms/step - loss: 3.5744 - accuracy_function: 0.3404\n",
            "Epoch 27/30\n",
            "370/370 [==============================] - 17s 45ms/step - loss: 3.5316 - accuracy_function: 0.3458\n",
            "Epoch 28/30\n",
            "370/370 [==============================] - 17s 46ms/step - loss: 3.5240 - accuracy_function: 0.3463\n",
            "Epoch 29/30\n",
            "370/370 [==============================] - 17s 46ms/step - loss: 3.4649 - accuracy_function: 0.3548\n",
            "Epoch 30/30\n",
            "370/370 [==============================] - 17s 46ms/step - loss: 3.4174 - accuracy_function: 0.3595\n"
          ]
        },
        {
          "output_type": "execute_result",
          "data": {
            "text/plain": [
              "<keras.callbacks.History at 0x7fdedf1063d0>"
            ]
          },
          "metadata": {},
          "execution_count": 28
        }
      ],
      "source": [
        "model=transformer(num_layers=3,d_model=128,num_heads=4,dff=256, \n",
        "                  input_vocab_size=VOCAB_SIZE-2, target_vocab_size=VOCAB_SIZE,ts_input=20,ts_target=28,rate=0.1)\n",
        "optimizer = tf.keras.optimizers.Adam()\n",
        "model.compile(optimizer=optimizer, loss=loss_function, metrics=[accuracy_function])\n",
        "model.fit(data_final,epochs=30)"
      ]
    },
    {
      "cell_type": "markdown",
      "source": [
        "## 모델2: num_layers = 1"
      ],
      "metadata": {
        "id": "Rg1FBNmgkGYl"
      }
    },
    {
      "cell_type": "code",
      "execution_count": null,
      "metadata": {
        "colab": {
          "base_uri": "https://localhost:8080/"
        },
        "outputId": "51f609c1-a45e-4de2-ca4b-ebeec7969238",
        "id": "QpjILxwBkBIo"
      },
      "outputs": [
        {
          "output_type": "stream",
          "name": "stdout",
          "text": [
            "Epoch 1/30\n",
            "370/370 [==============================] - 16s 23ms/step - loss: 6.5594 - accuracy_function: 0.1953\n",
            "Epoch 2/30\n",
            "370/370 [==============================] - 8s 23ms/step - loss: 5.1338 - accuracy_function: 0.2658\n",
            "Epoch 3/30\n",
            "370/370 [==============================] - 8s 23ms/step - loss: 4.0328 - accuracy_function: 0.3655\n",
            "Epoch 4/30\n",
            "370/370 [==============================] - 8s 23ms/step - loss: 3.0899 - accuracy_function: 0.4579\n",
            "Epoch 5/30\n",
            "370/370 [==============================] - 9s 23ms/step - loss: 2.3425 - accuracy_function: 0.5491\n",
            "Epoch 6/30\n",
            "370/370 [==============================] - 9s 23ms/step - loss: 1.7275 - accuracy_function: 0.6446\n",
            "Epoch 7/30\n",
            "370/370 [==============================] - 9s 23ms/step - loss: 1.2672 - accuracy_function: 0.7220\n",
            "Epoch 8/30\n",
            "370/370 [==============================] - 9s 24ms/step - loss: 0.9423 - accuracy_function: 0.7808\n",
            "Epoch 9/30\n",
            "370/370 [==============================] - 9s 24ms/step - loss: 0.7069 - accuracy_function: 0.8273\n",
            "Epoch 10/30\n",
            "370/370 [==============================] - 8s 22ms/step - loss: 0.5596 - accuracy_function: 0.8590\n",
            "Epoch 11/30\n",
            "370/370 [==============================] - 8s 22ms/step - loss: 0.4573 - accuracy_function: 0.8817\n",
            "Epoch 12/30\n",
            "370/370 [==============================] - 8s 23ms/step - loss: 0.3921 - accuracy_function: 0.8955\n",
            "Epoch 13/30\n",
            "370/370 [==============================] - 8s 23ms/step - loss: 0.3500 - accuracy_function: 0.9068\n",
            "Epoch 14/30\n",
            "370/370 [==============================] - 8s 22ms/step - loss: 0.3237 - accuracy_function: 0.9119\n",
            "Epoch 15/30\n",
            "370/370 [==============================] - 8s 23ms/step - loss: 0.2862 - accuracy_function: 0.9214\n",
            "Epoch 16/30\n",
            "370/370 [==============================] - 8s 23ms/step - loss: 0.2616 - accuracy_function: 0.9272\n",
            "Epoch 17/30\n",
            "370/370 [==============================] - 8s 23ms/step - loss: 0.2497 - accuracy_function: 0.9308\n",
            "Epoch 18/30\n",
            "370/370 [==============================] - 8s 22ms/step - loss: 0.2404 - accuracy_function: 0.9336\n",
            "Epoch 19/30\n",
            "370/370 [==============================] - 9s 23ms/step - loss: 0.2316 - accuracy_function: 0.9351\n",
            "Epoch 20/30\n",
            "370/370 [==============================] - 9s 23ms/step - loss: 0.2258 - accuracy_function: 0.9370\n",
            "Epoch 21/30\n",
            "370/370 [==============================] - 8s 23ms/step - loss: 0.2100 - accuracy_function: 0.9409\n",
            "Epoch 22/30\n",
            "370/370 [==============================] - 8s 23ms/step - loss: 0.2034 - accuracy_function: 0.9430\n",
            "Epoch 23/30\n",
            "370/370 [==============================] - 8s 22ms/step - loss: 0.1991 - accuracy_function: 0.9444\n",
            "Epoch 24/30\n",
            "370/370 [==============================] - 8s 22ms/step - loss: 0.1944 - accuracy_function: 0.9452\n",
            "Epoch 25/30\n",
            "370/370 [==============================] - 8s 23ms/step - loss: 0.1891 - accuracy_function: 0.9476\n",
            "Epoch 26/30\n",
            "370/370 [==============================] - 8s 22ms/step - loss: 0.1753 - accuracy_function: 0.9507\n",
            "Epoch 27/30\n",
            "370/370 [==============================] - 8s 23ms/step - loss: 0.1741 - accuracy_function: 0.9510\n",
            "Epoch 28/30\n",
            "370/370 [==============================] - 8s 23ms/step - loss: 0.1759 - accuracy_function: 0.9498\n",
            "Epoch 29/30\n",
            "370/370 [==============================] - 9s 24ms/step - loss: 0.1695 - accuracy_function: 0.9519\n",
            "Epoch 30/30\n",
            "370/370 [==============================] - 8s 22ms/step - loss: 0.1723 - accuracy_function: 0.9519\n"
          ]
        },
        {
          "output_type": "execute_result",
          "data": {
            "text/plain": [
              "<keras.callbacks.History at 0x7f6da2e257d0>"
            ]
          },
          "metadata": {},
          "execution_count": 28
        }
      ],
      "source": [
        "model=transformer(num_layers=1,d_model=128,num_heads=4,dff=256, \n",
        "                  input_vocab_size=VOCAB_SIZE-2, target_vocab_size=VOCAB_SIZE,ts_input=20,ts_target=28,rate=0.1)\n",
        "optimizer = tf.keras.optimizers.Adam()\n",
        "model.compile(optimizer=optimizer, loss=loss_function, metrics=[accuracy_function])\n",
        "model.fit(data_final,epochs=30)"
      ]
    },
    {
      "cell_type": "markdown",
      "source": [
        "## 모델3: dff = 128 (은닉층 크기)"
      ],
      "metadata": {
        "id": "SpipboeMkNcK"
      }
    },
    {
      "cell_type": "code",
      "execution_count": null,
      "metadata": {
        "colab": {
          "base_uri": "https://localhost:8080/"
        },
        "outputId": "8e54bdde-1f46-4064-c231-8d1ec13b0a40",
        "id": "-7g7NErgkM4b"
      },
      "outputs": [
        {
          "output_type": "stream",
          "name": "stdout",
          "text": [
            "Epoch 1/30\n",
            "370/370 [==============================] - 18s 33ms/step - loss: 6.5414 - accuracy_function: 0.1959\n",
            "Epoch 2/30\n",
            "370/370 [==============================] - 8s 22ms/step - loss: 5.0832 - accuracy_function: 0.2703\n",
            "Epoch 3/30\n",
            "370/370 [==============================] - 8s 22ms/step - loss: 3.9720 - accuracy_function: 0.3687\n",
            "Epoch 4/30\n",
            "370/370 [==============================] - 8s 22ms/step - loss: 3.0387 - accuracy_function: 0.4591\n",
            "Epoch 5/30\n",
            "370/370 [==============================] - 8s 22ms/step - loss: 2.2919 - accuracy_function: 0.5556\n",
            "Epoch 6/30\n",
            "370/370 [==============================] - 8s 23ms/step - loss: 1.6868 - accuracy_function: 0.6478\n",
            "Epoch 7/30\n",
            "370/370 [==============================] - 9s 23ms/step - loss: 1.2220 - accuracy_function: 0.7266\n",
            "Epoch 8/30\n",
            "370/370 [==============================] - 8s 22ms/step - loss: 0.8880 - accuracy_function: 0.7895\n",
            "Epoch 9/30\n",
            "370/370 [==============================] - 9s 24ms/step - loss: 0.6683 - accuracy_function: 0.8349\n",
            "Epoch 10/30\n",
            "370/370 [==============================] - 8s 22ms/step - loss: 0.5319 - accuracy_function: 0.8644\n",
            "Epoch 11/30\n",
            "370/370 [==============================] - 9s 23ms/step - loss: 0.4268 - accuracy_function: 0.8906\n",
            "Epoch 12/30\n",
            "370/370 [==============================] - 8s 22ms/step - loss: 0.3677 - accuracy_function: 0.9038\n",
            "Epoch 13/30\n",
            "370/370 [==============================] - 8s 23ms/step - loss: 0.3342 - accuracy_function: 0.9093\n",
            "Epoch 14/30\n",
            "370/370 [==============================] - 9s 23ms/step - loss: 0.3032 - accuracy_function: 0.9178\n",
            "Epoch 15/30\n",
            "370/370 [==============================] - 9s 23ms/step - loss: 0.2777 - accuracy_function: 0.9240\n",
            "Epoch 16/30\n",
            "370/370 [==============================] - 8s 22ms/step - loss: 0.2657 - accuracy_function: 0.9275\n",
            "Epoch 17/30\n",
            "370/370 [==============================] - 8s 22ms/step - loss: 0.2411 - accuracy_function: 0.9338\n",
            "Epoch 18/30\n",
            "370/370 [==============================] - 8s 22ms/step - loss: 0.2307 - accuracy_function: 0.9363\n",
            "Epoch 19/30\n",
            "370/370 [==============================] - 8s 22ms/step - loss: 0.2278 - accuracy_function: 0.9363\n",
            "Epoch 20/30\n",
            "370/370 [==============================] - 8s 23ms/step - loss: 0.2186 - accuracy_function: 0.9395\n",
            "Epoch 21/30\n",
            "370/370 [==============================] - 8s 22ms/step - loss: 0.2031 - accuracy_function: 0.9432\n",
            "Epoch 22/30\n",
            "370/370 [==============================] - 8s 22ms/step - loss: 0.1970 - accuracy_function: 0.9442\n",
            "Epoch 23/30\n",
            "370/370 [==============================] - 8s 23ms/step - loss: 0.1950 - accuracy_function: 0.9460\n",
            "Epoch 24/30\n",
            "370/370 [==============================] - 8s 22ms/step - loss: 0.1840 - accuracy_function: 0.9482\n",
            "Epoch 25/30\n",
            "370/370 [==============================] - 8s 22ms/step - loss: 0.1794 - accuracy_function: 0.9487\n",
            "Epoch 26/30\n",
            "370/370 [==============================] - 9s 24ms/step - loss: 0.1772 - accuracy_function: 0.9508\n",
            "Epoch 27/30\n",
            "370/370 [==============================] - 8s 22ms/step - loss: 0.1815 - accuracy_function: 0.9502\n",
            "Epoch 28/30\n",
            "370/370 [==============================] - 8s 22ms/step - loss: 0.1625 - accuracy_function: 0.9554\n",
            "Epoch 29/30\n",
            "370/370 [==============================] - 8s 22ms/step - loss: 0.1601 - accuracy_function: 0.9558\n",
            "Epoch 30/30\n",
            "370/370 [==============================] - 8s 22ms/step - loss: 0.1575 - accuracy_function: 0.9554\n"
          ]
        },
        {
          "output_type": "execute_result",
          "data": {
            "text/plain": [
              "<keras.callbacks.History at 0x7fd5a13dd810>"
            ]
          },
          "metadata": {},
          "execution_count": 28
        }
      ],
      "source": [
        "model=transformer(num_layers=1,d_model=128,num_heads=4,dff=128, \n",
        "                  input_vocab_size=VOCAB_SIZE-2, target_vocab_size=VOCAB_SIZE,ts_input=20,ts_target=28,rate=0.1)\n",
        "optimizer = tf.keras.optimizers.Adam()\n",
        "model.compile(optimizer=optimizer, loss=loss_function, metrics=[accuracy_function])\n",
        "model.fit(data_final,epochs=30)"
      ]
    },
    {
      "cell_type": "markdown",
      "source": [
        "## 결과"
      ],
      "metadata": {
        "id": "L65O_UJNk17b"
      }
    },
    {
      "cell_type": "code",
      "execution_count": null,
      "metadata": {
        "id": "c3_A8xUMg66E"
      },
      "outputs": [],
      "source": [
        "def evaluate(sentence):\n",
        "  sentence_1 = preprocess_sentence(sentence)\n",
        "  token_sentence=[]\n",
        "  t_sentence=tokenizer.encode(sentence_1)\n",
        "  token_sentence.append(t_sentence)\n",
        "  encoder_input=tf.keras.preprocessing.sequence.pad_sequences(token_sentence, maxlen=20, padding='post')\n",
        "  print(encoder_input)\n",
        "  decoder_input_pred=np.zeros((1,max_length_a-1),dtype='int32')\n",
        "  word=START_TOKEN[0]\n",
        "  for i in range(max_length_a-1):\n",
        "     decoder_input_pred[:,i]=word\n",
        "     pred=model.predict((encoder_input,decoder_input_pred))\n",
        "     t=np.argmax(pred[0][i])\n",
        "     word=t\n",
        "     if word == END_TOKEN:\n",
        "          break\n",
        "  print(pred.shape)\n",
        "  print(decoder_input_pred)\n",
        "  \n",
        "  return encoder_input, decoder_input_pred\n",
        "  "
      ]
    },
    {
      "cell_type": "code",
      "execution_count": null,
      "metadata": {
        "id": "ajPPEdDfg66F"
      },
      "outputs": [],
      "source": [
        "def predict(sentence):\n",
        "  encode_input, decode_input = evaluate(sentence)\n",
        "  \n",
        "  t=model.predict([encode_input,decode_input])\n",
        "  prediction=np.argmax(t,axis=2)\n",
        "  print(prediction)\n",
        "  print(prediction.shape)\n",
        "  prediction=tf.squeeze(prediction,axis=0)  \n",
        "  #prediction_sentence=tokenizer.decode(prediction)\n",
        "  \n",
        "  predicted_sentence=[]\n",
        "  for i in prediction:\n",
        "    if i>8510:\n",
        "        break\n",
        "    else:\n",
        "        predicted_sentence.append(tokenizer.decode([i]))\n",
        "    \n",
        "        \n",
        "  #predicted_sentence = tokenizer.decode(\n",
        "    #[i for i in list(prediction) if i < 8511])\n",
        "\n",
        "  print('Input: {}'.format(sentence))\n",
        "  print('Output: {}'.format(predicted_sentence))\n",
        "\n",
        "  return predicted_sentence"
      ]
    },
    {
      "cell_type": "code",
      "execution_count": null,
      "metadata": {
        "id": "2Eyq7SN9g66G",
        "outputId": "df90faa4-911a-453b-ac52-56993a6a8f94",
        "colab": {
          "base_uri": "https://localhost:8080/"
        }
      },
      "outputs": [
        {
          "output_type": "stream",
          "name": "stdout",
          "text": [
            "피곤하고 재미없다\n",
            "[[4783   38 6460   70    0    0    0    0    0    0    0    0    0    0\n",
            "     0    0    0    0    0    0]]\n",
            "(1, 28, 8512)\n",
            "[[8510 3812  108 4860  188 3610 7047  209 1551   59   28    0    0    0\n",
            "     0    0    0    0    0    0    0    0    0    0    0    0    0    0]]\n",
            "[[3812  108 4860  188 3610 7047  209 1551   59   28 8511   59   59   59\n",
            "   709  709  709  709  709  709   59   59  709  709  709  709  709  709]]\n",
            "(1, 28)\n",
            "Input: 피곤하고 재미없다.\n",
            "Output: ['활', '기', '찬 ', '사람을 ', '만나보', '시면 ', '생각이 ', '바뀔 ', '수도 ', '있어요']\n"
          ]
        },
        {
          "output_type": "execute_result",
          "data": {
            "text/plain": [
              "['활', '기', '찬 ', '사람을 ', '만나보', '시면 ', '생각이 ', '바뀔 ', '수도 ', '있어요']"
            ]
          },
          "metadata": {},
          "execution_count": 31
        }
      ],
      "source": [
        "exclude=set(string.punctuation)\n",
        "def preprocess_sentence(x):\n",
        "    t=[]\n",
        "    for i in range(len(x)):\n",
        "        if x[i] not in exclude:\n",
        "            t.append(x[i])\n",
        "    #print(t)\n",
        "    x3=''\n",
        "    for i in range(len(t)):\n",
        "        x3=x3+t[i]+''\n",
        "    return x3\n",
        "\n",
        "sentence='피곤하고 재미없다.'\n",
        "sentence_1=preprocess_sentence(sentence)\n",
        "print(sentence_1)\n",
        "\n",
        "predict(sentence)"
      ]
    },
    {
      "cell_type": "code",
      "execution_count": null,
      "metadata": {
        "id": "ZoSbDLKXg66H",
        "outputId": "c3570168-7705-4f1d-aa56-86b5c21f0a44",
        "colab": {
          "base_uri": "https://localhost:8080/"
        }
      },
      "outputs": [
        {
          "output_type": "stream",
          "name": "stdout",
          "text": [
            "[[8305 1433 4683 8286 3666   87    0    0    0    0    0    0    0    0\n",
            "     0    0    0    0    0    0]]\n",
            "(1, 28, 8512)\n",
            "[[8510 3409  762  120    0    0    0    0    0    0    0    0    0    0\n",
            "     0    0    0    0    0    0    0    0    0    0    0    0    0    0]]\n",
            "[[3409  762  120 8511 8511 8511 8511 8511 8511 8511 8511 8511 8511 8511\n",
            "  8511 8511 8511 8511 8511 8511 8511 8511 8511 8511 8511 8511 8511 8511]]\n",
            "(1, 28)\n",
            "Input: 3박4일 놀러가고 싶다\n",
            "Output: ['여행은 ', '언제나 ', '좋죠']\n",
            "[[1770  736  396    0    0    0    0    0    0    0    0    0    0    0\n",
            "     0    0    0    0    0    0]]\n",
            "(1, 28, 8512)\n",
            "[[8510 1770  314  120    0    0    0    0    0    0    0    0    0    0\n",
            "     0    0    0    0    0    0    0    0    0    0    0    0    0    0]]\n",
            "[[1770  314  120 8511 8286 8286 8286 8286 8286 8286 8286 8286 8511 8511\n",
            "  8286 8286 8286 8286 8286 8511 8511 8511 8286 8286 8286 8286 8286 8286]]\n",
            "(1, 28)\n",
            "Input: 카페 갈래\n",
            "Output: ['카페 ', '데이트 ', '좋죠']\n"
          ]
        },
        {
          "output_type": "execute_result",
          "data": {
            "text/plain": [
              "['카페 ', '데이트 ', '좋죠']"
            ]
          },
          "metadata": {},
          "execution_count": 32
        }
      ],
      "source": [
        "predict('3박4일 놀러가고 싶다') \n",
        "predict('카페 갈래')"
      ]
    },
    {
      "cell_type": "code",
      "execution_count": null,
      "metadata": {
        "id": "lUcifOWcg66I",
        "outputId": "705a4b72-e100-4ec5-878c-c138b457a214",
        "colab": {
          "base_uri": "https://localhost:8080/"
        }
      },
      "outputs": [
        {
          "output_type": "stream",
          "name": "stdout",
          "text": [
            "[[8251 1153 3075    0    0    0    0    0    0    0    0    0    0    0\n",
            "     0    0    0    0    0    0]]\n",
            "(1, 28, 8512)\n",
            "[[8510 3857   64 8230    0    0    0    0    0    0    0    0    0    0\n",
            "     0    0    0    0    0    0    0    0    0    0    0    0    0    0]]\n",
            "[[3857   64 8230 8511   22   22   22 8511 8511 8511 8511 8511 8511 8511\n",
            "    31   31 8511 8511 8511 8511   31   31   31 8511   22   96   96   96]]\n",
            "(1, 28)\n",
            "Input: 12시 땡\n",
            "Output: ['하루가 ', '또 ', '가네요']\n",
            "[[8334 8334 8330 8286 4213    0    0    0    0    0    0    0    0    0\n",
            "     0    0    0    0    0    0]]\n",
            "(1, 28, 8512)\n",
            "[[8510  964 2300 1490 2180 4436   40    0    0    0    0    0    0    0\n",
            "     0    0    0    0    0    0    0    0    0    0    0    0    0    0]]\n",
            "[[ 964 2300 1490 2180 4436   40 8511 8286 8286 8286 2180 2180 1524 1524\n",
            "  1490 2180 2180 2180 2180 8286 8286    2    2   22   22 2688 2688 8286]]\n",
            "(1, 28)\n",
            "Input: PPL 심하네\n",
            "Output: ['눈', '살이 ', '찌', '푸', '려지', '죠']\n"
          ]
        },
        {
          "output_type": "execute_result",
          "data": {
            "text/plain": [
              "['눈', '살이 ', '찌', '푸', '려지', '죠']"
            ]
          },
          "metadata": {},
          "execution_count": 33
        }
      ],
      "source": [
        "predict('12시 땡')\n",
        "predict('PPL 심하네')"
      ]
    },
    {
      "cell_type": "code",
      "execution_count": null,
      "metadata": {
        "id": "kij5yoPdg66J",
        "outputId": "c344ed4c-17ae-433a-f7f4-47b60f34a2f9",
        "colab": {
          "base_uri": "https://localhost:8080/"
        }
      },
      "outputs": [
        {
          "output_type": "stream",
          "name": "stdout",
          "text": [
            "[[ 486 1437  280    0    0    0    0    0    0    0    0    0    0    0\n",
            "     0    0    0    0    0    0]]\n",
            "(1, 28, 8512)\n",
            "[[8510 6766 4652    0    0    0    0    0    0    0    0    0    0    0\n",
            "     0    0    0    0    0    0    0    0    0    0    0    0    0    0]]\n",
            "[[6766 4652 8511 8511 8511 8511 8511 8511 8511 8511 8511 8511 8511 8511\n",
            "  8511 8511 8511 8511 8511 8511 8511 8511 8511 8511 8511 8511 8511 8511]]\n",
            "(1, 28)\n",
            "Input: 밥 먹어라\n",
            "Output: ['연락두절돼서 ', '걱정되겠네요']\n"
          ]
        },
        {
          "output_type": "execute_result",
          "data": {
            "text/plain": [
              "['연락두절돼서 ', '걱정되겠네요']"
            ]
          },
          "metadata": {},
          "execution_count": 34
        }
      ],
      "source": [
        "predict('밥 먹어라')"
      ]
    },
    {
      "cell_type": "code",
      "source": [],
      "metadata": {
        "id": "Ka_edWY5ihAy"
      },
      "execution_count": null,
      "outputs": []
    }
  ],
  "metadata": {
    "kernelspec": {
      "display_name": "Python 3",
      "language": "python",
      "name": "python3"
    },
    "language_info": {
      "codemirror_mode": {
        "name": "ipython",
        "version": 3
      },
      "file_extension": ".py",
      "mimetype": "text/x-python",
      "name": "python",
      "nbconvert_exporter": "python",
      "pygments_lexer": "ipython3",
      "version": "3.8.8"
    },
    "colab": {
      "name": "[6주차]Transformer korean chatbot .ipynb",
      "provenance": [],
      "collapsed_sections": [],
      "toc_visible": true
    },
    "accelerator": "GPU",
    "gpuClass": "standard"
  },
  "nbformat": 4,
  "nbformat_minor": 0
}